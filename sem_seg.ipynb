{
  "cells": [
    {
      "cell_type": "markdown",
      "id": "0K9H8Nk-N_Tf",
      "metadata": {
        "id": "0K9H8Nk-N_Tf"
      },
      "source": [
        "# Real-time Domain Adaptation in Semantic Segmentation"
      ]
    },
    {
      "cell_type": "markdown",
      "id": "f722511a",
      "metadata": {
        "id": "f722511a"
      },
      "source": [
        "## Mount drive"
      ]
    },
    {
      "cell_type": "code",
      "execution_count": 1,
      "id": "vVcmrIe_TGGA",
      "metadata": {
        "id": "vVcmrIe_TGGA",
        "outputId": "f589a52f-14e3-4dda-de97-6c876a3e429b",
        "colab": {
          "base_uri": "https://localhost:8080/"
        }
      },
      "outputs": [
        {
          "output_type": "stream",
          "name": "stdout",
          "text": [
            "Mounted at /content/drive\n"
          ]
        }
      ],
      "source": [
        "from google.colab import drive\n",
        "drive.mount('/content/drive')"
      ]
    },
    {
      "cell_type": "markdown",
      "id": "be24ecf1",
      "metadata": {
        "id": "be24ecf1"
      },
      "source": [
        "## Import code"
      ]
    },
    {
      "cell_type": "code",
      "execution_count": null,
      "id": "GrQxrFD9QBIi",
      "metadata": {
        "id": "GrQxrFD9QBIi"
      },
      "outputs": [],
      "source": [
        "!git clone https://github.com/std277/semantic-segmentation-domain-adaptation.git\n",
        "\n",
        "!cp -r ./semantic-segmentation-domain-adaptation/datasets .\n",
        "!cp -r ./semantic-segmentation-domain-adaptation/models .\n",
        "!cp -r ./semantic-segmentation-domain-adaptation/criteria .\n",
        "!cp -r ./semantic-segmentation-domain-adaptation/utils .\n",
        "!cp ./semantic-segmentation-domain-adaptation/get_dataset.bash .\n",
        "!cp ./semantic-segmentation-domain-adaptation/get_weights_pretrained.bash .\n",
        "!cp ./semantic-segmentation-domain-adaptation/sem_seg.py .\n",
        "!cp ./semantic-segmentation-domain-adaptation/sem_seg_da_adv.py .\n",
        "!cp ./semantic-segmentation-domain-adaptation/sem_seg_dacs.py .\n",
        "!cp ./semantic-segmentation-domain-adaptation/sem_seg_dacs_gcw_ldq.py .\n",
        "!cp ./semantic-segmentation-domain-adaptation/augmentations.py .\n",
        "\n",
        "!rm -r ./semantic-segmentation-domain-adaptation\n",
        "!rm -r sample_data"
      ]
    },
    {
      "cell_type": "markdown",
      "id": "d0e497ec",
      "metadata": {
        "id": "d0e497ec"
      },
      "source": [
        "## Packages installation"
      ]
    },
    {
      "cell_type": "code",
      "execution_count": null,
      "id": "5q3A_omGNpCf",
      "metadata": {
        "id": "5q3A_omGNpCf",
        "collapsed": true
      },
      "outputs": [],
      "source": [
        "!pip3 install torch torchvision torchaudio gdown fvcore kornia"
      ]
    },
    {
      "cell_type": "markdown",
      "id": "0302d761",
      "metadata": {
        "id": "0302d761"
      },
      "source": [
        "## Download LoveDA dataset"
      ]
    },
    {
      "cell_type": "code",
      "execution_count": null,
      "id": "5a2f0959",
      "metadata": {
        "id": "5a2f0959",
        "collapsed": true
      },
      "outputs": [],
      "source": [
        "!bash get_dataset.bash"
      ]
    },
    {
      "cell_type": "markdown",
      "id": "b39ac3ab",
      "metadata": {
        "id": "b39ac3ab"
      },
      "source": [
        "# Download weights pretrained"
      ]
    },
    {
      "cell_type": "code",
      "execution_count": 4,
      "id": "ba683512",
      "metadata": {
        "id": "ba683512",
        "collapsed": true,
        "outputId": "64631b63-3585-4d99-a550-406cc92b1308",
        "colab": {
          "base_uri": "https://localhost:8080/"
        }
      },
      "outputs": [
        {
          "output_type": "stream",
          "name": "stdout",
          "text": [
            "Downloading...\n",
            "From (original): https://drive.google.com/uc?id=1ZX0UCXvJwqd2uBGCX7LI2n-DfMg3t74v\n",
            "From (redirected): https://drive.google.com/uc?id=1ZX0UCXvJwqd2uBGCX7LI2n-DfMg3t74v&confirm=t&uuid=cccd1559-c4fb-4b70-8716-a511be289aee\n",
            "To: /content/weights_pretrained/deeplab_resnet_pretrained_imagenet.pth\n",
            "100% 177M/177M [00:06<00:00, 26.9MB/s]\n",
            "Downloading...\n",
            "From: https://drive.google.com/uc?id=1hIBp_8maRr60-B3PF0NVtaA6TYBvO4y-\n",
            "To: /content/weights_pretrained/pidnet_s_pretrained_imagenet.pth\n",
            "100% 38.1M/38.1M [00:00<00:00, 38.2MB/s]\n",
            "Downloading...\n",
            "From (original): https://drive.google.com/uc?id=1gB9RxYVbdwi9eO5lbT073q-vRoncpYT1\n",
            "From (redirected): https://drive.google.com/uc?id=1gB9RxYVbdwi9eO5lbT073q-vRoncpYT1&confirm=t&uuid=58d3f91d-6108-45d3-872d-39e418e6a429\n",
            "To: /content/weights_pretrained/pidnet_m_pretrained_imagenet.pth\n",
            "100% 167M/167M [00:04<00:00, 41.3MB/s]\n",
            "Downloading...\n",
            "From (original): https://drive.google.com/uc?id=1Eg6BwEsnu3AkKLO8lrKsoZ8AOEb2KZHY\n",
            "From (redirected): https://drive.google.com/uc?id=1Eg6BwEsnu3AkKLO8lrKsoZ8AOEb2KZHY&confirm=t&uuid=c29db159-4691-4078-b9a8-214c20892d8c\n",
            "To: /content/weights_pretrained/pidnet_l_pretrained_imagenet.pth\n",
            "100% 181M/181M [00:04<00:00, 43.1MB/s]\n"
          ]
        }
      ],
      "source": [
        "!bash get_weights_pretrained.bash"
      ]
    },
    {
      "cell_type": "markdown",
      "id": "065eb67f",
      "metadata": {
        "id": "065eb67f"
      },
      "source": [
        "## DeepLabV2_ResNet101"
      ]
    },
    {
      "cell_type": "markdown",
      "id": "7nuYgig-CZrD",
      "metadata": {
        "id": "7nuYgig-CZrD"
      },
      "source": [
        "### Version 0"
      ]
    },
    {
      "cell_type": "code",
      "execution_count": null,
      "id": "38b64585",
      "metadata": {
        "id": "38b64585"
      },
      "outputs": [],
      "source": [
        "# Train\n",
        "# !python3 sem_seg.py \\\n",
        "#     --train \\\n",
        "#     --model_name DeepLabV2_ResNet101 \\\n",
        "#     --version 0 \\\n",
        "#     --source_domain Rural \\\n",
        "#     --batch_size 6 \\\n",
        "#     --criterion CrossEntropyLoss \\\n",
        "#     --optimizer SGD \\\n",
        "#     --scheduler PolynomialLR \\\n",
        "#     --lr 0.001 \\\n",
        "#     --epochs 20 \\\n",
        "#     --store drive"
      ]
    },
    {
      "cell_type": "code",
      "execution_count": null,
      "id": "_2B91EQ1peh3",
      "metadata": {
        "id": "_2B91EQ1peh3"
      },
      "outputs": [],
      "source": [
        "# Test\n",
        "# !python3 sem_seg.py \\\n",
        "#     --test \\\n",
        "#     --model_name DeepLabV2_ResNet101 \\\n",
        "#     --version 0 \\\n",
        "#     --model_file last_0.pt \\\n",
        "#     --target_domain Urban \\\n",
        "#     --store drive\n",
        "\n",
        "# !python3 sem_seg.py \\\n",
        "#     --test \\\n",
        "#     --model_name DeepLabV2_ResNet101 \\\n",
        "#     --version 0 \\\n",
        "#     --model_file best_0.pt \\\n",
        "#     --target_domain Urban \\\n",
        "#     --store drive\n",
        "\n",
        "# !python3 sem_seg.py \\\n",
        "#     --test \\\n",
        "#     --model_name DeepLabV2_ResNet101 \\\n",
        "#     --version 0 \\\n",
        "#     --model_file last_0.pt \\\n",
        "#     --target_domain Rural \\\n",
        "#     --store drive\n",
        "\n",
        "# !python3 sem_seg.py \\\n",
        "#     --test \\\n",
        "#     --model_name DeepLabV2_ResNet101 \\\n",
        "#     --version 0 \\\n",
        "#     --model_file best_0.pt \\\n",
        "#     --target_domain Rural \\\n",
        "#     --store drive"
      ]
    },
    {
      "cell_type": "markdown",
      "id": "CmFVsxnQn-GS",
      "metadata": {
        "id": "CmFVsxnQn-GS"
      },
      "source": [
        "### Version 1"
      ]
    },
    {
      "cell_type": "code",
      "execution_count": null,
      "id": "79H1QUMnoACQ",
      "metadata": {
        "id": "79H1QUMnoACQ"
      },
      "outputs": [],
      "source": [
        "# Train\n",
        "# !python3 sem_seg.py \\\n",
        "#     --train \\\n",
        "#     --model_name DeepLabV2_ResNet101 \\\n",
        "#     --version 1 \\\n",
        "#     --source_domain Urban \\\n",
        "#     --batch_size 6 \\\n",
        "#     --criterion CrossEntropyLoss \\\n",
        "#     --optimizer SGD \\\n",
        "#     --scheduler PolynomialLR \\\n",
        "#     --lr 0.001 \\\n",
        "#     --epochs 20 \\\n",
        "#     --store drive"
      ]
    },
    {
      "cell_type": "code",
      "execution_count": null,
      "id": "PE22jigUoG_1",
      "metadata": {
        "id": "PE22jigUoG_1"
      },
      "outputs": [],
      "source": [
        "# Test\n",
        "# !python3 sem_seg.py \\\n",
        "#     --test \\\n",
        "#     --model_name DeepLabV2_ResNet101 \\\n",
        "#     --version 1 \\\n",
        "#     --model_file last_0.pt \\\n",
        "#     --target_domain Urban \\\n",
        "#     --store drive\n",
        "\n",
        "# !python3 sem_seg.py \\\n",
        "#     --test \\\n",
        "#     --model_name DeepLabV2_ResNet101 \\\n",
        "#     --version 1 \\\n",
        "#     --model_file best_0.pt \\\n",
        "#     --target_domain Urban \\\n",
        "#     --store drive\n",
        "\n",
        "# !python3 sem_seg.py \\\n",
        "#     --test \\\n",
        "#     --model_name DeepLabV2_ResNet101 \\\n",
        "#     --version 1 \\\n",
        "#     --model_file last_0.pt \\\n",
        "#     --target_domain Rural \\\n",
        "#     --store drive\n",
        "\n",
        "# !python3 sem_seg.py \\\n",
        "#     --test \\\n",
        "#     --model_name DeepLabV2_ResNet101 \\\n",
        "#     --version 1 \\\n",
        "#     --model_file best_0.pt \\\n",
        "#     --target_domain Rural \\\n",
        "#     --store drive"
      ]
    },
    {
      "cell_type": "markdown",
      "id": "u1oHe3-oPUWw",
      "metadata": {
        "id": "u1oHe3-oPUWw"
      },
      "source": [
        "## PIDNet_S"
      ]
    },
    {
      "cell_type": "markdown",
      "id": "mJ1D-4inCc95",
      "metadata": {
        "id": "mJ1D-4inCc95"
      },
      "source": [
        "### Version 0"
      ]
    },
    {
      "cell_type": "code",
      "execution_count": null,
      "id": "1781uEUIQsIL",
      "metadata": {
        "id": "1781uEUIQsIL"
      },
      "outputs": [],
      "source": [
        "# Train\n",
        "# !python3 sem_seg.py \\\n",
        "#     --train \\\n",
        "#     --model_name PIDNet_S \\\n",
        "#     --version 0 \\\n",
        "#     --source_domain Rural \\\n",
        "#     --batch_size 6 \\\n",
        "#     --criterion OhemCrossEntropyLoss \\\n",
        "#     --optimizer SGD \\\n",
        "#     --scheduler PolynomialLR \\\n",
        "#     --lr 0.01 \\\n",
        "#     --epochs 20 \\\n",
        "#     --store drive"
      ]
    },
    {
      "cell_type": "code",
      "execution_count": null,
      "id": "YoW7heiovwH-",
      "metadata": {
        "id": "YoW7heiovwH-"
      },
      "outputs": [],
      "source": [
        "# Test\n",
        "# !python3 sem_seg.py \\\n",
        "#     --test \\\n",
        "#     --model_name PIDNet_S \\\n",
        "#     --version 0 \\\n",
        "#     --model_file last_0.pt \\\n",
        "#     --target_domain Urban \\\n",
        "#     --store drive\n",
        "\n",
        "# !python3 sem_seg.py \\\n",
        "#     --test \\\n",
        "#     --model_name PIDNet_S \\\n",
        "#     --version 0 \\\n",
        "#     --model_file best_0.pt \\\n",
        "#     --target_domain Urban \\\n",
        "#     --store drive\n",
        "\n",
        "# !python3 sem_seg.py \\\n",
        "#     --test \\\n",
        "#     --model_name PIDNet_S \\\n",
        "#     --version 0 \\\n",
        "#     --model_file last_0.pt \\\n",
        "#     --target_domain Rural \\\n",
        "#     --store drive\n",
        "\n",
        "# !python3 sem_seg.py \\\n",
        "#     --test \\\n",
        "#     --model_name PIDNet_S \\\n",
        "#     --version 0 \\\n",
        "#     --model_file best_0.pt \\\n",
        "#     --target_domain Rural \\\n",
        "#     --store drive"
      ]
    },
    {
      "cell_type": "markdown",
      "id": "YXYwhR3wCerq",
      "metadata": {
        "id": "YXYwhR3wCerq"
      },
      "source": [
        "### Version 1"
      ]
    },
    {
      "cell_type": "code",
      "execution_count": null,
      "id": "cRB86IA033Fj",
      "metadata": {
        "id": "cRB86IA033Fj"
      },
      "outputs": [],
      "source": [
        "# Train\n",
        "# !python3 sem_seg.py \\\n",
        "#     --train \\\n",
        "#     --model_name PIDNet_S \\\n",
        "#     --version 1 \\\n",
        "#     --source_domain Urban \\\n",
        "#     --batch_size 6 \\\n",
        "#     --criterion OhemCrossEntropyLoss \\\n",
        "#     --optimizer SGD \\\n",
        "#     --scheduler PolynomialLR \\\n",
        "#     --lr 0.01 \\\n",
        "#     --epochs 20 \\\n",
        "#     --store drive"
      ]
    },
    {
      "cell_type": "code",
      "execution_count": null,
      "id": "hd8vzW6L4CNX",
      "metadata": {
        "id": "hd8vzW6L4CNX"
      },
      "outputs": [],
      "source": [
        "# Test\n",
        "# !python3 sem_seg.py \\\n",
        "#     --test \\\n",
        "#     --model_name PIDNet_S \\\n",
        "#     --version 1 \\\n",
        "#     --model_file last_0.pt \\\n",
        "#     --target_domain Urban \\\n",
        "#     --store drive\n",
        "\n",
        "# !python3 sem_seg.py \\\n",
        "#     --test \\\n",
        "#     --model_name PIDNet_S \\\n",
        "#     --version 1 \\\n",
        "#     --model_file best_0.pt \\\n",
        "#     --target_domain Urban \\\n",
        "#     --store drive\n",
        "\n",
        "# !python3 sem_seg.py \\\n",
        "#     --test \\\n",
        "#     --model_name PIDNet_S \\\n",
        "#     --version 1 \\\n",
        "#     --model_file last_0.pt \\\n",
        "#     --target_domain Rural \\\n",
        "#     --store drive\n",
        "\n",
        "# !python3 sem_seg.py \\\n",
        "#     --test \\\n",
        "#     --model_name PIDNet_S \\\n",
        "#     --version 1 \\\n",
        "#     --model_file best_0.pt \\\n",
        "#     --target_domain Rural \\\n",
        "#     --store drive"
      ]
    },
    {
      "cell_type": "markdown",
      "id": "L9Jw_5xfP7rl",
      "metadata": {
        "id": "L9Jw_5xfP7rl"
      },
      "source": [
        "### Version 2"
      ]
    },
    {
      "cell_type": "code",
      "execution_count": null,
      "id": "grG7HbW3P9m9",
      "metadata": {
        "id": "grG7HbW3P9m9"
      },
      "outputs": [],
      "source": [
        "# Train\n",
        "# !python3 sem_seg.py \\\n",
        "#     --train \\\n",
        "#     --model_name PIDNet_S \\\n",
        "#     --version 2 \\\n",
        "#     --source_domain Rural \\\n",
        "#     --batch_size 6 \\\n",
        "#     --criterion OhemCrossEntropyLoss \\\n",
        "#     --optimizer SGD \\\n",
        "#     --scheduler PolynomialLR \\\n",
        "#     --lr 0.001 \\\n",
        "#     --epochs 20 \\\n",
        "#     --store drive"
      ]
    },
    {
      "cell_type": "code",
      "execution_count": null,
      "id": "3PmiChAUP-ci",
      "metadata": {
        "id": "3PmiChAUP-ci"
      },
      "outputs": [],
      "source": [
        "# Test\n",
        "# !python3 sem_seg.py \\\n",
        "#     --test \\\n",
        "#     --model_name PIDNet_S \\\n",
        "#     --version 2 \\\n",
        "#     --model_file last_0.pt \\\n",
        "#     --target_domain Urban \\\n",
        "#     --store drive\n",
        "\n",
        "# !python3 sem_seg.py \\\n",
        "#     --test \\\n",
        "#     --model_name PIDNet_S \\\n",
        "#     --version 2 \\\n",
        "#     --model_file best_0.pt \\\n",
        "#     --target_domain Urban \\\n",
        "#     --store drive\n",
        "\n",
        "# !python3 sem_seg.py \\\n",
        "#     --test \\\n",
        "#     --model_name PIDNet_S \\\n",
        "#     --version 2 \\\n",
        "#     --model_file last_0.pt \\\n",
        "#     --target_domain Rural \\\n",
        "#     --store drive\n",
        "\n",
        "# !python3 sem_seg.py \\\n",
        "#     --test \\\n",
        "#     --model_name PIDNet_S \\\n",
        "#     --version 2 \\\n",
        "#     --model_file best_0.pt \\\n",
        "#     --target_domain Rural \\\n",
        "#     --store drive"
      ]
    },
    {
      "cell_type": "markdown",
      "id": "1znNDkpmLms8",
      "metadata": {
        "id": "1znNDkpmLms8"
      },
      "source": [
        "### Version 3"
      ]
    },
    {
      "cell_type": "code",
      "execution_count": null,
      "id": "P2XlPTekLops",
      "metadata": {
        "id": "P2XlPTekLops"
      },
      "outputs": [],
      "source": [
        "# Train\n",
        "# !python3 sem_seg.py \\\n",
        "#     --train \\\n",
        "#     --model_name PIDNet_S \\\n",
        "#     --version 3 \\\n",
        "#     --source_domain Urban \\\n",
        "#     --batch_size 6 \\\n",
        "#     --criterion OhemCrossEntropyLoss \\\n",
        "#     --optimizer SGD \\\n",
        "#     --scheduler PolynomialLR \\\n",
        "#     --lr 0.001 \\\n",
        "#     --epochs 20 \\\n",
        "#     --store drive"
      ]
    },
    {
      "cell_type": "code",
      "execution_count": null,
      "id": "Cj2mRgD5_6E4",
      "metadata": {
        "id": "Cj2mRgD5_6E4"
      },
      "outputs": [],
      "source": [
        "# Test\n",
        "# !python3 sem_seg.py \\\n",
        "#     --test \\\n",
        "#     --model_name PIDNet_S \\\n",
        "#     --version 3 \\\n",
        "#     --model_file last_0.pt \\\n",
        "#     --target_domain Urban \\\n",
        "#     --store drive\n",
        "\n",
        "# !python3 sem_seg.py \\\n",
        "#     --test \\\n",
        "#     --model_name PIDNet_S \\\n",
        "#     --version 3 \\\n",
        "#     --model_file best_0.pt \\\n",
        "#     --target_domain Urban \\\n",
        "#     --store drive\n",
        "\n",
        "# !python3 sem_seg.py \\\n",
        "#     --test \\\n",
        "#     --model_name PIDNet_S \\\n",
        "#     --version 3 \\\n",
        "#     --model_file last_0.pt \\\n",
        "#     --target_domain Rural \\\n",
        "#     --store drive\n",
        "\n",
        "# !python3 sem_seg.py \\\n",
        "#     --test \\\n",
        "#     --model_name PIDNet_S \\\n",
        "#     --version 3 \\\n",
        "#     --model_file best_0.pt \\\n",
        "#     --target_domain Rural \\\n",
        "#     --store drive"
      ]
    },
    {
      "cell_type": "markdown",
      "id": "Mfs8oz9pQ4d8",
      "metadata": {
        "id": "Mfs8oz9pQ4d8"
      },
      "source": [
        "### Version 4"
      ]
    },
    {
      "cell_type": "code",
      "execution_count": null,
      "id": "ZO4nUoQFQ6bO",
      "metadata": {
        "id": "ZO4nUoQFQ6bO"
      },
      "outputs": [],
      "source": [
        "# Train\n",
        "# !python3 sem_seg.py \\\n",
        "#     --train \\\n",
        "#     --model_name PIDNet_S \\\n",
        "#     --version 4 \\\n",
        "#     --source_domain Urban \\\n",
        "#     --horizontal_flip_augmentation \\\n",
        "#     --shift_scale_rotate_augmentation \\\n",
        "#     --batch_size 6 \\\n",
        "#     --criterion OhemCrossEntropyLoss \\\n",
        "#     --optimizer SGD \\\n",
        "#     --scheduler PolynomialLR \\\n",
        "#     --lr 0.001 \\\n",
        "#     --epochs 20 \\\n",
        "#     --store drive"
      ]
    },
    {
      "cell_type": "code",
      "execution_count": null,
      "id": "shkIo1zlQ-5v",
      "metadata": {
        "id": "shkIo1zlQ-5v"
      },
      "outputs": [],
      "source": [
        "# Test\n",
        "# !python3 sem_seg.py \\\n",
        "#     --test \\\n",
        "#     --model_name PIDNet_S \\\n",
        "#     --version 4 \\\n",
        "#     --model_file last_0.pt \\\n",
        "#     --target_domain Urban \\\n",
        "#     --store drive\n",
        "\n",
        "# !python3 sem_seg.py \\\n",
        "#     --test \\\n",
        "#     --model_name PIDNet_S \\\n",
        "#     --version 4 \\\n",
        "#     --model_file best_0.pt \\\n",
        "#     --target_domain Urban \\\n",
        "#     --store drive\n",
        "\n",
        "# !python3 sem_seg.py \\\n",
        "#     --test \\\n",
        "#     --model_name PIDNet_S \\\n",
        "#     --version 4 \\\n",
        "#     --model_file last_0.pt \\\n",
        "#     --target_domain Rural \\\n",
        "#     --store drive\n",
        "\n",
        "# !python3 sem_seg.py \\\n",
        "#     --test \\\n",
        "#     --model_name PIDNet_S \\\n",
        "#     --version 4 \\\n",
        "#     --model_file best_0.pt \\\n",
        "#     --target_domain Rural \\\n",
        "#     --store drive"
      ]
    },
    {
      "cell_type": "markdown",
      "id": "5wSUEGPHRDTR",
      "metadata": {
        "id": "5wSUEGPHRDTR"
      },
      "source": [
        "### Version 5"
      ]
    },
    {
      "cell_type": "code",
      "execution_count": null,
      "id": "jDj7Viy0RC_A",
      "metadata": {
        "id": "jDj7Viy0RC_A"
      },
      "outputs": [],
      "source": [
        "# Train\n",
        "# !python3 sem_seg.py \\\n",
        "#     --train \\\n",
        "#     --model_name PIDNet_S \\\n",
        "#     --version 5 \\\n",
        "#     --source_domain Urban \\\n",
        "#     --horizontal_flip_augmentation \\\n",
        "#     --shift_scale_rotate_augmentation \\\n",
        "#     --grid_distortion_augmentation \\\n",
        "#     --batch_size 6 \\\n",
        "#     --criterion OhemCrossEntropyLoss \\\n",
        "#     --optimizer SGD \\\n",
        "#     --scheduler PolynomialLR \\\n",
        "#     --lr 0.001 \\\n",
        "#     --epochs 20 \\\n",
        "#     --store drive"
      ]
    },
    {
      "cell_type": "code",
      "execution_count": null,
      "id": "aXiEITm_RHFd",
      "metadata": {
        "id": "aXiEITm_RHFd"
      },
      "outputs": [],
      "source": [
        "# Test\n",
        "# !python3 sem_seg.py \\\n",
        "#     --test \\\n",
        "#     --model_name PIDNet_S \\\n",
        "#     --version 5 \\\n",
        "#     --model_file last_0.pt \\\n",
        "#     --target_domain Urban \\\n",
        "#     --store drive\n",
        "\n",
        "# !python3 sem_seg.py \\\n",
        "#     --test \\\n",
        "#     --model_name PIDNet_S \\\n",
        "#     --version 5 \\\n",
        "#     --model_file best_0.pt \\\n",
        "#     --target_domain Urban \\\n",
        "#     --store drive\n",
        "\n",
        "# !python3 sem_seg.py \\\n",
        "#     --test \\\n",
        "#     --model_name PIDNet_S \\\n",
        "#     --version 5 \\\n",
        "#     --model_file last_0.pt \\\n",
        "#     --target_domain Rural \\\n",
        "#     --store drive\n",
        "\n",
        "# !python3 sem_seg.py \\\n",
        "#     --test \\\n",
        "#     --model_name PIDNet_S \\\n",
        "#     --version 5 \\\n",
        "#     --model_file best_0.pt \\\n",
        "#     --target_domain Rural \\\n",
        "#     --store drive"
      ]
    },
    {
      "cell_type": "markdown",
      "id": "VNvoI0647uJx",
      "metadata": {
        "id": "VNvoI0647uJx"
      },
      "source": [
        "### Version 6"
      ]
    },
    {
      "cell_type": "code",
      "execution_count": null,
      "id": "6pokdWxV7wDc",
      "metadata": {
        "id": "6pokdWxV7wDc"
      },
      "outputs": [],
      "source": [
        "# Train\n",
        "# !python3 sem_seg.py \\\n",
        "#     --train \\\n",
        "#     --model_name PIDNet_S \\\n",
        "#     --version 6 \\\n",
        "#     --source_domain Urban \\\n",
        "#     --horizontal_flip_augmentation \\\n",
        "#     --shift_scale_rotate_augmentation \\\n",
        "#     --random_crop_augmentation \\\n",
        "#     --batch_size 6 \\\n",
        "#     --criterion OhemCrossEntropyLoss \\\n",
        "#     --optimizer SGD \\\n",
        "#     --scheduler PolynomialLR \\\n",
        "#     --lr 0.001 \\\n",
        "#     --epochs 20 \\\n",
        "#     --store drive"
      ]
    },
    {
      "cell_type": "code",
      "execution_count": null,
      "id": "iQXuVpB6RnVy",
      "metadata": {
        "id": "iQXuVpB6RnVy"
      },
      "outputs": [],
      "source": [
        "# Test\n",
        "# !python3 sem_seg.py \\\n",
        "#     --test \\\n",
        "#     --model_name PIDNet_S \\\n",
        "#     --version 6 \\\n",
        "#     --model_file last_0.pt \\\n",
        "#     --target_domain Urban \\\n",
        "#     --store drive\n",
        "\n",
        "# !python3 sem_seg.py \\\n",
        "#     --test \\\n",
        "#     --model_name PIDNet_S \\\n",
        "#     --version 6 \\\n",
        "#     --model_file best_0.pt \\\n",
        "#     --target_domain Urban \\\n",
        "#     --store drive\n",
        "\n",
        "# !python3 sem_seg.py \\\n",
        "#     --test \\\n",
        "#     --model_name PIDNet_S \\\n",
        "#     --version 6 \\\n",
        "#     --model_file last_0.pt \\\n",
        "#     --target_domain Rural \\\n",
        "#     --store drive\n",
        "\n",
        "# !python3 sem_seg.py \\\n",
        "#     --test \\\n",
        "#     --model_name PIDNet_S \\\n",
        "#     --version 6 \\\n",
        "#     --model_file best_0.pt \\\n",
        "#     --target_domain Rural \\\n",
        "#     --store drive"
      ]
    },
    {
      "cell_type": "markdown",
      "id": "AKC-Ag3TKmD-",
      "metadata": {
        "id": "AKC-Ag3TKmD-"
      },
      "source": [
        "### Version 7"
      ]
    },
    {
      "cell_type": "code",
      "execution_count": null,
      "id": "OdxivdnvKory",
      "metadata": {
        "id": "OdxivdnvKory"
      },
      "outputs": [],
      "source": [
        "# Train\n",
        "# !python3 sem_seg.py \\\n",
        "#     --train \\\n",
        "#     --model_name PIDNet_S \\\n",
        "#     --version 7 \\\n",
        "#     --source_domain Urban \\\n",
        "#     --horizontal_flip_augmentation \\\n",
        "#     --shift_scale_rotate_augmentation \\\n",
        "#     --coarse_dropout_augmentation \\\n",
        "#     --batch_size 6 \\\n",
        "#     --criterion OhemCrossEntropyLoss \\\n",
        "#     --optimizer SGD \\\n",
        "#     --scheduler PolynomialLR \\\n",
        "#     --lr 0.001 \\\n",
        "#     --epochs 20 \\\n",
        "#     --store drive"
      ]
    },
    {
      "cell_type": "code",
      "execution_count": null,
      "id": "Gee8T9VcKqOr",
      "metadata": {
        "id": "Gee8T9VcKqOr"
      },
      "outputs": [],
      "source": [
        "# Test\n",
        "# !python3 sem_seg.py \\\n",
        "#     --test \\\n",
        "#     --model_name PIDNet_S \\\n",
        "#     --version 7 \\\n",
        "#     --model_file last_0.pt \\\n",
        "#     --target_domain Urban \\\n",
        "#     --store drive\n",
        "\n",
        "# !python3 sem_seg.py \\\n",
        "#     --test \\\n",
        "#     --model_name PIDNet_S \\\n",
        "#     --version 7 \\\n",
        "#     --model_file best_0.pt \\\n",
        "#     --target_domain Urban \\\n",
        "#     --store drive\n",
        "\n",
        "# !python3 sem_seg.py \\\n",
        "#     --test \\\n",
        "#     --model_name PIDNet_S \\\n",
        "#     --version 7 \\\n",
        "#     --model_file last_0.pt \\\n",
        "#     --target_domain Rural \\\n",
        "#     --store drive\n",
        "\n",
        "# !python3 sem_seg.py \\\n",
        "#     --test \\\n",
        "#     --model_name PIDNet_S \\\n",
        "#     --version 7 \\\n",
        "#     --model_file best_0.pt \\\n",
        "#     --target_domain Rural \\\n",
        "#     --store drive"
      ]
    },
    {
      "cell_type": "markdown",
      "id": "5z4Yf_e7LHBm",
      "metadata": {
        "id": "5z4Yf_e7LHBm"
      },
      "source": [
        "### Version 8"
      ]
    },
    {
      "cell_type": "code",
      "execution_count": null,
      "id": "_U266rfpLHVv",
      "metadata": {
        "id": "_U266rfpLHVv"
      },
      "outputs": [],
      "source": [
        "# Train\n",
        "# !python3 sem_seg.py \\\n",
        "#     --train \\\n",
        "#     --model_name PIDNet_S \\\n",
        "#     --version 8 \\\n",
        "#     --source_domain Urban \\\n",
        "#     --horizontal_flip_augmentation \\\n",
        "#     --random_crop_augmentation \\\n",
        "#     --coarse_dropout_augmentation \\\n",
        "#     --batch_size 6 \\\n",
        "#     --criterion OhemCrossEntropyLoss \\\n",
        "#     --optimizer SGD \\\n",
        "#     --scheduler PolynomialLR \\\n",
        "#     --lr 0.001 \\\n",
        "#     --epochs 20 \\\n",
        "#     --store drive"
      ]
    },
    {
      "cell_type": "code",
      "execution_count": null,
      "id": "adeO5RhlLGxJ",
      "metadata": {
        "id": "adeO5RhlLGxJ"
      },
      "outputs": [],
      "source": [
        "# Test\n",
        "# !python3 sem_seg.py \\\n",
        "#     --test \\\n",
        "#     --model_name PIDNet_S \\\n",
        "#     --version 8 \\\n",
        "#     --model_file last_0.pt \\\n",
        "#     --target_domain Urban \\\n",
        "#     --store drive\n",
        "\n",
        "# !python3 sem_seg.py \\\n",
        "#     --test \\\n",
        "#     --model_name PIDNet_S \\\n",
        "#     --version 8 \\\n",
        "#     --model_file best_0.pt \\\n",
        "#     --target_domain Urban \\\n",
        "#     --store drive\n",
        "\n",
        "# !python3 sem_seg.py \\\n",
        "#     --test \\\n",
        "#     --model_name PIDNet_S \\\n",
        "#     --version 8 \\\n",
        "#     --model_file last_0.pt \\\n",
        "#     --target_domain Rural \\\n",
        "#     --store drive\n",
        "\n",
        "# !python3 sem_seg.py \\\n",
        "#     --test \\\n",
        "#     --model_name PIDNet_S \\\n",
        "#     --version 8 \\\n",
        "#     --model_file best_0.pt \\\n",
        "#     --target_domain Rural \\\n",
        "#     --store drive"
      ]
    },
    {
      "cell_type": "markdown",
      "id": "1herMXx32Xsy",
      "metadata": {
        "id": "1herMXx32Xsy"
      },
      "source": [
        "### Version 9"
      ]
    },
    {
      "cell_type": "code",
      "execution_count": null,
      "id": "3Ver_pbF2YGD",
      "metadata": {
        "id": "3Ver_pbF2YGD"
      },
      "outputs": [],
      "source": [
        "# Train\n",
        "# !python3 sem_seg.py \\\n",
        "#     --train \\\n",
        "#     --model_name PIDNet_S \\\n",
        "#     --version 9 \\\n",
        "#     --source_domain Urban \\\n",
        "#     --horizontal_flip_augmentation \\\n",
        "#     --shift_scale_rotate_augmentation \\\n",
        "#     --random_crop_augmentation \\\n",
        "#     --color_jitter_augmentation \\\n",
        "#     --batch_size 6 \\\n",
        "#     --criterion OhemCrossEntropyLoss \\\n",
        "#     --optimizer SGD \\\n",
        "#     --scheduler PolynomialLR \\\n",
        "#     --lr 0.001 \\\n",
        "#     --epochs 20 \\\n",
        "#     --store drive"
      ]
    },
    {
      "cell_type": "code",
      "execution_count": null,
      "id": "eKK8UGDU2YWv",
      "metadata": {
        "id": "eKK8UGDU2YWv"
      },
      "outputs": [],
      "source": [
        "# Test\n",
        "# !python3 sem_seg.py \\\n",
        "#     --test \\\n",
        "#     --model_name PIDNet_S \\\n",
        "#     --version 9 \\\n",
        "#     --model_file last_0.pt \\\n",
        "#     --target_domain Urban \\\n",
        "#     --store drive\n",
        "\n",
        "# !python3 sem_seg.py \\\n",
        "#     --test \\\n",
        "#     --model_name PIDNet_S \\\n",
        "#     --version 9 \\\n",
        "#     --model_file best_0.pt \\\n",
        "#     --target_domain Urban \\\n",
        "#     --store drive\n",
        "\n",
        "# !python3 sem_seg.py \\\n",
        "#     --test \\\n",
        "#     --model_name PIDNet_S \\\n",
        "#     --version 9 \\\n",
        "#     --model_file last_0.pt \\\n",
        "#     --target_domain Rural \\\n",
        "#     --store drive\n",
        "\n",
        "# !python3 sem_seg.py \\\n",
        "#     --test \\\n",
        "#     --model_name PIDNet_S \\\n",
        "#     --version 9 \\\n",
        "#     --model_file best_0.pt \\\n",
        "#     --target_domain Rural \\\n",
        "#     --store drive"
      ]
    },
    {
      "cell_type": "markdown",
      "id": "ovbkQSWE2Yv-",
      "metadata": {
        "id": "ovbkQSWE2Yv-"
      },
      "source": [
        "### Version 10"
      ]
    },
    {
      "cell_type": "code",
      "execution_count": null,
      "id": "qAQDqgIK2ZDe",
      "metadata": {
        "id": "qAQDqgIK2ZDe"
      },
      "outputs": [],
      "source": [
        "# Train\n",
        "# !python3 sem_seg.py \\\n",
        "#     --train \\\n",
        "#     --model_name PIDNet_S \\\n",
        "#     --version 10 \\\n",
        "#     --source_domain Urban \\\n",
        "#     --horizontal_flip_augmentation \\\n",
        "#     --shift_scale_rotate_augmentation \\\n",
        "#     --random_crop_augmentation \\\n",
        "#     --gaussian_blur_augmentation \\\n",
        "#     --batch_size 6 \\\n",
        "#     --criterion OhemCrossEntropyLoss \\\n",
        "#     --optimizer SGD \\\n",
        "#     --scheduler PolynomialLR \\\n",
        "#     --lr 0.001 \\\n",
        "#     --epochs 20 \\\n",
        "#     --store drive"
      ]
    },
    {
      "cell_type": "code",
      "execution_count": null,
      "id": "znpavyL52ZQ1",
      "metadata": {
        "id": "znpavyL52ZQ1"
      },
      "outputs": [],
      "source": [
        "# Test\n",
        "# !python3 sem_seg.py \\\n",
        "#     --test \\\n",
        "#     --model_name PIDNet_S \\\n",
        "#     --version 10 \\\n",
        "#     --model_file last_0.pt \\\n",
        "#     --target_domain Urban \\\n",
        "#     --store drive\n",
        "\n",
        "# !python3 sem_seg.py \\\n",
        "#     --test \\\n",
        "#     --model_name PIDNet_S \\\n",
        "#     --version 10 \\\n",
        "#     --model_file best_0.pt \\\n",
        "#     --target_domain Urban \\\n",
        "#     --store drive\n",
        "\n",
        "# !python3 sem_seg.py \\\n",
        "#     --test \\\n",
        "#     --model_name PIDNet_S \\\n",
        "#     --version 10 \\\n",
        "#     --model_file last_0.pt \\\n",
        "#     --target_domain Rural \\\n",
        "#     --store drive\n",
        "\n",
        "# !python3 sem_seg.py \\\n",
        "#     --test \\\n",
        "#     --model_name PIDNet_S \\\n",
        "#     --version 10 \\\n",
        "#     --model_file best_0.pt \\\n",
        "#     --target_domain Rural \\\n",
        "#     --store drive"
      ]
    },
    {
      "cell_type": "markdown",
      "id": "biNElpGjeVHv",
      "metadata": {
        "id": "biNElpGjeVHv"
      },
      "source": [
        "## PIDNet_S_Adversarial"
      ]
    },
    {
      "cell_type": "markdown",
      "id": "irYLA7-0eZOX",
      "metadata": {
        "id": "irYLA7-0eZOX"
      },
      "source": [
        "### Version 0"
      ]
    },
    {
      "cell_type": "code",
      "execution_count": null,
      "id": "b-LGktp3eYuE",
      "metadata": {
        "id": "b-LGktp3eYuE"
      },
      "outputs": [],
      "source": [
        "# Train\n",
        "# !python3 sem_seg_da_adv.py \\\n",
        "#     --train \\\n",
        "#     --mode single_level \\\n",
        "#     --model_name PIDNet_S \\\n",
        "#     --version 0 \\\n",
        "#     --batch_size 6 \\\n",
        "#     --lr 0.001 \\\n",
        "#     --lr_D 0.0005 \\\n",
        "#     --epochs 20 \\\n",
        "#     --store drive"
      ]
    },
    {
      "cell_type": "code",
      "execution_count": null,
      "id": "54g9BqqmeYjc",
      "metadata": {
        "id": "54g9BqqmeYjc"
      },
      "outputs": [],
      "source": [
        "# Test\n",
        "# !python3 sem_seg_da_adv.py \\\n",
        "#     --test \\\n",
        "#     --model_name PIDNet_S \\\n",
        "#     --version 0 \\\n",
        "#     --model_file last_0.pt \\\n",
        "#     --target_domain Urban \\\n",
        "#     --store drive\n",
        "\n",
        "# !python3 sem_seg_da_adv.py \\\n",
        "#     --test \\\n",
        "#     --model_name PIDNet_S \\\n",
        "#     --version 0 \\\n",
        "#     --model_file best_0.pt \\\n",
        "#     --target_domain Urban \\\n",
        "#     --store drive\n",
        "\n",
        "# !python3 sem_seg_da_adv.py \\\n",
        "#     --test \\\n",
        "#     --model_name PIDNet_S \\\n",
        "#     --version 0 \\\n",
        "#     --model_file last_0.pt \\\n",
        "#     --target_domain Rural \\\n",
        "#     --store drive\n",
        "\n",
        "# !python3 sem_seg_da_adv.py \\\n",
        "#     --test \\\n",
        "#     --model_name PIDNet_S \\\n",
        "#     --version 0 \\\n",
        "#     --model_file best_0.pt \\\n",
        "#     --target_domain Rural \\\n",
        "#     --store drive"
      ]
    },
    {
      "cell_type": "markdown",
      "id": "adFb_pQpkTk4",
      "metadata": {
        "id": "adFb_pQpkTk4"
      },
      "source": [
        "### Version 1"
      ]
    },
    {
      "cell_type": "code",
      "execution_count": null,
      "id": "efh2O5SrkV1p",
      "metadata": {
        "id": "efh2O5SrkV1p"
      },
      "outputs": [],
      "source": [
        "# Train\n",
        "# !python3 sem_seg_da_adv.py \\\n",
        "#     --train \\\n",
        "#     --mode single_level \\\n",
        "#     --model_name PIDNet_S \\\n",
        "#     --version 1 \\\n",
        "#     --horizontal_flip_augmentation \\\n",
        "#     --shift_scale_rotate_augmentation \\\n",
        "#     --random_crop_augmentation \\\n",
        "#     --batch_size 6 \\\n",
        "#     --lr 0.001 \\\n",
        "#     --lr_D 0.0005 \\\n",
        "#     --epochs 20 \\\n",
        "#     --store drive"
      ]
    },
    {
      "cell_type": "code",
      "execution_count": null,
      "id": "fSqZ_-Wplkjb",
      "metadata": {
        "id": "fSqZ_-Wplkjb"
      },
      "outputs": [],
      "source": [
        "# Test\n",
        "# !python3 sem_seg_da_adv.py \\\n",
        "#     --test \\\n",
        "#     --model_name PIDNet_S \\\n",
        "#     --version 1 \\\n",
        "#     --model_file last_0.pt \\\n",
        "#     --target_domain Urban \\\n",
        "#     --store drive\n",
        "\n",
        "# !python3 sem_seg_da_adv.py \\\n",
        "#     --test \\\n",
        "#     --model_name PIDNet_S \\\n",
        "#     --version 1 \\\n",
        "#     --model_file best_0.pt \\\n",
        "#     --target_domain Urban \\\n",
        "#     --store drive\n",
        "\n",
        "# !python3 sem_seg_da_adv.py \\\n",
        "#     --test \\\n",
        "#     --model_name PIDNet_S \\\n",
        "#     --version 1 \\\n",
        "#     --model_file last_0.pt \\\n",
        "#     --target_domain Rural \\\n",
        "#     --store drive\n",
        "\n",
        "# !python3 sem_seg_da_adv.py \\\n",
        "#     --test \\\n",
        "#     --model_name PIDNet_S \\\n",
        "#     --version 1 \\\n",
        "#     --model_file best_0.pt \\\n",
        "#     --target_domain Rural \\\n",
        "#     --store drive"
      ]
    },
    {
      "cell_type": "markdown",
      "id": "YZb8hqpwkG_x",
      "metadata": {
        "id": "YZb8hqpwkG_x"
      },
      "source": [
        "### Version 2"
      ]
    },
    {
      "cell_type": "code",
      "execution_count": null,
      "id": "TcPXbZlokPmx",
      "metadata": {
        "id": "TcPXbZlokPmx"
      },
      "outputs": [],
      "source": [
        "# Train\n",
        "# !python3 sem_seg_da_adv.py \\\n",
        "#     --train \\\n",
        "#     --mode multi_level \\\n",
        "#     --model_name PIDNet_S \\\n",
        "#     --version 2 \\\n",
        "#     --batch_size 6 \\\n",
        "#     --lr 0.001 \\\n",
        "#     --lr_D 0.0005 \\\n",
        "#     --epochs 20 \\\n",
        "#     --store drive"
      ]
    },
    {
      "cell_type": "code",
      "execution_count": null,
      "id": "jPxRgU0Pllon",
      "metadata": {
        "id": "jPxRgU0Pllon"
      },
      "outputs": [],
      "source": [
        "# Test\n",
        "# !python3 sem_seg_da_adv.py \\\n",
        "#     --test \\\n",
        "#     --model_name PIDNet_S \\\n",
        "#     --version 2 \\\n",
        "#     --model_file last_0.pt \\\n",
        "#     --target_domain Urban \\\n",
        "#     --store drive\n",
        "\n",
        "# !python3 sem_seg_da_adv.py \\\n",
        "#     --test \\\n",
        "#     --model_name PIDNet_S \\\n",
        "#     --version 2 \\\n",
        "#     --model_file best_0.pt \\\n",
        "#     --target_domain Urban \\\n",
        "#     --store drive\n",
        "\n",
        "# !python3 sem_seg_da_adv.py \\\n",
        "#     --test \\\n",
        "#     --model_name PIDNet_S \\\n",
        "#     --version 2 \\\n",
        "#     --model_file last_0.pt \\\n",
        "#     --target_domain Rural \\\n",
        "#     --store drive\n",
        "\n",
        "# !python3 sem_seg_da_adv.py \\\n",
        "#     --test \\\n",
        "#     --model_name PIDNet_S \\\n",
        "#     --version 2 \\\n",
        "#     --model_file best_0.pt \\\n",
        "#     --target_domain Rural \\\n",
        "#     --store drive"
      ]
    },
    {
      "cell_type": "markdown",
      "id": "zYzocCgYkYXS",
      "metadata": {
        "id": "zYzocCgYkYXS"
      },
      "source": [
        "### Version 3"
      ]
    },
    {
      "cell_type": "code",
      "execution_count": null,
      "id": "Pc54O_ZzkbKp",
      "metadata": {
        "id": "Pc54O_ZzkbKp"
      },
      "outputs": [],
      "source": [
        "# Train\n",
        "# !python3 sem_seg_da_adv.py \\\n",
        "#     --train \\\n",
        "#     --mode multi_level \\\n",
        "#     --model_name PIDNet_S \\\n",
        "#     --version 3 \\\n",
        "#     --horizontal_flip_augmentation \\\n",
        "#     --shift_scale_rotate_augmentation \\\n",
        "#     --random_crop_augmentation \\\n",
        "#     --batch_size 6 \\\n",
        "#     --lr 0.001 \\\n",
        "#     --lr_D 0.0005 \\\n",
        "#     --epochs 20 \\\n",
        "#     --store drive"
      ]
    },
    {
      "cell_type": "code",
      "execution_count": null,
      "id": "1vbBX9BYlnBE",
      "metadata": {
        "id": "1vbBX9BYlnBE"
      },
      "outputs": [],
      "source": [
        "# Test\n",
        "# !python3 sem_seg_da_adv.py \\\n",
        "#     --test \\\n",
        "#     --model_name PIDNet_S \\\n",
        "#     --version 3 \\\n",
        "#     --model_file last_0.pt \\\n",
        "#     --target_domain Urban \\\n",
        "#     --store drive\n",
        "\n",
        "# !python3 sem_seg_da_adv.py \\\n",
        "#     --test \\\n",
        "#     --model_name PIDNet_S \\\n",
        "#     --version 3 \\\n",
        "#     --model_file best_0.pt \\\n",
        "#     --target_domain Urban \\\n",
        "#     --store drive\n",
        "\n",
        "# !python3 sem_seg_da_adv.py \\\n",
        "#     --test \\\n",
        "#     --model_name PIDNet_S \\\n",
        "#     --version 3 \\\n",
        "#     --model_file last_0.pt \\\n",
        "#     --target_domain Rural \\\n",
        "#     --store drive\n",
        "\n",
        "# !python3 sem_seg_da_adv.py \\\n",
        "#     --test \\\n",
        "#     --model_name PIDNet_S \\\n",
        "#     --version 3 \\\n",
        "#     --model_file best_0.pt \\\n",
        "#     --target_domain Rural \\\n",
        "#     --store drive"
      ]
    },
    {
      "cell_type": "markdown",
      "id": "cZyo34KeoLxQ",
      "metadata": {
        "id": "cZyo34KeoLxQ"
      },
      "source": [
        "## PIDNet_S_DACS"
      ]
    },
    {
      "cell_type": "markdown",
      "id": "VzOOjl14paoW",
      "metadata": {
        "id": "VzOOjl14paoW"
      },
      "source": [
        "### Version 0"
      ]
    },
    {
      "cell_type": "code",
      "execution_count": null,
      "id": "EnednNDQoMKM",
      "metadata": {
        "id": "EnednNDQoMKM"
      },
      "outputs": [],
      "source": [
        "# Train\n",
        "# !python3 sem_seg_dacs.py \\\n",
        "#     --train \\\n",
        "#     --resume \\\n",
        "#     --resume_epoch 4 \\\n",
        "#     --model_name PIDNet_S \\\n",
        "#     --version 0 \\\n",
        "#     --batch_size 6 \\\n",
        "#     --lr 0.001 \\\n",
        "#     --epochs 20 \\\n",
        "#     --store drive"
      ]
    },
    {
      "cell_type": "code",
      "execution_count": null,
      "id": "CeBe55ZNoLMS",
      "metadata": {
        "id": "CeBe55ZNoLMS"
      },
      "outputs": [],
      "source": [
        "# Test\n",
        "# !python3 sem_seg_dacs.py \\\n",
        "#     --test \\\n",
        "#     --model_name PIDNet_S \\\n",
        "#     --version 0 \\\n",
        "#     --model_file last_0.pt \\\n",
        "#     --target_domain Urban \\\n",
        "#     --store drive\n",
        "\n",
        "# !python3 sem_seg_dacs.py \\\n",
        "#     --test \\\n",
        "#     --model_name PIDNet_S \\\n",
        "#     --version 0 \\\n",
        "#     --model_file best_0.pt \\\n",
        "#     --target_domain Urban \\\n",
        "#     --store drive\n",
        "\n",
        "# !python3 sem_seg_dacs.py \\\n",
        "#     --test \\\n",
        "#     --model_name PIDNet_S \\\n",
        "#     --version 0 \\\n",
        "#     --model_file last_0.pt \\\n",
        "#     --target_domain Rural \\\n",
        "#     --store drive\n",
        "\n",
        "# !python3 sem_seg_dacs.py \\\n",
        "#     --test \\\n",
        "#     --model_name PIDNet_S \\\n",
        "#     --version 0 \\\n",
        "#     --model_file best_0.pt \\\n",
        "#     --target_domain Rural \\\n",
        "#     --store drive"
      ]
    },
    {
      "cell_type": "markdown",
      "id": "oOx2LDbKAtwj",
      "metadata": {
        "id": "oOx2LDbKAtwj"
      },
      "source": [
        "### Version 1"
      ]
    },
    {
      "cell_type": "code",
      "execution_count": null,
      "id": "hbooirsXAvsq",
      "metadata": {
        "id": "hbooirsXAvsq"
      },
      "outputs": [],
      "source": [
        "# Train\n",
        "# !python3 sem_seg_dacs.py \\\n",
        "#     --train \\\n",
        "#     --model_name PIDNet_S \\\n",
        "#     --version 1 \\\n",
        "#     --batch_size 6 \\\n",
        "#     --random_crop_augmentation \\\n",
        "#     --lr 0.001 \\\n",
        "#     --epochs 20 \\\n",
        "#     --store drive"
      ]
    },
    {
      "cell_type": "code",
      "execution_count": null,
      "id": "0SWJ1Y-YAvar",
      "metadata": {
        "id": "0SWJ1Y-YAvar"
      },
      "outputs": [],
      "source": [
        "# Test\n",
        "# !python3 sem_seg_dacs.py \\\n",
        "#     --test \\\n",
        "#     --model_name PIDNet_S \\\n",
        "#     --version 1 \\\n",
        "#     --model_file last_0.pt \\\n",
        "#     --target_domain Urban \\\n",
        "#     --store drive\n",
        "\n",
        "# !python3 sem_seg_dacs.py \\\n",
        "#     --test \\\n",
        "#     --model_name PIDNet_S \\\n",
        "#     --version 1 \\\n",
        "#     --model_file best_0.pt \\\n",
        "#     --target_domain Urban \\\n",
        "#     --store drive\n",
        "\n",
        "# !python3 sem_seg_dacs.py \\\n",
        "#     --test \\\n",
        "#     --model_name PIDNet_S \\\n",
        "#     --version 1 \\\n",
        "#     --model_file last_0.pt \\\n",
        "#     --target_domain Rural \\\n",
        "#     --store drive\n",
        "\n",
        "# !python3 sem_seg_dacs.py \\\n",
        "#     --test \\\n",
        "#     --model_name PIDNet_S \\\n",
        "#     --version 1 \\\n",
        "#     --model_file best_0.pt \\\n",
        "#     --target_domain Rural \\\n",
        "#     --store drive"
      ]
    },
    {
      "cell_type": "markdown",
      "id": "yJAoqZbzpcdR",
      "metadata": {
        "id": "yJAoqZbzpcdR"
      },
      "source": [
        "### Version 2"
      ]
    },
    {
      "cell_type": "code",
      "execution_count": null,
      "id": "D7WdvhK_peDX",
      "metadata": {
        "id": "D7WdvhK_peDX"
      },
      "outputs": [],
      "source": [
        "# Train\n",
        "# !python3 sem_seg_dacs.py \\\n",
        "#     --train \\\n",
        "#     --model_name PIDNet_S \\\n",
        "#     --version 2 \\\n",
        "#     --batch_size 6 \\\n",
        "#     --augment_mixed \\\n",
        "#     --random_crop_augmentation \\\n",
        "#     --color_jitter_augmentation \\\n",
        "#     --gaussian_blur_augmentation \\\n",
        "#     --lr 0.001 \\\n",
        "#     --epochs 20 \\\n",
        "#     --store drive"
      ]
    },
    {
      "cell_type": "code",
      "execution_count": null,
      "id": "uWl5DSfUpjpD",
      "metadata": {
        "id": "uWl5DSfUpjpD"
      },
      "outputs": [],
      "source": [
        "# Test\n",
        "# !python3 sem_seg_dacs.py \\\n",
        "#     --test \\\n",
        "#     --model_name PIDNet_S \\\n",
        "#     --version 2 \\\n",
        "#     --model_file last_0.pt \\\n",
        "#     --target_domain Urban \\\n",
        "#     --store drive\n",
        "\n",
        "# !python3 sem_seg_dacs.py \\\n",
        "#     --test \\\n",
        "#     --model_name PIDNet_S \\\n",
        "#     --version 2 \\\n",
        "#     --model_file best_0.pt \\\n",
        "#     --target_domain Urban \\\n",
        "#     --store drive\n",
        "\n",
        "# !python3 sem_seg_dacs.py \\\n",
        "#     --test \\\n",
        "#     --model_name PIDNet_S \\\n",
        "#     --version 2 \\\n",
        "#     --model_file last_0.pt \\\n",
        "#     --target_domain Rural \\\n",
        "#     --store drive\n",
        "\n",
        "# !python3 sem_seg_dacs.py \\\n",
        "#     --test \\\n",
        "#     --model_name PIDNet_S \\\n",
        "#     --version 2 \\\n",
        "#     --model_file best_0.pt \\\n",
        "#     --target_domain Rural \\\n",
        "#     --store drive"
      ]
    },
    {
      "cell_type": "markdown",
      "id": "08psIDuOw7Ns",
      "metadata": {
        "id": "08psIDuOw7Ns"
      },
      "source": [
        "### Version 3"
      ]
    },
    {
      "cell_type": "code",
      "execution_count": null,
      "id": "YVqoA7JldBwI",
      "metadata": {
        "id": "YVqoA7JldBwI"
      },
      "outputs": [],
      "source": [
        "# Train\n",
        "# !python3 sem_seg_dacs.py \\\n",
        "#     --train \\\n",
        "#     --model_name PIDNet_S \\\n",
        "#     --version 3 \\\n",
        "#     --batch_size 6 \\\n",
        "#     --augment_mixed \\\n",
        "#     --random_crop_augmentation \\\n",
        "#     --horizontal_flip_augmentation \\\n",
        "#     --shift_scale_rotate_augmentation \\\n",
        "#     --lr 0.001 \\\n",
        "#     --epochs 20 \\\n",
        "#     --store drive"
      ]
    },
    {
      "cell_type": "code",
      "execution_count": null,
      "id": "wpE6wPDgxROE",
      "metadata": {
        "id": "wpE6wPDgxROE"
      },
      "outputs": [],
      "source": [
        "# Test\n",
        "# !python3 sem_seg_dacs.py \\\n",
        "#     --test \\\n",
        "#     --model_name PIDNet_S \\\n",
        "#     --version 3 \\\n",
        "#     --model_file last_0.pt \\\n",
        "#     --target_domain Urban \\\n",
        "#     --store drive\n",
        "\n",
        "# !python3 sem_seg_dacs.py \\\n",
        "#     --test \\\n",
        "#     --model_name PIDNet_S \\\n",
        "#     --version 3 \\\n",
        "#     --model_file best_0.pt \\\n",
        "#     --target_domain Urban \\\n",
        "#     --store drive\n",
        "\n",
        "# !python3 sem_seg_dacs.py \\\n",
        "#     --test \\\n",
        "#     --model_name PIDNet_S \\\n",
        "#     --version 3 \\\n",
        "#     --model_file last_0.pt \\\n",
        "#     --target_domain Rural \\\n",
        "#     --store drive\n",
        "\n",
        "# !python3 sem_seg_dacs.py \\\n",
        "#     --test \\\n",
        "#     --model_name PIDNet_S \\\n",
        "#     --version 3 \\\n",
        "#     --model_file best_0.pt \\\n",
        "#     --target_domain Rural \\\n",
        "#     --store drive"
      ]
    },
    {
      "cell_type": "markdown",
      "id": "ddc863bc",
      "metadata": {
        "id": "ddc863bc"
      },
      "source": [
        "### Version 4"
      ]
    },
    {
      "cell_type": "code",
      "execution_count": null,
      "id": "2b22447a",
      "metadata": {
        "id": "2b22447a"
      },
      "outputs": [],
      "source": [
        "# Train\n",
        "# !python3 sem_seg_dacs.py \\\n",
        "#     --train \\\n",
        "#     --model_name PIDNet_S \\\n",
        "#     --version 4 \\\n",
        "#     --batch_size 6 \\\n",
        "#     --augment_source \\\n",
        "#     --augment_mixed \\\n",
        "#     --random_crop_augmentation \\\n",
        "#     --color_jitter_augmentation \\\n",
        "#     --gaussian_blur_augmentation \\\n",
        "#     --lr 0.001 \\\n",
        "#     --epochs 20 \\\n",
        "#     --store drive"
      ]
    },
    {
      "cell_type": "code",
      "execution_count": null,
      "id": "70405b38",
      "metadata": {
        "id": "70405b38"
      },
      "outputs": [],
      "source": [
        "# Test\n",
        "# !python3 sem_seg_dacs.py \\\n",
        "#     --test \\\n",
        "#     --model_name PIDNet_S \\\n",
        "#     --version 4 \\\n",
        "#     --model_file last_0.pt \\\n",
        "#     --target_domain Urban \\\n",
        "#     --store drive\n",
        "\n",
        "# !python3 sem_seg_dacs.py \\\n",
        "#     --test \\\n",
        "#     --model_name PIDNet_S \\\n",
        "#     --version 4 \\\n",
        "#     --model_file best_0.pt \\\n",
        "#     --target_domain Urban \\\n",
        "#     --store drive\n",
        "\n",
        "# !python3 sem_seg_dacs.py \\\n",
        "#     --test \\\n",
        "#     --model_name PIDNet_S \\\n",
        "#     --version 4 \\\n",
        "#     --model_file last_0.pt \\\n",
        "#     --target_domain Rural \\\n",
        "#     --store drive\n",
        "\n",
        "# !python3 sem_seg_dacs.py \\\n",
        "#     --test \\\n",
        "#     --model_name PIDNet_S \\\n",
        "#     --version 4 \\\n",
        "#     --model_file best_0.pt \\\n",
        "#     --target_domain Rural \\\n",
        "#     --store drive"
      ]
    },
    {
      "cell_type": "markdown",
      "id": "4f9e1c0c",
      "metadata": {
        "id": "4f9e1c0c"
      },
      "source": [
        "### Version 5"
      ]
    },
    {
      "cell_type": "code",
      "execution_count": null,
      "id": "c7a10017",
      "metadata": {
        "id": "c7a10017"
      },
      "outputs": [],
      "source": [
        "# Train\n",
        "# !python3 sem_seg_dacs.py \\\n",
        "#     --train \\\n",
        "#     --model_name PIDNet_S \\\n",
        "#     --version 5 \\\n",
        "#     --batch_size 6 \\\n",
        "#     --augment_source \\\n",
        "#     --augment_mixed \\\n",
        "#     --random_crop_augmentation \\\n",
        "#     --horizontal_flip_augmentation \\\n",
        "#     --shift_scale_rotate_augmentation \\\n",
        "#     --lr 0.001 \\\n",
        "#     --epochs 20 \\\n",
        "#     --store drive"
      ]
    },
    {
      "cell_type": "code",
      "execution_count": null,
      "id": "6029cd1b",
      "metadata": {
        "id": "6029cd1b"
      },
      "outputs": [],
      "source": [
        "# Test\n",
        "# !python3 sem_seg_dacs.py \\\n",
        "#     --test \\\n",
        "#     --model_name PIDNet_S \\\n",
        "#     --version 5 \\\n",
        "#     --model_file last_0.pt \\\n",
        "#     --target_domain Urban \\\n",
        "#     --store drive\n",
        "\n",
        "# !python3 sem_seg_dacs.py \\\n",
        "#     --test \\\n",
        "#     --model_name PIDNet_S \\\n",
        "#     --version 5 \\\n",
        "#     --model_file best_0.pt \\\n",
        "#     --target_domain Urban \\\n",
        "#     --store drive\n",
        "\n",
        "# !python3 sem_seg_dacs.py \\\n",
        "#     --test \\\n",
        "#     --model_name PIDNet_S \\\n",
        "#     --version 5 \\\n",
        "#     --model_file last_0.pt \\\n",
        "#     --target_domain Rural \\\n",
        "#     --store drive\n",
        "\n",
        "# !python3 sem_seg_dacs.py \\\n",
        "#     --test \\\n",
        "#     --model_name PIDNet_S \\\n",
        "#     --version 5 \\\n",
        "#     --model_file best_0.pt \\\n",
        "#     --target_domain Rural \\\n",
        "#     --store drive"
      ]
    },
    {
      "cell_type": "markdown",
      "source": [
        "Version 6\n"
      ],
      "metadata": {
        "id": "TxcZaY804cos"
      },
      "id": "TxcZaY804cos"
    },
    {
      "cell_type": "code",
      "source": [
        "# Train\n",
        "!python3 sem_seg_dacs.py \\\n",
        "    --train \\\n",
        "    --model_name PIDNet_S \\\n",
        "    --version 6 \\\n",
        "    --batch_size 4 \\\n",
        "    --augment_mixed \\\n",
        "    --random_crop_augmentation \\\n",
        "    --clahe_augmentation \\\n",
        "    --lr 0.001 \\\n",
        "    --epochs 20 \\\n",
        "    --store drive"
      ],
      "metadata": {
        "id": "yJrq3bh74bcf"
      },
      "id": "yJrq3bh74bcf",
      "execution_count": null,
      "outputs": []
    },
    {
      "cell_type": "code",
      "source": [
        "!rm -rf /content/drive/MyDrive/res/PIDNet_S_DACS_6"
      ],
      "metadata": {
        "id": "75DUw24ceCeg"
      },
      "id": "75DUw24ceCeg",
      "execution_count": 17,
      "outputs": []
    },
    {
      "cell_type": "code",
      "source": [
        "!ls -l /content/drive/MyDrive"
      ],
      "metadata": {
        "id": "JjxmmOxFfE4G",
        "outputId": "6a928ba2-0410-413c-8230-65767efc73bd",
        "colab": {
          "base_uri": "https://localhost:8080/"
        }
      },
      "id": "JjxmmOxFfE4G",
      "execution_count": null,
      "outputs": [
        {
          "output_type": "stream",
          "name": "stdout",
          "text": [
            "total 16\n",
            "drwx------ 2 root root 4096 Jan 17 23:27  CleanedDatasets\n",
            "drwx------ 2 root root 4096 Nov 12 15:37 'Colab Notebooks'\n",
            "drwx------ 7 root root 4096 Jan 22 14:40  res\n",
            "drwx------ 2 root root 4096 Jan 25 18:24  results\n"
          ]
        }
      ]
    },
    {
      "cell_type": "code",
      "source": [
        "!cp -r \"/content/drive/MyDrive/res/PIDNet_S_DACS_6\" \"/content/drive/MyDrive/backup/\""
      ],
      "metadata": {
        "id": "Ex6_TWJwNPum"
      },
      "id": "Ex6_TWJwNPum",
      "execution_count": 21,
      "outputs": []
    },
    {
      "cell_type": "code",
      "source": [
        "# Test\n",
        "!python3 sem_seg_dacs.py \\\n",
        "    --test \\\n",
        "    --model_name PIDNet_S \\\n",
        "    --version 6 \\\n",
        "    --model_file last_0.pt \\\n",
        "    --target_domain Urban \\\n",
        "    --store drive\n",
        "\n",
        "# !python3 sem_seg_dacs.py \\\n",
        "#     --test \\\n",
        "#     --model_name PIDNet_S \\\n",
        "#     --version 6 \\\n",
        "#     --model_file best_0.pt \\\n",
        "#     --target_domain Urban \\\n",
        "#     --store drive\n",
        "\n",
        "# !python3 sem_seg_dacs.py \\\n",
        "#     --test \\\n",
        "#     --model_name PIDNet_S \\\n",
        "#     --version 6 \\\n",
        "#     --model_file last_0.pt \\\n",
        "#     --target_domain Rural \\\n",
        "#     --store drive\n",
        "\n",
        "# !python3 sem_seg_dacs.py \\\n",
        "#     --test \\\n",
        "#     --model_name PIDNet_S \\\n",
        "#     --version 6 \\\n",
        "#     --model_file best_0.pt \\\n",
        "#     --target_domain Rural \\\n",
        "#     --store drive"
      ],
      "metadata": {
        "id": "OZ6rECLZ49gw",
        "colab": {
          "base_uri": "https://localhost:8080/"
        },
        "outputId": "e7546204-8501-40f6-ff87-4095346e2875"
      },
      "id": "OZ6rECLZ49gw",
      "execution_count": 14,
      "outputs": [
        {
          "output_type": "stream",
          "name": "stdout",
          "text": [
            "/usr/local/lib/python3.11/dist-packages/albumentations/__init__.py:24: UserWarning: A new version of Albumentations is available: 2.0.2 (you have 1.4.20). Upgrade using: pip install -U albumentations. To disable automatic update checks, set the environment variable NO_ALBUMENTATIONS_UPDATE to 1.\n",
            "  check_for_updates()\n",
            "CUDA available\n",
            "Number of devices: 1\n",
            "Device 0:\n",
            "\tName: Tesla T4\n",
            "Device: cuda\n",
            "/content/models/pidnet/pidnet.py:188: FutureWarning: You are using `torch.load` with `weights_only=False` (the current default value), which uses the default pickle module implicitly. It is possible to construct malicious pickle data which will execute arbitrary code during unpickling (See https://github.com/pytorch/pytorch/blob/main/SECURITY.md#untrusted-models for more details). In a future release, the default value for `weights_only` will be flipped to `True`. This limits the functions that could be executed during unpickling. Arbitrary objects will no longer be allowed to be loaded via this mode unless they are explicitly allowlisted by the user via `torch.serialization.add_safe_globals`. We recommend you start setting `weights_only=True` for any use case where you don't have full control of the loaded file. Please open an issue on GitHub for any issues related to this experimental feature.\n",
            "  pretrained_state = torch.load(pretrain_model_path, map_location='cpu')['state_dict']\n",
            "Loaded 302 parameters.\n",
            "Model test file: last_0.pt\n",
            "Device: cuda\n",
            "Cuda device name: Tesla T4\n",
            "Dataset target domain: Urban\n",
            "\n",
            "Testing:\n",
            "Progress: |----------|   1% \tTime: 00:00:02 s \tTest miou: 0.3584 \n",
            "Progress: |----------|   2% \tTime: 00:00:02 s \tTest miou: 0.3505 \n",
            "Progress: |----------|   3% \tTime: 00:00:02 s \tTest miou: 0.3326 \n",
            "Progress: |----------|   4% \tTime: 00:00:03 s \tTest miou: 0.3446 \n",
            "Progress: |----------|   4% \tTime: 00:00:03 s \tTest miou: 0.3430 \n",
            "Progress: |----------|   5% \tTime: 00:00:03 s \tTest miou: 0.3387 \n",
            "Progress: |----------|   6% \tTime: 00:00:04 s \tTest miou: 0.3507 \n",
            "Progress: |----------|   7% \tTime: 00:00:04 s \tTest miou: 0.3449 \n",
            "Progress: |----------|   8% \tTime: 00:00:05 s \tTest miou: 0.3422 \n",
            "Progress: |----------|   9% \tTime: 00:00:06 s \tTest miou: 0.3375 \n",
            "Progress: |----------|  10% \tTime: 00:00:06 s \tTest miou: 0.3334 \n",
            "Progress: |█---------|  11% \tTime: 00:00:07 s \tTest miou: 0.3396 \n",
            "Progress: |█---------|  12% \tTime: 00:00:08 s \tTest miou: 0.3414 \n",
            "Progress: |█---------|  12% \tTime: 00:00:09 s \tTest miou: 0.3394 \n",
            "Progress: |█---------|  13% \tTime: 00:00:10 s \tTest miou: 0.3363 \n",
            "Progress: |█---------|  14% \tTime: 00:00:10 s \tTest miou: 0.3390 \n",
            "Progress: |█---------|  15% \tTime: 00:00:11 s \tTest miou: 0.3392 \n",
            "Progress: |█---------|  16% \tTime: 00:00:11 s \tTest miou: 0.3383 \n",
            "Progress: |█---------|  17% \tTime: 00:00:12 s \tTest miou: 0.3359 \n",
            "Progress: |█---------|  18% \tTime: 00:00:12 s \tTest miou: 0.3383 \n",
            "Progress: |█---------|  19% \tTime: 00:00:13 s \tTest miou: 0.3408 \n",
            "Progress: |█---------|  19% \tTime: 00:00:13 s \tTest miou: 0.3430 \n",
            "Progress: |██--------|  20% \tTime: 00:00:14 s \tTest miou: 0.3442 \n",
            "Progress: |██--------|  21% \tTime: 00:00:14 s \tTest miou: 0.3472 \n",
            "Progress: |██--------|  22% \tTime: 00:00:15 s \tTest miou: 0.3454 \n",
            "Progress: |██--------|  23% \tTime: 00:00:15 s \tTest miou: 0.3434 \n",
            "Progress: |██--------|  24% \tTime: 00:00:15 s \tTest miou: 0.3418 \n",
            "Progress: |██--------|  25% \tTime: 00:00:16 s \tTest miou: 0.3440 \n",
            "Progress: |██--------|  26% \tTime: 00:00:16 s \tTest miou: 0.3481 \n",
            "Progress: |██--------|  27% \tTime: 00:00:17 s \tTest miou: 0.3473 \n",
            "Progress: |██--------|  27% \tTime: 00:00:17 s \tTest miou: 0.3476 \n",
            "Progress: |██--------|  28% \tTime: 00:00:17 s \tTest miou: 0.3506 \n",
            "Progress: |██--------|  29% \tTime: 00:00:18 s \tTest miou: 0.3515 \n",
            "Progress: |███-------|  30% \tTime: 00:00:18 s \tTest miou: 0.3480 \n",
            "Progress: |███-------|  31% \tTime: 00:00:19 s \tTest miou: 0.3493 \n",
            "Progress: |███-------|  32% \tTime: 00:00:19 s \tTest miou: 0.3501 \n",
            "Progress: |███-------|  33% \tTime: 00:00:20 s \tTest miou: 0.3517 \n",
            "Progress: |███-------|  34% \tTime: 00:00:21 s \tTest miou: 0.3520 \n",
            "Progress: |███-------|  35% \tTime: 00:00:22 s \tTest miou: 0.3520 \n",
            "Progress: |███-------|  35% \tTime: 00:00:22 s \tTest miou: 0.3525 \n",
            "Progress: |███-------|  36% \tTime: 00:00:23 s \tTest miou: 0.3511 \n",
            "Progress: |███-------|  37% \tTime: 00:00:23 s \tTest miou: 0.3520 \n",
            "Progress: |███-------|  38% \tTime: 00:00:25 s \tTest miou: 0.3499 \n",
            "Progress: |███-------|  39% \tTime: 00:00:25 s \tTest miou: 0.3502 \n",
            "Progress: |███-------|  40% \tTime: 00:00:26 s \tTest miou: 0.3486 \n",
            "Progress: |████------|  41% \tTime: 00:00:26 s \tTest miou: 0.3481 \n",
            "Progress: |████------|  42% \tTime: 00:00:26 s \tTest miou: 0.3480 \n",
            "Progress: |████------|  42% \tTime: 00:00:27 s \tTest miou: 0.3471 \n",
            "Progress: |████------|  43% \tTime: 00:00:27 s \tTest miou: 0.3462 \n",
            "Progress: |████------|  44% \tTime: 00:00:28 s \tTest miou: 0.3451 \n",
            "Progress: |████------|  45% \tTime: 00:00:28 s \tTest miou: 0.3446 \n",
            "Progress: |████------|  46% \tTime: 00:00:29 s \tTest miou: 0.3446 \n",
            "Progress: |████------|  47% \tTime: 00:00:29 s \tTest miou: 0.3441 \n",
            "Progress: |████------|  48% \tTime: 00:00:30 s \tTest miou: 0.3447 \n",
            "Progress: |████------|  49% \tTime: 00:00:30 s \tTest miou: 0.3472 \n",
            "Progress: |████------|  50% \tTime: 00:00:31 s \tTest miou: 0.3472 \n",
            "Progress: |█████-----|  50% \tTime: 00:00:31 s \tTest miou: 0.3466 \n",
            "Progress: |█████-----|  51% \tTime: 00:00:31 s \tTest miou: 0.3470 \n",
            "Progress: |█████-----|  52% \tTime: 00:00:32 s \tTest miou: 0.3481 \n",
            "Progress: |█████-----|  53% \tTime: 00:00:32 s \tTest miou: 0.3499 \n",
            "Progress: |█████-----|  54% \tTime: 00:00:33 s \tTest miou: 0.3488 \n",
            "Progress: |█████-----|  55% \tTime: 00:00:33 s \tTest miou: 0.3509 \n",
            "Progress: |█████-----|  56% \tTime: 00:00:34 s \tTest miou: 0.3499 \n",
            "Progress: |█████-----|  57% \tTime: 00:00:34 s \tTest miou: 0.3493 \n",
            "Progress: |█████-----|  58% \tTime: 00:00:35 s \tTest miou: 0.3490 \n",
            "Progress: |█████-----|  58% \tTime: 00:00:35 s \tTest miou: 0.3482 \n",
            "Progress: |█████-----|  59% \tTime: 00:00:36 s \tTest miou: 0.3463 \n",
            "Progress: |██████----|  60% \tTime: 00:00:37 s \tTest miou: 0.3467 \n",
            "Progress: |██████----|  61% \tTime: 00:00:38 s \tTest miou: 0.3477 \n",
            "Progress: |██████----|  62% \tTime: 00:00:38 s \tTest miou: 0.3481 \n",
            "Progress: |██████----|  63% \tTime: 00:00:39 s \tTest miou: 0.3480 \n",
            "Progress: |██████----|  64% \tTime: 00:00:40 s \tTest miou: 0.3491 \n",
            "Progress: |██████----|  65% \tTime: 00:00:41 s \tTest miou: 0.3485 \n",
            "Progress: |██████----|  65% \tTime: 00:00:41 s \tTest miou: 0.3490 \n",
            "Progress: |██████----|  66% \tTime: 00:00:42 s \tTest miou: 0.3488 \n",
            "Progress: |██████----|  67% \tTime: 00:00:42 s \tTest miou: 0.3486 \n",
            "Progress: |██████----|  68% \tTime: 00:00:43 s \tTest miou: 0.3481 \n",
            "Progress: |██████----|  69% \tTime: 00:00:43 s \tTest miou: 0.3499 \n",
            "Progress: |██████----|  70% \tTime: 00:00:43 s \tTest miou: 0.3509 \n",
            "Progress: |███████---|  71% \tTime: 00:00:44 s \tTest miou: 0.3505 \n",
            "Progress: |███████---|  72% \tTime: 00:00:44 s \tTest miou: 0.3505 \n",
            "Progress: |███████---|  73% \tTime: 00:00:45 s \tTest miou: 0.3513 \n",
            "Progress: |███████---|  73% \tTime: 00:00:45 s \tTest miou: 0.3499 \n",
            "Progress: |███████---|  74% \tTime: 00:00:46 s \tTest miou: 0.3502 \n",
            "Progress: |███████---|  75% \tTime: 00:00:46 s \tTest miou: 0.3505 \n",
            "Progress: |███████---|  76% \tTime: 00:00:46 s \tTest miou: 0.3504 \n",
            "Progress: |███████---|  77% \tTime: 00:00:47 s \tTest miou: 0.3499 \n",
            "Progress: |███████---|  78% \tTime: 00:00:47 s \tTest miou: 0.3496 \n",
            "Progress: |███████---|  79% \tTime: 00:00:48 s \tTest miou: 0.3492 \n",
            "Progress: |███████---|  80% \tTime: 00:00:48 s \tTest miou: 0.3487 \n",
            "Progress: |████████--|  81% \tTime: 00:00:49 s \tTest miou: 0.3487 \n",
            "Progress: |████████--|  81% \tTime: 00:00:49 s \tTest miou: 0.3483 \n",
            "Progress: |████████--|  82% \tTime: 00:00:50 s \tTest miou: 0.3482 \n",
            "Progress: |████████--|  83% \tTime: 00:00:50 s \tTest miou: 0.3491 \n",
            "Progress: |████████--|  84% \tTime: 00:00:51 s \tTest miou: 0.3494 \n",
            "Progress: |████████--|  85% \tTime: 00:00:51 s \tTest miou: 0.3495 \n",
            "Progress: |████████--|  86% \tTime: 00:00:52 s \tTest miou: 0.3491 \n",
            "Progress: |████████--|  87% \tTime: 00:00:53 s \tTest miou: 0.3494 \n",
            "Progress: |████████--|  88% \tTime: 00:00:54 s \tTest miou: 0.3490 \n",
            "Progress: |████████--|  88% \tTime: 00:00:54 s \tTest miou: 0.3483 \n",
            "Progress: |████████--|  89% \tTime: 00:00:55 s \tTest miou: 0.3481 \n",
            "Progress: |█████████-|  90% \tTime: 00:00:56 s \tTest miou: 0.3487 \n",
            "Progress: |█████████-|  91% \tTime: 00:00:56 s \tTest miou: 0.3486 \n",
            "Progress: |█████████-|  92% \tTime: 00:00:57 s \tTest miou: 0.3490 \n",
            "Progress: |█████████-|  93% \tTime: 00:00:57 s \tTest miou: 0.3482 \n",
            "Progress: |█████████-|  94% \tTime: 00:00:58 s \tTest miou: 0.3489 \n",
            "Progress: |█████████-|  95% \tTime: 00:00:58 s \tTest miou: 0.3494 \n",
            "Progress: |█████████-|  96% \tTime: 00:00:58 s \tTest miou: 0.3495 \n",
            "Progress: |█████████-|  96% \tTime: 00:00:59 s \tTest miou: 0.3488 \n",
            "Progress: |█████████-|  97% \tTime: 00:00:59 s \tTest miou: 0.3489 \n",
            "Progress: |█████████-|  98% \tTime: 00:01:00 s \tTest miou: 0.3501 \n",
            "Progress: |█████████-|  99% \tTime: 00:01:00 s \tTest miou: 0.3500 \n",
            "Progress: |██████████|  100% \tTime: 00:01:00 s \tTest miou: 0.3501 \n",
            "\n",
            "\n",
            "Mean Intersection over Union on test images: 35.007 %\n",
            "\tBACKGROUND IoU: 27.469 %\n",
            "\tBUILDING IoU: 44.126 %\n",
            "\tROAD IoU: 49.101 %\n",
            "\tWATER IoU: 50.152 %\n",
            "\tBARREN IoU: 18.925 %\n",
            "\tFOREST IoU: 39.719 %\n",
            "\tAGRICULTURE IoU: 15.554 %\n"
          ]
        }
      ]
    },
    {
      "cell_type": "code",
      "source": [
        "!python3 sem_seg_dacs.py \\\n",
        "    --test \\\n",
        "    --model_name PIDNet_S \\\n",
        "    --version 6 \\\n",
        "    --model_file best_0.pt \\\n",
        "    --target_domain Rural \\\n",
        "    --store drive"
      ],
      "metadata": {
        "colab": {
          "base_uri": "https://localhost:8080/"
        },
        "id": "i7wBspw0N3Gz",
        "outputId": "5f43cc09-5d31-4048-f2ac-2a30c81c218c"
      },
      "id": "i7wBspw0N3Gz",
      "execution_count": 10,
      "outputs": [
        {
          "output_type": "stream",
          "name": "stdout",
          "text": [
            "/usr/local/lib/python3.11/dist-packages/albumentations/__init__.py:24: UserWarning: A new version of Albumentations is available: 2.0.2 (you have 1.4.20). Upgrade using: pip install -U albumentations. To disable automatic update checks, set the environment variable NO_ALBUMENTATIONS_UPDATE to 1.\n",
            "  check_for_updates()\n",
            "CUDA available\n",
            "Number of devices: 1\n",
            "Device 0:\n",
            "\tName: Tesla T4\n",
            "Device: cuda\n",
            "/content/models/pidnet/pidnet.py:188: FutureWarning: You are using `torch.load` with `weights_only=False` (the current default value), which uses the default pickle module implicitly. It is possible to construct malicious pickle data which will execute arbitrary code during unpickling (See https://github.com/pytorch/pytorch/blob/main/SECURITY.md#untrusted-models for more details). In a future release, the default value for `weights_only` will be flipped to `True`. This limits the functions that could be executed during unpickling. Arbitrary objects will no longer be allowed to be loaded via this mode unless they are explicitly allowlisted by the user via `torch.serialization.add_safe_globals`. We recommend you start setting `weights_only=True` for any use case where you don't have full control of the loaded file. Please open an issue on GitHub for any issues related to this experimental feature.\n",
            "  pretrained_state = torch.load(pretrain_model_path, map_location='cpu')['state_dict']\n",
            "Loaded 302 parameters.\n",
            "Model test file: best_0.pt\n",
            "Device: cuda\n",
            "Cuda device name: Tesla T4\n",
            "Dataset target domain: Rural\n",
            "\n",
            "Testing:\n",
            "Progress: |----------|   1% \tTime: 00:00:01 s \tTest miou: 0.1365 \n",
            "Progress: |----------|   1% \tTime: 00:00:02 s \tTest miou: 0.1469 \n",
            "Progress: |----------|   2% \tTime: 00:00:02 s \tTest miou: 0.1679 \n",
            "Progress: |----------|   2% \tTime: 00:00:02 s \tTest miou: 0.1527 \n",
            "Progress: |----------|   3% \tTime: 00:00:03 s \tTest miou: 0.1792 \n",
            "Progress: |----------|   4% \tTime: 00:00:03 s \tTest miou: 0.1675 \n",
            "Progress: |----------|   4% \tTime: 00:00:04 s \tTest miou: 0.1735 \n",
            "Progress: |----------|   5% \tTime: 00:00:04 s \tTest miou: 0.1838 \n",
            "Progress: |----------|   5% \tTime: 00:00:05 s \tTest miou: 0.1927 \n",
            "Progress: |----------|   6% \tTime: 00:00:06 s \tTest miou: 0.1932 \n",
            "Progress: |----------|   7% \tTime: 00:00:07 s \tTest miou: 0.1967 \n",
            "Progress: |----------|   7% \tTime: 00:00:07 s \tTest miou: 0.1919 \n",
            "Progress: |----------|   8% \tTime: 00:00:08 s \tTest miou: 0.1996 \n",
            "Progress: |----------|   8% \tTime: 00:00:09 s \tTest miou: 0.1927 \n",
            "Progress: |----------|   9% \tTime: 00:00:10 s \tTest miou: 0.1937 \n",
            "Progress: |----------|  10% \tTime: 00:00:10 s \tTest miou: 0.1901 \n",
            "Progress: |█---------|  10% \tTime: 00:00:10 s \tTest miou: 0.1866 \n",
            "Progress: |█---------|  11% \tTime: 00:00:11 s \tTest miou: 0.1862 \n",
            "Progress: |█---------|  11% \tTime: 00:00:11 s \tTest miou: 0.1877 \n",
            "Progress: |█---------|  12% \tTime: 00:00:12 s \tTest miou: 0.1902 \n",
            "Progress: |█---------|  13% \tTime: 00:00:12 s \tTest miou: 0.1906 \n",
            "Progress: |█---------|  13% \tTime: 00:00:13 s \tTest miou: 0.1909 \n",
            "Progress: |█---------|  14% \tTime: 00:00:13 s \tTest miou: 0.1885 \n",
            "Progress: |█---------|  14% \tTime: 00:00:13 s \tTest miou: 0.1939 \n",
            "Progress: |█---------|  15% \tTime: 00:00:14 s \tTest miou: 0.1925 \n",
            "Progress: |█---------|  16% \tTime: 00:00:14 s \tTest miou: 0.1924 \n",
            "Progress: |█---------|  16% \tTime: 00:00:15 s \tTest miou: 0.1892 \n",
            "Progress: |█---------|  17% \tTime: 00:00:15 s \tTest miou: 0.1904 \n",
            "Progress: |█---------|  17% \tTime: 00:00:16 s \tTest miou: 0.1906 \n",
            "Progress: |█---------|  18% \tTime: 00:00:16 s \tTest miou: 0.1909 \n",
            "Progress: |█---------|  19% \tTime: 00:00:17 s \tTest miou: 0.1963 \n",
            "Progress: |█---------|  19% \tTime: 00:00:17 s \tTest miou: 0.1969 \n",
            "Progress: |█---------|  20% \tTime: 00:00:18 s \tTest miou: 0.1963 \n",
            "Progress: |██--------|  20% \tTime: 00:00:18 s \tTest miou: 0.1969 \n",
            "Progress: |██--------|  21% \tTime: 00:00:19 s \tTest miou: 0.1950 \n",
            "Progress: |██--------|  22% \tTime: 00:00:19 s \tTest miou: 0.1943 \n",
            "Progress: |██--------|  22% \tTime: 00:00:20 s \tTest miou: 0.1933 \n",
            "Progress: |██--------|  23% \tTime: 00:00:21 s \tTest miou: 0.1935 \n",
            "Progress: |██--------|  23% \tTime: 00:00:22 s \tTest miou: 0.1946 \n",
            "Progress: |██--------|  24% \tTime: 00:00:22 s \tTest miou: 0.1951 \n",
            "Progress: |██--------|  25% \tTime: 00:00:23 s \tTest miou: 0.1959 \n",
            "Progress: |██--------|  25% \tTime: 00:00:24 s \tTest miou: 0.1969 \n",
            "Progress: |██--------|  26% \tTime: 00:00:25 s \tTest miou: 0.1971 \n",
            "Progress: |██--------|  27% \tTime: 00:00:25 s \tTest miou: 0.1970 \n",
            "Progress: |██--------|  27% \tTime: 00:00:26 s \tTest miou: 0.1965 \n",
            "Progress: |██--------|  28% \tTime: 00:00:26 s \tTest miou: 0.1946 \n",
            "Progress: |██--------|  28% \tTime: 00:00:26 s \tTest miou: 0.1961 \n",
            "Progress: |██--------|  29% \tTime: 00:00:27 s \tTest miou: 0.1955 \n",
            "Progress: |██--------|  30% \tTime: 00:00:27 s \tTest miou: 0.1952 \n",
            "Progress: |███-------|  30% \tTime: 00:00:28 s \tTest miou: 0.1959 \n",
            "Progress: |███-------|  31% \tTime: 00:00:28 s \tTest miou: 0.1949 \n",
            "Progress: |███-------|  31% \tTime: 00:00:29 s \tTest miou: 0.1957 \n",
            "Progress: |███-------|  32% \tTime: 00:00:29 s \tTest miou: 0.1949 \n",
            "Progress: |███-------|  33% \tTime: 00:00:30 s \tTest miou: 0.1953 \n",
            "Progress: |███-------|  33% \tTime: 00:00:30 s \tTest miou: 0.1950 \n",
            "Progress: |███-------|  34% \tTime: 00:00:31 s \tTest miou: 0.1951 \n",
            "Progress: |███-------|  34% \tTime: 00:00:31 s \tTest miou: 0.1951 \n",
            "Progress: |███-------|  35% \tTime: 00:00:31 s \tTest miou: 0.1960 \n",
            "Progress: |███-------|  36% \tTime: 00:00:32 s \tTest miou: 0.1980 \n",
            "Progress: |███-------|  36% \tTime: 00:00:32 s \tTest miou: 0.1981 \n",
            "Progress: |███-------|  37% \tTime: 00:00:33 s \tTest miou: 0.1997 \n",
            "Progress: |███-------|  37% \tTime: 00:00:33 s \tTest miou: 0.1998 \n",
            "Progress: |███-------|  38% \tTime: 00:00:34 s \tTest miou: 0.2012 \n",
            "Progress: |███-------|  39% \tTime: 00:00:34 s \tTest miou: 0.2024 \n",
            "Progress: |███-------|  39% \tTime: 00:00:35 s \tTest miou: 0.2029 \n",
            "Progress: |███-------|  40% \tTime: 00:00:36 s \tTest miou: 0.2028 \n",
            "Progress: |████------|  40% \tTime: 00:00:37 s \tTest miou: 0.2020 \n",
            "Progress: |████------|  41% \tTime: 00:00:37 s \tTest miou: 0.2017 \n",
            "Progress: |████------|  42% \tTime: 00:00:38 s \tTest miou: 0.2005 \n",
            "Progress: |████------|  42% \tTime: 00:00:38 s \tTest miou: 0.2001 \n",
            "Progress: |████------|  43% \tTime: 00:00:40 s \tTest miou: 0.2002 \n",
            "Progress: |████------|  43% \tTime: 00:00:40 s \tTest miou: 0.1990 \n",
            "Progress: |████------|  44% \tTime: 00:00:40 s \tTest miou: 0.1984 \n",
            "Progress: |████------|  45% \tTime: 00:00:41 s \tTest miou: 0.1985 \n",
            "Progress: |████------|  45% \tTime: 00:00:41 s \tTest miou: 0.1975 \n",
            "Progress: |████------|  46% \tTime: 00:00:42 s \tTest miou: 0.1971 \n",
            "Progress: |████------|  46% \tTime: 00:00:42 s \tTest miou: 0.1980 \n",
            "Progress: |████------|  47% \tTime: 00:00:43 s \tTest miou: 0.1991 \n",
            "Progress: |████------|  48% \tTime: 00:00:43 s \tTest miou: 0.1998 \n",
            "Progress: |████------|  48% \tTime: 00:00:43 s \tTest miou: 0.1988 \n",
            "Progress: |████------|  49% \tTime: 00:00:44 s \tTest miou: 0.1991 \n",
            "Progress: |████------|  49% \tTime: 00:00:44 s \tTest miou: 0.1987 \n",
            "Progress: |█████-----|  50% \tTime: 00:00:45 s \tTest miou: 0.1994 \n",
            "Progress: |█████-----|  51% \tTime: 00:00:45 s \tTest miou: 0.1990 \n",
            "Progress: |█████-----|  51% \tTime: 00:00:46 s \tTest miou: 0.1984 \n",
            "Progress: |█████-----|  52% \tTime: 00:00:46 s \tTest miou: 0.1975 \n",
            "Progress: |█████-----|  52% \tTime: 00:00:47 s \tTest miou: 0.1967 \n",
            "Progress: |█████-----|  53% \tTime: 00:00:47 s \tTest miou: 0.1954 \n",
            "Progress: |█████-----|  54% \tTime: 00:00:48 s \tTest miou: 0.1951 \n",
            "Progress: |█████-----|  54% \tTime: 00:00:48 s \tTest miou: 0.1942 \n",
            "Progress: |█████-----|  55% \tTime: 00:00:49 s \tTest miou: 0.1950 \n",
            "Progress: |█████-----|  55% \tTime: 00:00:49 s \tTest miou: 0.1948 \n",
            "Progress: |█████-----|  56% \tTime: 00:00:49 s \tTest miou: 0.1947 \n",
            "Progress: |█████-----|  57% \tTime: 00:00:50 s \tTest miou: 0.1952 \n",
            "Progress: |█████-----|  57% \tTime: 00:00:51 s \tTest miou: 0.1958 \n",
            "Progress: |█████-----|  58% \tTime: 00:00:51 s \tTest miou: 0.1954 \n",
            "Progress: |█████-----|  58% \tTime: 00:00:53 s \tTest miou: 0.1946 \n",
            "Progress: |█████-----|  59% \tTime: 00:00:53 s \tTest miou: 0.1939 \n",
            "Progress: |█████-----|  60% \tTime: 00:00:54 s \tTest miou: 0.1929 \n",
            "Progress: |██████----|  60% \tTime: 00:00:54 s \tTest miou: 0.1933 \n",
            "Progress: |██████----|  61% \tTime: 00:00:55 s \tTest miou: 0.1926 \n",
            "Progress: |██████----|  61% \tTime: 00:00:55 s \tTest miou: 0.1926 \n",
            "Progress: |██████----|  62% \tTime: 00:00:56 s \tTest miou: 0.1938 \n",
            "Progress: |██████----|  63% \tTime: 00:00:56 s \tTest miou: 0.1941 \n",
            "Progress: |██████----|  63% \tTime: 00:00:57 s \tTest miou: 0.1949 \n",
            "Progress: |██████----|  64% \tTime: 00:00:57 s \tTest miou: 0.1945 \n",
            "Progress: |██████----|  64% \tTime: 00:00:58 s \tTest miou: 0.1951 \n",
            "Progress: |██████----|  65% \tTime: 00:00:58 s \tTest miou: 0.1957 \n",
            "Progress: |██████----|  66% \tTime: 00:00:59 s \tTest miou: 0.1960 \n",
            "Progress: |██████----|  66% \tTime: 00:00:59 s \tTest miou: 0.1963 \n",
            "Progress: |██████----|  67% \tTime: 00:01:00 s \tTest miou: 0.1970 \n",
            "Progress: |██████----|  67% \tTime: 00:01:00 s \tTest miou: 0.1964 \n",
            "Progress: |██████----|  68% \tTime: 00:01:01 s \tTest miou: 0.1968 \n",
            "Progress: |██████----|  69% \tTime: 00:01:01 s \tTest miou: 0.1971 \n",
            "Progress: |██████----|  69% \tTime: 00:01:02 s \tTest miou: 0.1964 \n",
            "Progress: |██████----|  70% \tTime: 00:01:02 s \tTest miou: 0.1961 \n",
            "Progress: |███████---|  70% \tTime: 00:01:03 s \tTest miou: 0.1952 \n",
            "Progress: |███████---|  71% \tTime: 00:01:03 s \tTest miou: 0.1960 \n",
            "Progress: |███████---|  72% \tTime: 00:01:04 s \tTest miou: 0.1961 \n",
            "Progress: |███████---|  72% \tTime: 00:01:04 s \tTest miou: 0.1958 \n",
            "Progress: |███████---|  73% \tTime: 00:01:05 s \tTest miou: 0.1955 \n",
            "Progress: |███████---|  73% \tTime: 00:01:05 s \tTest miou: 0.1960 \n",
            "Progress: |███████---|  74% \tTime: 00:01:06 s \tTest miou: 0.1967 \n",
            "Progress: |███████---|  75% \tTime: 00:01:06 s \tTest miou: 0.1970 \n",
            "Progress: |███████---|  75% \tTime: 00:01:07 s \tTest miou: 0.1970 \n",
            "Progress: |███████---|  76% \tTime: 00:01:08 s \tTest miou: 0.1973 \n",
            "Progress: |███████---|  77% \tTime: 00:01:09 s \tTest miou: 0.1976 \n",
            "Progress: |███████---|  77% \tTime: 00:01:09 s \tTest miou: 0.1976 \n",
            "Progress: |███████---|  78% \tTime: 00:01:10 s \tTest miou: 0.1974 \n",
            "Progress: |███████---|  78% \tTime: 00:01:10 s \tTest miou: 0.1981 \n",
            "Progress: |███████---|  79% \tTime: 00:01:11 s \tTest miou: 0.1977 \n",
            "Progress: |███████---|  80% \tTime: 00:01:11 s \tTest miou: 0.1972 \n",
            "Progress: |████████--|  80% \tTime: 00:01:12 s \tTest miou: 0.1976 \n",
            "Progress: |████████--|  81% \tTime: 00:01:12 s \tTest miou: 0.1981 \n",
            "Progress: |████████--|  81% \tTime: 00:01:13 s \tTest miou: 0.1986 \n",
            "Progress: |████████--|  82% \tTime: 00:01:13 s \tTest miou: 0.1986 \n",
            "Progress: |████████--|  83% \tTime: 00:01:14 s \tTest miou: 0.1997 \n",
            "Progress: |████████--|  83% \tTime: 00:01:14 s \tTest miou: 0.2002 \n",
            "Progress: |████████--|  84% \tTime: 00:01:15 s \tTest miou: 0.1997 \n",
            "Progress: |████████--|  84% \tTime: 00:01:15 s \tTest miou: 0.1999 \n",
            "Progress: |████████--|  85% \tTime: 00:01:16 s \tTest miou: 0.1992 \n",
            "Progress: |████████--|  86% \tTime: 00:01:16 s \tTest miou: 0.1992 \n",
            "Progress: |████████--|  86% \tTime: 00:01:17 s \tTest miou: 0.1989 \n",
            "Progress: |████████--|  87% \tTime: 00:01:17 s \tTest miou: 0.1990 \n",
            "Progress: |████████--|  87% \tTime: 00:01:18 s \tTest miou: 0.1984 \n",
            "Progress: |████████--|  88% \tTime: 00:01:18 s \tTest miou: 0.1982 \n",
            "Progress: |████████--|  89% \tTime: 00:01:18 s \tTest miou: 0.1985 \n",
            "Progress: |████████--|  89% \tTime: 00:01:19 s \tTest miou: 0.1978 \n",
            "Progress: |████████--|  90% \tTime: 00:01:19 s \tTest miou: 0.1980 \n",
            "Progress: |█████████-|  90% \tTime: 00:01:20 s \tTest miou: 0.1982 \n",
            "Progress: |█████████-|  91% \tTime: 00:01:20 s \tTest miou: 0.1981 \n",
            "Progress: |█████████-|  92% \tTime: 00:01:21 s \tTest miou: 0.1983 \n",
            "Progress: |█████████-|  92% \tTime: 00:01:22 s \tTest miou: 0.1984 \n",
            "Progress: |█████████-|  93% \tTime: 00:01:22 s \tTest miou: 0.1986 \n",
            "Progress: |█████████-|  93% \tTime: 00:01:23 s \tTest miou: 0.1993 \n",
            "Progress: |█████████-|  94% \tTime: 00:01:24 s \tTest miou: 0.1998 \n",
            "Progress: |█████████-|  95% \tTime: 00:01:25 s \tTest miou: 0.1994 \n",
            "Progress: |█████████-|  95% \tTime: 00:01:25 s \tTest miou: 0.1991 \n",
            "Progress: |█████████-|  96% \tTime: 00:01:26 s \tTest miou: 0.1985 \n",
            "Progress: |█████████-|  96% \tTime: 00:01:26 s \tTest miou: 0.1990 \n",
            "Progress: |█████████-|  97% \tTime: 00:01:27 s \tTest miou: 0.1990 \n",
            "Progress: |█████████-|  98% \tTime: 00:01:27 s \tTest miou: 0.1991 \n",
            "Progress: |█████████-|  98% \tTime: 00:01:28 s \tTest miou: 0.1996 \n",
            "Progress: |█████████-|  99% \tTime: 00:01:28 s \tTest miou: 0.1992 \n",
            "Progress: |█████████-|  99% \tTime: 00:01:28 s \tTest miou: 0.1990 \n",
            "Progress: |██████████|  100% \tTime: 00:01:28 s \tTest miou: 0.1984 \n",
            "\n",
            "\n",
            "Mean Intersection over Union on test images: 19.841 %\n",
            "\tBACKGROUND IoU: 47.260 %\n",
            "\tBUILDING IoU: 24.698 %\n",
            "\tROAD IoU: 22.095 %\n",
            "\tWATER IoU: 22.028 %\n",
            "\tBARREN IoU: 6.111 %\n",
            "\tFOREST IoU: 1.700 %\n",
            "\tAGRICULTURE IoU: 14.899 %\n"
          ]
        }
      ]
    },
    {
      "cell_type": "code",
      "source": [
        "!python3 sem_seg_dacs.py \\\n",
        "    --test \\\n",
        "    --model_name PIDNet_S \\\n",
        "    --version 6 \\\n",
        "    --model_file last_0.pt \\\n",
        "    --target_domain Rural \\\n",
        "    --store drive"
      ],
      "metadata": {
        "colab": {
          "base_uri": "https://localhost:8080/"
        },
        "id": "JElIa2jeR-w_",
        "outputId": "a5f243f5-22c8-489c-be2e-5b2dd764beaa"
      },
      "id": "JElIa2jeR-w_",
      "execution_count": 15,
      "outputs": [
        {
          "output_type": "stream",
          "name": "stdout",
          "text": [
            "/usr/local/lib/python3.11/dist-packages/albumentations/__init__.py:24: UserWarning: A new version of Albumentations is available: 2.0.2 (you have 1.4.20). Upgrade using: pip install -U albumentations. To disable automatic update checks, set the environment variable NO_ALBUMENTATIONS_UPDATE to 1.\n",
            "  check_for_updates()\n",
            "CUDA available\n",
            "Number of devices: 1\n",
            "Device 0:\n",
            "\tName: Tesla T4\n",
            "Device: cuda\n",
            "/content/models/pidnet/pidnet.py:188: FutureWarning: You are using `torch.load` with `weights_only=False` (the current default value), which uses the default pickle module implicitly. It is possible to construct malicious pickle data which will execute arbitrary code during unpickling (See https://github.com/pytorch/pytorch/blob/main/SECURITY.md#untrusted-models for more details). In a future release, the default value for `weights_only` will be flipped to `True`. This limits the functions that could be executed during unpickling. Arbitrary objects will no longer be allowed to be loaded via this mode unless they are explicitly allowlisted by the user via `torch.serialization.add_safe_globals`. We recommend you start setting `weights_only=True` for any use case where you don't have full control of the loaded file. Please open an issue on GitHub for any issues related to this experimental feature.\n",
            "  pretrained_state = torch.load(pretrain_model_path, map_location='cpu')['state_dict']\n",
            "Loaded 302 parameters.\n",
            "Model test file: last_0.pt\n",
            "Device: cuda\n",
            "Cuda device name: Tesla T4\n",
            "Dataset target domain: Rural\n",
            "\n",
            "Testing:\n",
            "Progress: |----------|   1% \tTime: 00:00:01 s \tTest miou: 0.1179 \n",
            "Progress: |----------|   1% \tTime: 00:00:02 s \tTest miou: 0.1384 \n",
            "Progress: |----------|   2% \tTime: 00:00:02 s \tTest miou: 0.1636 \n",
            "Progress: |----------|   2% \tTime: 00:00:02 s \tTest miou: 0.1625 \n",
            "Progress: |----------|   3% \tTime: 00:00:03 s \tTest miou: 0.1923 \n",
            "Progress: |----------|   4% \tTime: 00:00:03 s \tTest miou: 0.1802 \n",
            "Progress: |----------|   4% \tTime: 00:00:05 s \tTest miou: 0.1874 \n",
            "Progress: |----------|   5% \tTime: 00:00:05 s \tTest miou: 0.2035 \n",
            "Progress: |----------|   5% \tTime: 00:00:06 s \tTest miou: 0.2125 \n",
            "Progress: |----------|   6% \tTime: 00:00:06 s \tTest miou: 0.2120 \n",
            "Progress: |----------|   7% \tTime: 00:00:08 s \tTest miou: 0.2155 \n",
            "Progress: |----------|   7% \tTime: 00:00:08 s \tTest miou: 0.2094 \n",
            "Progress: |----------|   8% \tTime: 00:00:08 s \tTest miou: 0.2182 \n",
            "Progress: |----------|   8% \tTime: 00:00:09 s \tTest miou: 0.2089 \n",
            "Progress: |----------|   9% \tTime: 00:00:09 s \tTest miou: 0.2087 \n",
            "Progress: |----------|  10% \tTime: 00:00:10 s \tTest miou: 0.2059 \n",
            "Progress: |█---------|  10% \tTime: 00:00:10 s \tTest miou: 0.2010 \n",
            "Progress: |█---------|  11% \tTime: 00:00:11 s \tTest miou: 0.2006 \n",
            "Progress: |█---------|  11% \tTime: 00:00:11 s \tTest miou: 0.2014 \n",
            "Progress: |█---------|  12% \tTime: 00:00:12 s \tTest miou: 0.2035 \n",
            "Progress: |█---------|  13% \tTime: 00:00:12 s \tTest miou: 0.2045 \n",
            "Progress: |█---------|  13% \tTime: 00:00:12 s \tTest miou: 0.2060 \n",
            "Progress: |█---------|  14% \tTime: 00:00:13 s \tTest miou: 0.2046 \n",
            "Progress: |█---------|  14% \tTime: 00:00:13 s \tTest miou: 0.2117 \n",
            "Progress: |█---------|  15% \tTime: 00:00:14 s \tTest miou: 0.2092 \n",
            "Progress: |█---------|  16% \tTime: 00:00:14 s \tTest miou: 0.2130 \n",
            "Progress: |█---------|  16% \tTime: 00:00:15 s \tTest miou: 0.2109 \n",
            "Progress: |█---------|  17% \tTime: 00:00:15 s \tTest miou: 0.2120 \n",
            "Progress: |█---------|  17% \tTime: 00:00:16 s \tTest miou: 0.2130 \n",
            "Progress: |█---------|  18% \tTime: 00:00:16 s \tTest miou: 0.2128 \n",
            "Progress: |█---------|  19% \tTime: 00:00:17 s \tTest miou: 0.2180 \n",
            "Progress: |█---------|  19% \tTime: 00:00:17 s \tTest miou: 0.2191 \n",
            "Progress: |█---------|  20% \tTime: 00:00:18 s \tTest miou: 0.2187 \n",
            "Progress: |██--------|  20% \tTime: 00:00:18 s \tTest miou: 0.2195 \n",
            "Progress: |██--------|  21% \tTime: 00:00:19 s \tTest miou: 0.2174 \n",
            "Progress: |██--------|  22% \tTime: 00:00:20 s \tTest miou: 0.2160 \n",
            "Progress: |██--------|  22% \tTime: 00:00:21 s \tTest miou: 0.2149 \n",
            "Progress: |██--------|  23% \tTime: 00:00:21 s \tTest miou: 0.2122 \n",
            "Progress: |██--------|  23% \tTime: 00:00:22 s \tTest miou: 0.2137 \n",
            "Progress: |██--------|  24% \tTime: 00:00:23 s \tTest miou: 0.2136 \n",
            "Progress: |██--------|  25% \tTime: 00:00:24 s \tTest miou: 0.2150 \n",
            "Progress: |██--------|  25% \tTime: 00:00:24 s \tTest miou: 0.2154 \n",
            "Progress: |██--------|  26% \tTime: 00:00:24 s \tTest miou: 0.2161 \n",
            "Progress: |██--------|  27% \tTime: 00:00:25 s \tTest miou: 0.2152 \n",
            "Progress: |██--------|  27% \tTime: 00:00:25 s \tTest miou: 0.2145 \n",
            "Progress: |██--------|  28% \tTime: 00:00:26 s \tTest miou: 0.2119 \n",
            "Progress: |██--------|  28% \tTime: 00:00:26 s \tTest miou: 0.2140 \n",
            "Progress: |██--------|  29% \tTime: 00:00:27 s \tTest miou: 0.2138 \n",
            "Progress: |██--------|  30% \tTime: 00:00:27 s \tTest miou: 0.2140 \n",
            "Progress: |███-------|  30% \tTime: 00:00:28 s \tTest miou: 0.2152 \n",
            "Progress: |███-------|  31% \tTime: 00:00:28 s \tTest miou: 0.2138 \n",
            "Progress: |███-------|  31% \tTime: 00:00:28 s \tTest miou: 0.2152 \n",
            "Progress: |███-------|  32% \tTime: 00:00:29 s \tTest miou: 0.2138 \n",
            "Progress: |███-------|  33% \tTime: 00:00:29 s \tTest miou: 0.2142 \n",
            "Progress: |███-------|  33% \tTime: 00:00:30 s \tTest miou: 0.2132 \n",
            "Progress: |███-------|  34% \tTime: 00:00:30 s \tTest miou: 0.2135 \n",
            "Progress: |███-------|  34% \tTime: 00:00:31 s \tTest miou: 0.2136 \n",
            "Progress: |███-------|  35% \tTime: 00:00:31 s \tTest miou: 0.2155 \n",
            "Progress: |███-------|  36% \tTime: 00:00:32 s \tTest miou: 0.2174 \n",
            "Progress: |███-------|  36% \tTime: 00:00:32 s \tTest miou: 0.2179 \n",
            "Progress: |███-------|  37% \tTime: 00:00:33 s \tTest miou: 0.2189 \n",
            "Progress: |███-------|  37% \tTime: 00:00:33 s \tTest miou: 0.2195 \n",
            "Progress: |███-------|  38% \tTime: 00:00:35 s \tTest miou: 0.2211 \n",
            "Progress: |███-------|  39% \tTime: 00:00:35 s \tTest miou: 0.2227 \n",
            "Progress: |███-------|  39% \tTime: 00:00:36 s \tTest miou: 0.2229 \n",
            "Progress: |███-------|  40% \tTime: 00:00:36 s \tTest miou: 0.2223 \n",
            "Progress: |████------|  40% \tTime: 00:00:38 s \tTest miou: 0.2219 \n",
            "Progress: |████------|  41% \tTime: 00:00:38 s \tTest miou: 0.2215 \n",
            "Progress: |████------|  42% \tTime: 00:00:39 s \tTest miou: 0.2205 \n",
            "Progress: |████------|  42% \tTime: 00:00:39 s \tTest miou: 0.2200 \n",
            "Progress: |████------|  43% \tTime: 00:00:40 s \tTest miou: 0.2199 \n",
            "Progress: |████------|  43% \tTime: 00:00:40 s \tTest miou: 0.2191 \n",
            "Progress: |████------|  44% \tTime: 00:00:41 s \tTest miou: 0.2187 \n",
            "Progress: |████------|  45% \tTime: 00:00:41 s \tTest miou: 0.2185 \n",
            "Progress: |████------|  45% \tTime: 00:00:42 s \tTest miou: 0.2172 \n",
            "Progress: |████------|  46% \tTime: 00:00:42 s \tTest miou: 0.2164 \n",
            "Progress: |████------|  46% \tTime: 00:00:42 s \tTest miou: 0.2174 \n",
            "Progress: |████------|  47% \tTime: 00:00:43 s \tTest miou: 0.2187 \n",
            "Progress: |████------|  48% \tTime: 00:00:43 s \tTest miou: 0.2191 \n",
            "Progress: |████------|  48% \tTime: 00:00:44 s \tTest miou: 0.2179 \n",
            "Progress: |████------|  49% \tTime: 00:00:44 s \tTest miou: 0.2187 \n",
            "Progress: |████------|  49% \tTime: 00:00:45 s \tTest miou: 0.2184 \n",
            "Progress: |█████-----|  50% \tTime: 00:00:46 s \tTest miou: 0.2192 \n",
            "Progress: |█████-----|  51% \tTime: 00:00:46 s \tTest miou: 0.2194 \n",
            "Progress: |█████-----|  51% \tTime: 00:00:46 s \tTest miou: 0.2184 \n",
            "Progress: |█████-----|  52% \tTime: 00:00:47 s \tTest miou: 0.2173 \n",
            "Progress: |█████-----|  52% \tTime: 00:00:47 s \tTest miou: 0.2161 \n",
            "Progress: |█████-----|  53% \tTime: 00:00:48 s \tTest miou: 0.2149 \n",
            "Progress: |█████-----|  54% \tTime: 00:00:48 s \tTest miou: 0.2149 \n",
            "Progress: |█████-----|  54% \tTime: 00:00:48 s \tTest miou: 0.2139 \n",
            "Progress: |█████-----|  55% \tTime: 00:00:50 s \tTest miou: 0.2148 \n",
            "Progress: |█████-----|  55% \tTime: 00:00:50 s \tTest miou: 0.2145 \n",
            "Progress: |█████-----|  56% \tTime: 00:00:51 s \tTest miou: 0.2143 \n",
            "Progress: |█████-----|  57% \tTime: 00:00:52 s \tTest miou: 0.2147 \n",
            "Progress: |█████-----|  57% \tTime: 00:00:53 s \tTest miou: 0.2149 \n",
            "Progress: |█████-----|  58% \tTime: 00:00:53 s \tTest miou: 0.2137 \n",
            "Progress: |█████-----|  58% \tTime: 00:00:54 s \tTest miou: 0.2129 \n",
            "Progress: |█████-----|  59% \tTime: 00:00:54 s \tTest miou: 0.2125 \n",
            "Progress: |█████-----|  60% \tTime: 00:00:55 s \tTest miou: 0.2115 \n",
            "Progress: |██████----|  60% \tTime: 00:00:55 s \tTest miou: 0.2117 \n",
            "Progress: |██████----|  61% \tTime: 00:00:56 s \tTest miou: 0.2117 \n",
            "Progress: |██████----|  61% \tTime: 00:00:56 s \tTest miou: 0.2114 \n",
            "Progress: |██████----|  62% \tTime: 00:00:57 s \tTest miou: 0.2126 \n",
            "Progress: |██████----|  63% \tTime: 00:00:57 s \tTest miou: 0.2128 \n",
            "Progress: |██████----|  63% \tTime: 00:00:58 s \tTest miou: 0.2138 \n",
            "Progress: |██████----|  64% \tTime: 00:00:58 s \tTest miou: 0.2137 \n",
            "Progress: |██████----|  64% \tTime: 00:00:59 s \tTest miou: 0.2139 \n",
            "Progress: |██████----|  65% \tTime: 00:00:59 s \tTest miou: 0.2145 \n",
            "Progress: |██████----|  66% \tTime: 00:01:00 s \tTest miou: 0.2148 \n",
            "Progress: |██████----|  66% \tTime: 00:01:00 s \tTest miou: 0.2148 \n",
            "Progress: |██████----|  67% \tTime: 00:01:01 s \tTest miou: 0.2155 \n",
            "Progress: |██████----|  67% \tTime: 00:01:01 s \tTest miou: 0.2148 \n",
            "Progress: |██████----|  68% \tTime: 00:01:01 s \tTest miou: 0.2150 \n",
            "Progress: |██████----|  69% \tTime: 00:01:02 s \tTest miou: 0.2154 \n",
            "Progress: |██████----|  69% \tTime: 00:01:02 s \tTest miou: 0.2149 \n",
            "Progress: |██████----|  70% \tTime: 00:01:02 s \tTest miou: 0.2145 \n",
            "Progress: |███████---|  70% \tTime: 00:01:03 s \tTest miou: 0.2138 \n",
            "Progress: |███████---|  71% \tTime: 00:01:03 s \tTest miou: 0.2146 \n",
            "Progress: |███████---|  72% \tTime: 00:01:04 s \tTest miou: 0.2149 \n",
            "Progress: |███████---|  72% \tTime: 00:01:05 s \tTest miou: 0.2142 \n",
            "Progress: |███████---|  73% \tTime: 00:01:06 s \tTest miou: 0.2137 \n",
            "Progress: |███████---|  73% \tTime: 00:01:06 s \tTest miou: 0.2142 \n",
            "Progress: |███████---|  74% \tTime: 00:01:07 s \tTest miou: 0.2150 \n",
            "Progress: |███████---|  75% \tTime: 00:01:08 s \tTest miou: 0.2149 \n",
            "Progress: |███████---|  75% \tTime: 00:01:09 s \tTest miou: 0.2147 \n",
            "Progress: |███████---|  76% \tTime: 00:01:09 s \tTest miou: 0.2150 \n",
            "Progress: |███████---|  77% \tTime: 00:01:10 s \tTest miou: 0.2153 \n",
            "Progress: |███████---|  77% \tTime: 00:01:10 s \tTest miou: 0.2155 \n",
            "Progress: |███████---|  78% \tTime: 00:01:11 s \tTest miou: 0.2153 \n",
            "Progress: |███████---|  78% \tTime: 00:01:11 s \tTest miou: 0.2158 \n",
            "Progress: |███████---|  79% \tTime: 00:01:12 s \tTest miou: 0.2152 \n",
            "Progress: |███████---|  80% \tTime: 00:01:12 s \tTest miou: 0.2144 \n",
            "Progress: |████████--|  80% \tTime: 00:01:13 s \tTest miou: 0.2150 \n",
            "Progress: |████████--|  81% \tTime: 00:01:13 s \tTest miou: 0.2159 \n",
            "Progress: |████████--|  81% \tTime: 00:01:14 s \tTest miou: 0.2162 \n",
            "Progress: |████████--|  82% \tTime: 00:01:14 s \tTest miou: 0.2159 \n",
            "Progress: |████████--|  83% \tTime: 00:01:15 s \tTest miou: 0.2166 \n",
            "Progress: |████████--|  83% \tTime: 00:01:15 s \tTest miou: 0.2169 \n",
            "Progress: |████████--|  84% \tTime: 00:01:15 s \tTest miou: 0.2165 \n",
            "Progress: |████████--|  84% \tTime: 00:01:16 s \tTest miou: 0.2166 \n",
            "Progress: |████████--|  85% \tTime: 00:01:16 s \tTest miou: 0.2159 \n",
            "Progress: |████████--|  86% \tTime: 00:01:17 s \tTest miou: 0.2161 \n",
            "Progress: |████████--|  86% \tTime: 00:01:17 s \tTest miou: 0.2160 \n",
            "Progress: |████████--|  87% \tTime: 00:01:17 s \tTest miou: 0.2160 \n",
            "Progress: |████████--|  87% \tTime: 00:01:18 s \tTest miou: 0.2152 \n",
            "Progress: |████████--|  88% \tTime: 00:01:18 s \tTest miou: 0.2151 \n",
            "Progress: |████████--|  89% \tTime: 00:01:19 s \tTest miou: 0.2152 \n",
            "Progress: |████████--|  89% \tTime: 00:01:20 s \tTest miou: 0.2144 \n",
            "Progress: |████████--|  90% \tTime: 00:01:21 s \tTest miou: 0.2147 \n",
            "Progress: |█████████-|  90% \tTime: 00:01:21 s \tTest miou: 0.2149 \n",
            "Progress: |█████████-|  91% \tTime: 00:01:22 s \tTest miou: 0.2148 \n",
            "Progress: |█████████-|  92% \tTime: 00:01:23 s \tTest miou: 0.2149 \n",
            "Progress: |█████████-|  92% \tTime: 00:01:24 s \tTest miou: 0.2151 \n",
            "Progress: |█████████-|  93% \tTime: 00:01:24 s \tTest miou: 0.2152 \n",
            "Progress: |█████████-|  93% \tTime: 00:01:25 s \tTest miou: 0.2161 \n",
            "Progress: |█████████-|  94% \tTime: 00:01:25 s \tTest miou: 0.2166 \n",
            "Progress: |█████████-|  95% \tTime: 00:01:26 s \tTest miou: 0.2161 \n",
            "Progress: |█████████-|  95% \tTime: 00:01:26 s \tTest miou: 0.2158 \n",
            "Progress: |█████████-|  96% \tTime: 00:01:27 s \tTest miou: 0.2151 \n",
            "Progress: |█████████-|  96% \tTime: 00:01:27 s \tTest miou: 0.2157 \n",
            "Progress: |█████████-|  97% \tTime: 00:01:28 s \tTest miou: 0.2158 \n",
            "Progress: |█████████-|  98% \tTime: 00:01:28 s \tTest miou: 0.2158 \n",
            "Progress: |█████████-|  98% \tTime: 00:01:29 s \tTest miou: 0.2164 \n",
            "Progress: |█████████-|  99% \tTime: 00:01:29 s \tTest miou: 0.2159 \n",
            "Progress: |█████████-|  99% \tTime: 00:01:29 s \tTest miou: 0.2157 \n",
            "Progress: |██████████|  100% \tTime: 00:01:29 s \tTest miou: 0.2149 \n",
            "\n",
            "\n",
            "Mean Intersection over Union on test images: 21.492 %\n",
            "\tBACKGROUND IoU: 48.427 %\n",
            "\tBUILDING IoU: 27.790 %\n",
            "\tROAD IoU: 19.572 %\n",
            "\tWATER IoU: 22.667 %\n",
            "\tBARREN IoU: 6.542 %\n",
            "\tFOREST IoU: 2.263 %\n",
            "\tAGRICULTURE IoU: 22.938 %\n"
          ]
        }
      ]
    },
    {
      "cell_type": "markdown",
      "source": [
        "Version 7"
      ],
      "metadata": {
        "id": "Isc_7tT8OrNV"
      },
      "id": "Isc_7tT8OrNV"
    },
    {
      "cell_type": "code",
      "source": [
        "# Train\n",
        "!python3 sem_seg_dacs.py \\\n",
        "    --train \\\n",
        "    --model_name PIDNet_S \\\n",
        "    --version 7 \\\n",
        "    --batch_size 4 \\\n",
        "    --augment_mixed \\\n",
        "    --random_crop_augmentation \\\n",
        "    --clahe_augmentation \\\n",
        "    --grayscale_augmentation \\\n",
        "    --lr 0.001 \\\n",
        "    --epochs 20 \\\n",
        "    --store drive"
      ],
      "metadata": {
        "id": "ikzCn-cGOnKz"
      },
      "id": "ikzCn-cGOnKz",
      "execution_count": null,
      "outputs": []
    },
    {
      "cell_type": "code",
      "source": [
        "!python3 sem_seg_dacs.py \\\n",
        "    --test \\\n",
        "    --model_name PIDNet_S \\\n",
        "    --version 7 \\\n",
        "    --model_file best_0.pt \\\n",
        "    --target_domain Urban \\\n",
        "    --store drive"
      ],
      "metadata": {
        "colab": {
          "base_uri": "https://localhost:8080/"
        },
        "id": "KJUmYMoenqZZ",
        "outputId": "bfe3dc7c-2a96-44ed-bdef-205d57b7dfb8"
      },
      "id": "KJUmYMoenqZZ",
      "execution_count": 19,
      "outputs": [
        {
          "output_type": "stream",
          "name": "stdout",
          "text": [
            "/usr/local/lib/python3.11/dist-packages/albumentations/__init__.py:24: UserWarning: A new version of Albumentations is available: 2.0.2 (you have 1.4.20). Upgrade using: pip install -U albumentations. To disable automatic update checks, set the environment variable NO_ALBUMENTATIONS_UPDATE to 1.\n",
            "  check_for_updates()\n",
            "CUDA available\n",
            "Number of devices: 1\n",
            "Device 0:\n",
            "\tName: Tesla T4\n",
            "Device: cuda\n",
            "/content/models/pidnet/pidnet.py:188: FutureWarning: You are using `torch.load` with `weights_only=False` (the current default value), which uses the default pickle module implicitly. It is possible to construct malicious pickle data which will execute arbitrary code during unpickling (See https://github.com/pytorch/pytorch/blob/main/SECURITY.md#untrusted-models for more details). In a future release, the default value for `weights_only` will be flipped to `True`. This limits the functions that could be executed during unpickling. Arbitrary objects will no longer be allowed to be loaded via this mode unless they are explicitly allowlisted by the user via `torch.serialization.add_safe_globals`. We recommend you start setting `weights_only=True` for any use case where you don't have full control of the loaded file. Please open an issue on GitHub for any issues related to this experimental feature.\n",
            "  pretrained_state = torch.load(pretrain_model_path, map_location='cpu')['state_dict']\n",
            "Loaded 302 parameters.\n",
            "Model test file: best_0.pt\n",
            "Device: cuda\n",
            "Cuda device name: Tesla T4\n",
            "Dataset target domain: Urban\n",
            "\n",
            "Testing:\n",
            "Progress: |----------|   1% \tTime: 00:00:03 s \tTest miou: 0.3566 \n",
            "Progress: |----------|   2% \tTime: 00:00:03 s \tTest miou: 0.3691 \n",
            "Progress: |----------|   3% \tTime: 00:00:03 s \tTest miou: 0.3734 \n",
            "Progress: |----------|   4% \tTime: 00:00:04 s \tTest miou: 0.3797 \n",
            "Progress: |----------|   4% \tTime: 00:00:05 s \tTest miou: 0.3769 \n",
            "Progress: |----------|   5% \tTime: 00:00:05 s \tTest miou: 0.3712 \n",
            "Progress: |----------|   6% \tTime: 00:00:06 s \tTest miou: 0.3740 \n",
            "Progress: |----------|   7% \tTime: 00:00:06 s \tTest miou: 0.3706 \n",
            "Progress: |----------|   8% \tTime: 00:00:07 s \tTest miou: 0.3685 \n",
            "Progress: |----------|   9% \tTime: 00:00:07 s \tTest miou: 0.3617 \n",
            "Progress: |----------|  10% \tTime: 00:00:08 s \tTest miou: 0.3623 \n",
            "Progress: |█---------|  11% \tTime: 00:00:08 s \tTest miou: 0.3703 \n",
            "Progress: |█---------|  12% \tTime: 00:00:09 s \tTest miou: 0.3724 \n",
            "Progress: |█---------|  12% \tTime: 00:00:09 s \tTest miou: 0.3706 \n",
            "Progress: |█---------|  13% \tTime: 00:00:10 s \tTest miou: 0.3655 \n",
            "Progress: |█---------|  14% \tTime: 00:00:10 s \tTest miou: 0.3667 \n",
            "Progress: |█---------|  15% \tTime: 00:00:10 s \tTest miou: 0.3684 \n",
            "Progress: |█---------|  16% \tTime: 00:00:11 s \tTest miou: 0.3670 \n",
            "Progress: |█---------|  17% \tTime: 00:00:11 s \tTest miou: 0.3676 \n",
            "Progress: |█---------|  18% \tTime: 00:00:12 s \tTest miou: 0.3681 \n",
            "Progress: |█---------|  19% \tTime: 00:00:12 s \tTest miou: 0.3693 \n",
            "Progress: |█---------|  19% \tTime: 00:00:13 s \tTest miou: 0.3725 \n",
            "Progress: |██--------|  20% \tTime: 00:00:13 s \tTest miou: 0.3745 \n",
            "Progress: |██--------|  21% \tTime: 00:00:14 s \tTest miou: 0.3760 \n",
            "Progress: |██--------|  22% \tTime: 00:00:14 s \tTest miou: 0.3728 \n",
            "Progress: |██--------|  23% \tTime: 00:00:15 s \tTest miou: 0.3710 \n",
            "Progress: |██--------|  24% \tTime: 00:00:16 s \tTest miou: 0.3696 \n",
            "Progress: |██--------|  25% \tTime: 00:00:16 s \tTest miou: 0.3701 \n",
            "Progress: |██--------|  26% \tTime: 00:00:17 s \tTest miou: 0.3726 \n",
            "Progress: |██--------|  27% \tTime: 00:00:18 s \tTest miou: 0.3721 \n",
            "Progress: |██--------|  27% \tTime: 00:00:19 s \tTest miou: 0.3734 \n",
            "Progress: |██--------|  28% \tTime: 00:00:19 s \tTest miou: 0.3733 \n",
            "Progress: |██--------|  29% \tTime: 00:00:20 s \tTest miou: 0.3743 \n",
            "Progress: |███-------|  30% \tTime: 00:00:21 s \tTest miou: 0.3727 \n",
            "Progress: |███-------|  31% \tTime: 00:00:21 s \tTest miou: 0.3732 \n",
            "Progress: |███-------|  32% \tTime: 00:00:22 s \tTest miou: 0.3730 \n",
            "Progress: |███-------|  33% \tTime: 00:00:22 s \tTest miou: 0.3728 \n",
            "Progress: |███-------|  34% \tTime: 00:00:23 s \tTest miou: 0.3718 \n",
            "Progress: |███-------|  35% \tTime: 00:00:23 s \tTest miou: 0.3724 \n",
            "Progress: |███-------|  35% \tTime: 00:00:24 s \tTest miou: 0.3724 \n",
            "Progress: |███-------|  36% \tTime: 00:00:24 s \tTest miou: 0.3714 \n",
            "Progress: |███-------|  37% \tTime: 00:00:25 s \tTest miou: 0.3736 \n",
            "Progress: |███-------|  38% \tTime: 00:00:25 s \tTest miou: 0.3722 \n",
            "Progress: |███-------|  39% \tTime: 00:00:26 s \tTest miou: 0.3728 \n",
            "Progress: |███-------|  40% \tTime: 00:00:26 s \tTest miou: 0.3710 \n",
            "Progress: |████------|  41% \tTime: 00:00:27 s \tTest miou: 0.3702 \n",
            "Progress: |████------|  42% \tTime: 00:00:27 s \tTest miou: 0.3704 \n",
            "Progress: |████------|  42% \tTime: 00:00:28 s \tTest miou: 0.3696 \n",
            "Progress: |████------|  43% \tTime: 00:00:28 s \tTest miou: 0.3689 \n",
            "Progress: |████------|  44% \tTime: 00:00:29 s \tTest miou: 0.3693 \n",
            "Progress: |████------|  45% \tTime: 00:00:29 s \tTest miou: 0.3686 \n",
            "Progress: |████------|  46% \tTime: 00:00:30 s \tTest miou: 0.3677 \n",
            "Progress: |████------|  47% \tTime: 00:00:30 s \tTest miou: 0.3674 \n",
            "Progress: |████------|  48% \tTime: 00:00:31 s \tTest miou: 0.3684 \n",
            "Progress: |████------|  49% \tTime: 00:00:31 s \tTest miou: 0.3709 \n",
            "Progress: |████------|  50% \tTime: 00:00:33 s \tTest miou: 0.3717 \n",
            "Progress: |█████-----|  50% \tTime: 00:00:33 s \tTest miou: 0.3701 \n",
            "Progress: |█████-----|  51% \tTime: 00:00:34 s \tTest miou: 0.3701 \n",
            "Progress: |█████-----|  52% \tTime: 00:00:34 s \tTest miou: 0.3712 \n",
            "Progress: |█████-----|  53% \tTime: 00:00:35 s \tTest miou: 0.3730 \n",
            "Progress: |█████-----|  54% \tTime: 00:00:36 s \tTest miou: 0.3728 \n",
            "Progress: |█████-----|  55% \tTime: 00:00:37 s \tTest miou: 0.3743 \n",
            "Progress: |█████-----|  56% \tTime: 00:00:37 s \tTest miou: 0.3736 \n",
            "Progress: |█████-----|  57% \tTime: 00:00:37 s \tTest miou: 0.3726 \n",
            "Progress: |█████-----|  58% \tTime: 00:00:38 s \tTest miou: 0.3724 \n",
            "Progress: |█████-----|  58% \tTime: 00:00:39 s \tTest miou: 0.3719 \n",
            "Progress: |█████-----|  59% \tTime: 00:00:39 s \tTest miou: 0.3703 \n",
            "Progress: |██████----|  60% \tTime: 00:00:40 s \tTest miou: 0.3707 \n",
            "Progress: |██████----|  61% \tTime: 00:00:40 s \tTest miou: 0.3712 \n",
            "Progress: |██████----|  62% \tTime: 00:00:41 s \tTest miou: 0.3715 \n",
            "Progress: |██████----|  63% \tTime: 00:00:41 s \tTest miou: 0.3718 \n",
            "Progress: |██████----|  64% \tTime: 00:00:41 s \tTest miou: 0.3715 \n",
            "Progress: |██████----|  65% \tTime: 00:00:42 s \tTest miou: 0.3709 \n",
            "Progress: |██████----|  65% \tTime: 00:00:42 s \tTest miou: 0.3712 \n",
            "Progress: |██████----|  66% \tTime: 00:00:43 s \tTest miou: 0.3710 \n",
            "Progress: |██████----|  67% \tTime: 00:00:43 s \tTest miou: 0.3697 \n",
            "Progress: |██████----|  68% \tTime: 00:00:44 s \tTest miou: 0.3688 \n",
            "Progress: |██████----|  69% \tTime: 00:00:44 s \tTest miou: 0.3704 \n",
            "Progress: |██████----|  70% \tTime: 00:00:45 s \tTest miou: 0.3709 \n",
            "Progress: |███████---|  71% \tTime: 00:00:45 s \tTest miou: 0.3705 \n",
            "Progress: |███████---|  72% \tTime: 00:00:46 s \tTest miou: 0.3702 \n",
            "Progress: |███████---|  73% \tTime: 00:00:47 s \tTest miou: 0.3709 \n",
            "Progress: |███████---|  73% \tTime: 00:00:47 s \tTest miou: 0.3707 \n",
            "Progress: |███████---|  74% \tTime: 00:00:49 s \tTest miou: 0.3709 \n",
            "Progress: |███████---|  75% \tTime: 00:00:49 s \tTest miou: 0.3708 \n",
            "Progress: |███████---|  76% \tTime: 00:00:50 s \tTest miou: 0.3712 \n",
            "Progress: |███████---|  77% \tTime: 00:00:50 s \tTest miou: 0.3707 \n",
            "Progress: |███████---|  78% \tTime: 00:00:51 s \tTest miou: 0.3714 \n",
            "Progress: |███████---|  79% \tTime: 00:00:51 s \tTest miou: 0.3715 \n",
            "Progress: |███████---|  80% \tTime: 00:00:52 s \tTest miou: 0.3713 \n",
            "Progress: |████████--|  81% \tTime: 00:00:52 s \tTest miou: 0.3713 \n",
            "Progress: |████████--|  81% \tTime: 00:00:53 s \tTest miou: 0.3708 \n",
            "Progress: |████████--|  82% \tTime: 00:00:53 s \tTest miou: 0.3706 \n",
            "Progress: |████████--|  83% \tTime: 00:00:54 s \tTest miou: 0.3710 \n",
            "Progress: |████████--|  84% \tTime: 00:00:54 s \tTest miou: 0.3711 \n",
            "Progress: |████████--|  85% \tTime: 00:00:55 s \tTest miou: 0.3711 \n",
            "Progress: |████████--|  86% \tTime: 00:00:55 s \tTest miou: 0.3712 \n",
            "Progress: |████████--|  87% \tTime: 00:00:56 s \tTest miou: 0.3707 \n",
            "Progress: |████████--|  88% \tTime: 00:00:56 s \tTest miou: 0.3703 \n",
            "Progress: |████████--|  88% \tTime: 00:00:57 s \tTest miou: 0.3695 \n",
            "Progress: |████████--|  89% \tTime: 00:00:57 s \tTest miou: 0.3687 \n",
            "Progress: |█████████-|  90% \tTime: 00:00:58 s \tTest miou: 0.3689 \n",
            "Progress: |█████████-|  91% \tTime: 00:00:58 s \tTest miou: 0.3688 \n",
            "Progress: |█████████-|  92% \tTime: 00:00:59 s \tTest miou: 0.3694 \n",
            "Progress: |█████████-|  93% \tTime: 00:00:59 s \tTest miou: 0.3689 \n",
            "Progress: |█████████-|  94% \tTime: 00:01:00 s \tTest miou: 0.3695 \n",
            "Progress: |█████████-|  95% \tTime: 00:01:00 s \tTest miou: 0.3699 \n",
            "Progress: |█████████-|  96% \tTime: 00:01:01 s \tTest miou: 0.3703 \n",
            "Progress: |█████████-|  96% \tTime: 00:01:01 s \tTest miou: 0.3701 \n",
            "Progress: |█████████-|  97% \tTime: 00:01:02 s \tTest miou: 0.3704 \n",
            "Progress: |█████████-|  98% \tTime: 00:01:03 s \tTest miou: 0.3711 \n",
            "Progress: |█████████-|  99% \tTime: 00:01:04 s \tTest miou: 0.3716 \n",
            "Progress: |██████████|  100% \tTime: 00:01:04 s \tTest miou: 0.3715 \n",
            "\n",
            "\n",
            "Mean Intersection over Union on test images: 37.153 %\n",
            "\tBACKGROUND IoU: 30.878 %\n",
            "\tBUILDING IoU: 47.367 %\n",
            "\tROAD IoU: 45.914 %\n",
            "\tWATER IoU: 52.461 %\n",
            "\tBARREN IoU: 11.486 %\n",
            "\tFOREST IoU: 39.307 %\n",
            "\tAGRICULTURE IoU: 32.661 %\n"
          ]
        }
      ]
    },
    {
      "cell_type": "code",
      "source": [
        "!python3 sem_seg_dacs.py \\\n",
        "    --test \\\n",
        "    --model_name PIDNet_S \\\n",
        "    --version 7 \\\n",
        "    --model_file best_0.pt \\\n",
        "    --target_domain Rural \\\n",
        "    --store drive"
      ],
      "metadata": {
        "colab": {
          "base_uri": "https://localhost:8080/"
        },
        "id": "4dLA594zobvD",
        "outputId": "57e9ea60-6016-41b0-827d-0f6c56e16ff1"
      },
      "id": "4dLA594zobvD",
      "execution_count": 20,
      "outputs": [
        {
          "output_type": "stream",
          "name": "stdout",
          "text": [
            "/usr/local/lib/python3.11/dist-packages/albumentations/__init__.py:24: UserWarning: A new version of Albumentations is available: 2.0.2 (you have 1.4.20). Upgrade using: pip install -U albumentations. To disable automatic update checks, set the environment variable NO_ALBUMENTATIONS_UPDATE to 1.\n",
            "  check_for_updates()\n",
            "CUDA available\n",
            "Number of devices: 1\n",
            "Device 0:\n",
            "\tName: Tesla T4\n",
            "Device: cuda\n",
            "/content/models/pidnet/pidnet.py:188: FutureWarning: You are using `torch.load` with `weights_only=False` (the current default value), which uses the default pickle module implicitly. It is possible to construct malicious pickle data which will execute arbitrary code during unpickling (See https://github.com/pytorch/pytorch/blob/main/SECURITY.md#untrusted-models for more details). In a future release, the default value for `weights_only` will be flipped to `True`. This limits the functions that could be executed during unpickling. Arbitrary objects will no longer be allowed to be loaded via this mode unless they are explicitly allowlisted by the user via `torch.serialization.add_safe_globals`. We recommend you start setting `weights_only=True` for any use case where you don't have full control of the loaded file. Please open an issue on GitHub for any issues related to this experimental feature.\n",
            "  pretrained_state = torch.load(pretrain_model_path, map_location='cpu')['state_dict']\n",
            "Loaded 302 parameters.\n",
            "Model test file: best_0.pt\n",
            "Device: cuda\n",
            "Cuda device name: Tesla T4\n",
            "Dataset target domain: Rural\n",
            "\n",
            "Testing:\n",
            "Progress: |----------|   1% \tTime: 00:00:02 s \tTest miou: 0.1668 \n",
            "Progress: |----------|   1% \tTime: 00:00:03 s \tTest miou: 0.2105 \n",
            "Progress: |----------|   2% \tTime: 00:00:03 s \tTest miou: 0.2185 \n",
            "Progress: |----------|   2% \tTime: 00:00:04 s \tTest miou: 0.1975 \n",
            "Progress: |----------|   3% \tTime: 00:00:05 s \tTest miou: 0.2126 \n",
            "Progress: |----------|   4% \tTime: 00:00:05 s \tTest miou: 0.2005 \n",
            "Progress: |----------|   4% \tTime: 00:00:06 s \tTest miou: 0.2073 \n",
            "Progress: |----------|   5% \tTime: 00:00:06 s \tTest miou: 0.2218 \n",
            "Progress: |----------|   5% \tTime: 00:00:07 s \tTest miou: 0.2279 \n",
            "Progress: |----------|   6% \tTime: 00:00:07 s \tTest miou: 0.2281 \n",
            "Progress: |----------|   7% \tTime: 00:00:08 s \tTest miou: 0.2288 \n",
            "Progress: |----------|   7% \tTime: 00:00:08 s \tTest miou: 0.2226 \n",
            "Progress: |----------|   8% \tTime: 00:00:09 s \tTest miou: 0.2309 \n",
            "Progress: |----------|   8% \tTime: 00:00:09 s \tTest miou: 0.2229 \n",
            "Progress: |----------|   9% \tTime: 00:00:10 s \tTest miou: 0.2251 \n",
            "Progress: |----------|  10% \tTime: 00:00:10 s \tTest miou: 0.2211 \n",
            "Progress: |█---------|  10% \tTime: 00:00:11 s \tTest miou: 0.2179 \n",
            "Progress: |█---------|  11% \tTime: 00:00:11 s \tTest miou: 0.2165 \n",
            "Progress: |█---------|  11% \tTime: 00:00:12 s \tTest miou: 0.2204 \n",
            "Progress: |█---------|  12% \tTime: 00:00:12 s \tTest miou: 0.2233 \n",
            "Progress: |█---------|  13% \tTime: 00:00:13 s \tTest miou: 0.2264 \n",
            "Progress: |█---------|  13% \tTime: 00:00:13 s \tTest miou: 0.2272 \n",
            "Progress: |█---------|  14% \tTime: 00:00:14 s \tTest miou: 0.2245 \n",
            "Progress: |█---------|  14% \tTime: 00:00:14 s \tTest miou: 0.2305 \n",
            "Progress: |█---------|  15% \tTime: 00:00:15 s \tTest miou: 0.2281 \n",
            "Progress: |█---------|  16% \tTime: 00:00:15 s \tTest miou: 0.2311 \n",
            "Progress: |█---------|  16% \tTime: 00:00:16 s \tTest miou: 0.2284 \n",
            "Progress: |█---------|  17% \tTime: 00:00:17 s \tTest miou: 0.2305 \n",
            "Progress: |█---------|  17% \tTime: 00:00:18 s \tTest miou: 0.2307 \n",
            "Progress: |█---------|  18% \tTime: 00:00:18 s \tTest miou: 0.2291 \n",
            "Progress: |█---------|  19% \tTime: 00:00:19 s \tTest miou: 0.2343 \n",
            "Progress: |█---------|  19% \tTime: 00:00:20 s \tTest miou: 0.2340 \n",
            "Progress: |█---------|  20% \tTime: 00:00:20 s \tTest miou: 0.2341 \n",
            "Progress: |██--------|  20% \tTime: 00:00:21 s \tTest miou: 0.2356 \n",
            "Progress: |██--------|  21% \tTime: 00:00:21 s \tTest miou: 0.2342 \n",
            "Progress: |██--------|  22% \tTime: 00:00:22 s \tTest miou: 0.2328 \n",
            "Progress: |██--------|  22% \tTime: 00:00:22 s \tTest miou: 0.2311 \n",
            "Progress: |██--------|  23% \tTime: 00:00:23 s \tTest miou: 0.2288 \n",
            "Progress: |██--------|  23% \tTime: 00:00:23 s \tTest miou: 0.2302 \n",
            "Progress: |██--------|  24% \tTime: 00:00:24 s \tTest miou: 0.2307 \n",
            "Progress: |██--------|  25% \tTime: 00:00:24 s \tTest miou: 0.2310 \n",
            "Progress: |██--------|  25% \tTime: 00:00:24 s \tTest miou: 0.2314 \n",
            "Progress: |██--------|  26% \tTime: 00:00:25 s \tTest miou: 0.2319 \n",
            "Progress: |██--------|  27% \tTime: 00:00:26 s \tTest miou: 0.2320 \n",
            "Progress: |██--------|  27% \tTime: 00:00:26 s \tTest miou: 0.2311 \n",
            "Progress: |██--------|  28% \tTime: 00:00:27 s \tTest miou: 0.2282 \n",
            "Progress: |██--------|  28% \tTime: 00:00:27 s \tTest miou: 0.2302 \n",
            "Progress: |██--------|  29% \tTime: 00:00:28 s \tTest miou: 0.2298 \n",
            "Progress: |██--------|  30% \tTime: 00:00:28 s \tTest miou: 0.2307 \n",
            "Progress: |███-------|  30% \tTime: 00:00:29 s \tTest miou: 0.2327 \n",
            "Progress: |███-------|  31% \tTime: 00:00:29 s \tTest miou: 0.2314 \n",
            "Progress: |███-------|  31% \tTime: 00:00:30 s \tTest miou: 0.2327 \n",
            "Progress: |███-------|  32% \tTime: 00:00:31 s \tTest miou: 0.2315 \n",
            "Progress: |███-------|  33% \tTime: 00:00:31 s \tTest miou: 0.2319 \n",
            "Progress: |███-------|  33% \tTime: 00:00:32 s \tTest miou: 0.2311 \n",
            "Progress: |███-------|  34% \tTime: 00:00:33 s \tTest miou: 0.2317 \n",
            "Progress: |███-------|  34% \tTime: 00:00:34 s \tTest miou: 0.2317 \n",
            "Progress: |███-------|  35% \tTime: 00:00:34 s \tTest miou: 0.2337 \n",
            "Progress: |███-------|  36% \tTime: 00:00:35 s \tTest miou: 0.2358 \n",
            "Progress: |███-------|  36% \tTime: 00:00:36 s \tTest miou: 0.2361 \n",
            "Progress: |███-------|  37% \tTime: 00:00:36 s \tTest miou: 0.2378 \n",
            "Progress: |███-------|  37% \tTime: 00:00:37 s \tTest miou: 0.2384 \n",
            "Progress: |███-------|  38% \tTime: 00:00:37 s \tTest miou: 0.2404 \n",
            "Progress: |███-------|  39% \tTime: 00:00:38 s \tTest miou: 0.2424 \n",
            "Progress: |███-------|  39% \tTime: 00:00:38 s \tTest miou: 0.2424 \n",
            "Progress: |███-------|  40% \tTime: 00:00:39 s \tTest miou: 0.2428 \n",
            "Progress: |████------|  40% \tTime: 00:00:39 s \tTest miou: 0.2423 \n",
            "Progress: |████------|  41% \tTime: 00:00:40 s \tTest miou: 0.2429 \n",
            "Progress: |████------|  42% \tTime: 00:00:40 s \tTest miou: 0.2425 \n",
            "Progress: |████------|  42% \tTime: 00:00:41 s \tTest miou: 0.2420 \n",
            "Progress: |████------|  43% \tTime: 00:00:41 s \tTest miou: 0.2419 \n",
            "Progress: |████------|  43% \tTime: 00:00:42 s \tTest miou: 0.2407 \n",
            "Progress: |████------|  44% \tTime: 00:00:42 s \tTest miou: 0.2402 \n",
            "Progress: |████------|  45% \tTime: 00:00:43 s \tTest miou: 0.2401 \n",
            "Progress: |████------|  45% \tTime: 00:00:43 s \tTest miou: 0.2390 \n",
            "Progress: |████------|  46% \tTime: 00:00:44 s \tTest miou: 0.2387 \n",
            "Progress: |████------|  46% \tTime: 00:00:44 s \tTest miou: 0.2400 \n",
            "Progress: |████------|  47% \tTime: 00:00:45 s \tTest miou: 0.2413 \n",
            "Progress: |████------|  48% \tTime: 00:00:46 s \tTest miou: 0.2423 \n",
            "Progress: |████------|  48% \tTime: 00:00:46 s \tTest miou: 0.2409 \n",
            "Progress: |████------|  49% \tTime: 00:00:47 s \tTest miou: 0.2417 \n",
            "Progress: |████------|  49% \tTime: 00:00:48 s \tTest miou: 0.2416 \n",
            "Progress: |█████-----|  50% \tTime: 00:00:49 s \tTest miou: 0.2420 \n",
            "Progress: |█████-----|  51% \tTime: 00:00:49 s \tTest miou: 0.2417 \n",
            "Progress: |█████-----|  51% \tTime: 00:00:50 s \tTest miou: 0.2408 \n",
            "Progress: |█████-----|  52% \tTime: 00:00:51 s \tTest miou: 0.2409 \n",
            "Progress: |█████-----|  52% \tTime: 00:00:51 s \tTest miou: 0.2403 \n",
            "Progress: |█████-----|  53% \tTime: 00:00:52 s \tTest miou: 0.2392 \n",
            "Progress: |█████-----|  54% \tTime: 00:00:52 s \tTest miou: 0.2393 \n",
            "Progress: |█████-----|  54% \tTime: 00:00:52 s \tTest miou: 0.2386 \n",
            "Progress: |█████-----|  55% \tTime: 00:00:53 s \tTest miou: 0.2398 \n",
            "Progress: |█████-----|  55% \tTime: 00:00:54 s \tTest miou: 0.2391 \n",
            "Progress: |█████-----|  56% \tTime: 00:00:54 s \tTest miou: 0.2391 \n",
            "Progress: |█████-----|  57% \tTime: 00:00:55 s \tTest miou: 0.2393 \n",
            "Progress: |█████-----|  57% \tTime: 00:00:55 s \tTest miou: 0.2392 \n",
            "Progress: |█████-----|  58% \tTime: 00:00:56 s \tTest miou: 0.2381 \n",
            "Progress: |█████-----|  58% \tTime: 00:00:56 s \tTest miou: 0.2374 \n",
            "Progress: |█████-----|  59% \tTime: 00:00:57 s \tTest miou: 0.2370 \n",
            "Progress: |█████-----|  60% \tTime: 00:00:57 s \tTest miou: 0.2354 \n",
            "Progress: |██████----|  60% \tTime: 00:00:58 s \tTest miou: 0.2361 \n",
            "Progress: |██████----|  61% \tTime: 00:00:58 s \tTest miou: 0.2357 \n",
            "Progress: |██████----|  61% \tTime: 00:00:59 s \tTest miou: 0.2353 \n",
            "Progress: |██████----|  62% \tTime: 00:00:59 s \tTest miou: 0.2365 \n",
            "Progress: |██████----|  63% \tTime: 00:01:00 s \tTest miou: 0.2367 \n",
            "Progress: |██████----|  63% \tTime: 00:01:01 s \tTest miou: 0.2374 \n",
            "Progress: |██████----|  64% \tTime: 00:01:01 s \tTest miou: 0.2369 \n",
            "Progress: |██████----|  64% \tTime: 00:01:02 s \tTest miou: 0.2373 \n",
            "Progress: |██████----|  65% \tTime: 00:01:02 s \tTest miou: 0.2377 \n",
            "Progress: |██████----|  66% \tTime: 00:01:04 s \tTest miou: 0.2377 \n",
            "Progress: |██████----|  66% \tTime: 00:01:04 s \tTest miou: 0.2380 \n",
            "Progress: |██████----|  67% \tTime: 00:01:05 s \tTest miou: 0.2389 \n",
            "Progress: |██████----|  67% \tTime: 00:01:06 s \tTest miou: 0.2383 \n",
            "Progress: |██████----|  68% \tTime: 00:01:06 s \tTest miou: 0.2385 \n",
            "Progress: |██████----|  69% \tTime: 00:01:07 s \tTest miou: 0.2394 \n",
            "Progress: |██████----|  69% \tTime: 00:01:07 s \tTest miou: 0.2387 \n",
            "Progress: |██████----|  70% \tTime: 00:01:08 s \tTest miou: 0.2383 \n",
            "Progress: |███████---|  70% \tTime: 00:01:08 s \tTest miou: 0.2379 \n",
            "Progress: |███████---|  71% \tTime: 00:01:09 s \tTest miou: 0.2388 \n",
            "Progress: |███████---|  72% \tTime: 00:01:09 s \tTest miou: 0.2390 \n",
            "Progress: |███████---|  72% \tTime: 00:01:10 s \tTest miou: 0.2384 \n",
            "Progress: |███████---|  73% \tTime: 00:01:10 s \tTest miou: 0.2379 \n",
            "Progress: |███████---|  73% \tTime: 00:01:11 s \tTest miou: 0.2384 \n",
            "Progress: |███████---|  74% \tTime: 00:01:11 s \tTest miou: 0.2388 \n",
            "Progress: |███████---|  75% \tTime: 00:01:12 s \tTest miou: 0.2392 \n",
            "Progress: |███████---|  75% \tTime: 00:01:12 s \tTest miou: 0.2390 \n",
            "Progress: |███████---|  76% \tTime: 00:01:13 s \tTest miou: 0.2392 \n",
            "Progress: |███████---|  77% \tTime: 00:01:13 s \tTest miou: 0.2396 \n",
            "Progress: |███████---|  77% \tTime: 00:01:14 s \tTest miou: 0.2397 \n",
            "Progress: |███████---|  78% \tTime: 00:01:14 s \tTest miou: 0.2397 \n",
            "Progress: |███████---|  78% \tTime: 00:01:15 s \tTest miou: 0.2400 \n",
            "Progress: |███████---|  79% \tTime: 00:01:15 s \tTest miou: 0.2394 \n",
            "Progress: |███████---|  80% \tTime: 00:01:16 s \tTest miou: 0.2388 \n",
            "Progress: |████████--|  80% \tTime: 00:01:17 s \tTest miou: 0.2391 \n",
            "Progress: |████████--|  81% \tTime: 00:01:17 s \tTest miou: 0.2397 \n",
            "Progress: |████████--|  81% \tTime: 00:01:18 s \tTest miou: 0.2405 \n",
            "Progress: |████████--|  82% \tTime: 00:01:19 s \tTest miou: 0.2403 \n",
            "Progress: |████████--|  83% \tTime: 00:01:20 s \tTest miou: 0.2407 \n",
            "Progress: |████████--|  83% \tTime: 00:01:20 s \tTest miou: 0.2414 \n",
            "Progress: |████████--|  84% \tTime: 00:01:21 s \tTest miou: 0.2409 \n",
            "Progress: |████████--|  84% \tTime: 00:01:21 s \tTest miou: 0.2412 \n",
            "Progress: |████████--|  85% \tTime: 00:01:22 s \tTest miou: 0.2406 \n",
            "Progress: |████████--|  86% \tTime: 00:01:22 s \tTest miou: 0.2403 \n",
            "Progress: |████████--|  86% \tTime: 00:01:23 s \tTest miou: 0.2404 \n",
            "Progress: |████████--|  87% \tTime: 00:01:23 s \tTest miou: 0.2404 \n",
            "Progress: |████████--|  87% \tTime: 00:01:24 s \tTest miou: 0.2396 \n",
            "Progress: |████████--|  88% \tTime: 00:01:24 s \tTest miou: 0.2392 \n",
            "Progress: |████████--|  89% \tTime: 00:01:25 s \tTest miou: 0.2396 \n",
            "Progress: |████████--|  89% \tTime: 00:01:25 s \tTest miou: 0.2387 \n",
            "Progress: |████████--|  90% \tTime: 00:01:26 s \tTest miou: 0.2385 \n",
            "Progress: |█████████-|  90% \tTime: 00:01:26 s \tTest miou: 0.2385 \n",
            "Progress: |█████████-|  91% \tTime: 00:01:27 s \tTest miou: 0.2385 \n",
            "Progress: |█████████-|  92% \tTime: 00:01:27 s \tTest miou: 0.2392 \n",
            "Progress: |█████████-|  92% \tTime: 00:01:28 s \tTest miou: 0.2393 \n",
            "Progress: |█████████-|  93% \tTime: 00:01:28 s \tTest miou: 0.2394 \n",
            "Progress: |█████████-|  93% \tTime: 00:01:29 s \tTest miou: 0.2401 \n",
            "Progress: |█████████-|  94% \tTime: 00:01:29 s \tTest miou: 0.2408 \n",
            "Progress: |█████████-|  95% \tTime: 00:01:30 s \tTest miou: 0.2403 \n",
            "Progress: |█████████-|  95% \tTime: 00:01:30 s \tTest miou: 0.2398 \n",
            "Progress: |█████████-|  96% \tTime: 00:01:31 s \tTest miou: 0.2389 \n",
            "Progress: |█████████-|  96% \tTime: 00:01:31 s \tTest miou: 0.2396 \n",
            "Progress: |█████████-|  97% \tTime: 00:01:32 s \tTest miou: 0.2399 \n",
            "Progress: |█████████-|  98% \tTime: 00:01:33 s \tTest miou: 0.2397 \n",
            "Progress: |█████████-|  98% \tTime: 00:01:34 s \tTest miou: 0.2403 \n",
            "Progress: |█████████-|  99% \tTime: 00:01:34 s \tTest miou: 0.2399 \n",
            "Progress: |█████████-|  99% \tTime: 00:01:35 s \tTest miou: 0.2398 \n",
            "Progress: |██████████|  100% \tTime: 00:01:35 s \tTest miou: 0.2390 \n",
            "\n",
            "\n",
            "Mean Intersection over Union on test images: 23.899 %\n",
            "\tBACKGROUND IoU: 48.659 %\n",
            "\tBUILDING IoU: 33.119 %\n",
            "\tROAD IoU: 21.521 %\n",
            "\tWATER IoU: 21.668 %\n",
            "\tBARREN IoU: 6.680 %\n",
            "\tFOREST IoU: 5.780 %\n",
            "\tAGRICULTURE IoU: 29.544 %\n"
          ]
        }
      ]
    },
    {
      "cell_type": "markdown",
      "id": "d7b49803",
      "metadata": {
        "id": "d7b49803"
      },
      "source": [
        "### Version X"
      ]
    },
    {
      "cell_type": "code",
      "execution_count": null,
      "id": "09715c62",
      "metadata": {
        "id": "09715c62"
      },
      "outputs": [],
      "source": [
        "# Train\n",
        "# !python3 sem_seg_dacs.py \\\n",
        "#     --train \\\n",
        "#     --model_name PIDNet_S \\\n",
        "#     --version X \\\n",
        "#     --batch_size 6 \\\n",
        "#     --augment_mixed \\\n",
        "#     --random_crop_augmentation \\\n",
        "#     --horizontal_flip_augmentation \\\n",
        "#     --shift_scale_rotate_augmentation \\\n",
        "#     --lr 0.0001 \\\n",
        "#     --epochs 200 \\\n",
        "#     --store drive"
      ]
    },
    {
      "cell_type": "code",
      "execution_count": null,
      "id": "7743fdf0",
      "metadata": {
        "id": "7743fdf0"
      },
      "outputs": [],
      "source": [
        "# Test\n",
        "# !python3 sem_seg_dacs.py \\\n",
        "#     --test \\\n",
        "#     --model_name PIDNet_S \\\n",
        "#     --version X \\\n",
        "#     --model_file last_0.pt \\\n",
        "#     --target_domain Urban \\\n",
        "#     --store drive\n",
        "\n",
        "# !python3 sem_seg_dacs.py \\\n",
        "#     --test \\\n",
        "#     --model_name PIDNet_S \\\n",
        "#     --version X \\\n",
        "#     --model_file best_0.pt \\\n",
        "#     --target_domain Urban \\\n",
        "#     --store drive\n",
        "\n",
        "# !python3 sem_seg_dacs.py \\\n",
        "#     --test \\\n",
        "#     --model_name PIDNet_S \\\n",
        "#     --version X \\\n",
        "#     --model_file last_0.pt \\\n",
        "#     --target_domain Rural \\\n",
        "#     --store drive\n",
        "\n",
        "# !python3 sem_seg_dacs.py \\\n",
        "#     --test \\\n",
        "#     --model_name PIDNet_S \\\n",
        "#     --version X \\\n",
        "#     --model_file best_0.pt \\\n",
        "#     --target_domain Rural \\\n",
        "#     --store drive"
      ]
    },
    {
      "cell_type": "markdown",
      "id": "c8aa59b8",
      "metadata": {
        "id": "c8aa59b8"
      },
      "source": [
        "## PIDNet_S_DACS_GCW_LDQ"
      ]
    },
    {
      "cell_type": "markdown",
      "id": "d4f4140a",
      "metadata": {
        "id": "d4f4140a"
      },
      "source": [
        "### Version 0"
      ]
    },
    {
      "cell_type": "code",
      "execution_count": null,
      "id": "77ec5f63",
      "metadata": {
        "id": "77ec5f63"
      },
      "outputs": [],
      "source": [
        "# Train\n",
        "# !python3 sem_seg_dacs_gcw_ldq.py \\\n",
        "#     --train \\\n",
        "#     --gcw \\\n",
        "#     --model_name PIDNet_S \\\n",
        "#     --version 0 \\\n",
        "#     --batch_size 6 \\\n",
        "#     --random_crop_augmentation \\\n",
        "#     --lr 0.001 \\\n",
        "#     --epochs 20 \\\n",
        "#     --store drive"
      ]
    },
    {
      "cell_type": "code",
      "execution_count": null,
      "id": "1f5acd42",
      "metadata": {
        "id": "1f5acd42"
      },
      "outputs": [],
      "source": [
        "# Test\n",
        "# !python3 sem_seg_dacs_gcw_ldq.py \\\n",
        "#     --test \\\n",
        "#     --model_name PIDNet_S \\\n",
        "#     --version 0 \\\n",
        "#     --model_file last_0.pt \\\n",
        "#     --target_domain Urban \\\n",
        "#     --store drive\n",
        "\n",
        "# !python3 sem_seg_dacs_gcw_ldq.py \\\n",
        "#     --test \\\n",
        "#     --model_name PIDNet_S \\\n",
        "#     --version 0 \\\n",
        "#     --model_file best_0.pt \\\n",
        "#     --target_domain Urban \\\n",
        "#     --store drive\n",
        "\n",
        "# !python3 sem_seg_dacs_gcw_ldq.py \\\n",
        "#     --test \\\n",
        "#     --model_name PIDNet_S \\\n",
        "#     --version 0 \\\n",
        "#     --model_file last_0.pt \\\n",
        "#     --target_domain Rural \\\n",
        "#     --store drive\n",
        "\n",
        "# !python3 sem_seg_dacs_gcw_ldq.py \\\n",
        "#     --test \\\n",
        "#     --model_name PIDNet_S \\\n",
        "#     --version 0 \\\n",
        "#     --model_file best_0.pt \\\n",
        "#     --target_domain Rural \\\n",
        "#     --store drive"
      ]
    },
    {
      "cell_type": "markdown",
      "id": "b5d8c756",
      "metadata": {
        "id": "b5d8c756"
      },
      "source": [
        "### Version 1"
      ]
    },
    {
      "cell_type": "code",
      "execution_count": null,
      "id": "ebda5ac4",
      "metadata": {
        "id": "ebda5ac4"
      },
      "outputs": [],
      "source": [
        "# Train\n",
        "# !python3 sem_seg_dacs_gcw_ldq.py \\\n",
        "#     --train \\\n",
        "#     --ldq \\\n",
        "#     --model_name PIDNet_S \\\n",
        "#     --version 1 \\\n",
        "#     --batch_size 6 \\\n",
        "#     --random_crop_augmentation \\\n",
        "#     --lr 0.001 \\\n",
        "#     --epochs 20 \\\n",
        "#     --store drive"
      ]
    },
    {
      "cell_type": "code",
      "execution_count": null,
      "id": "f4761929",
      "metadata": {
        "id": "f4761929"
      },
      "outputs": [],
      "source": [
        "# Test\n",
        "# !python3 sem_seg_dacs_gcw_ldq.py \\\n",
        "#     --test \\\n",
        "#     --model_name PIDNet_S \\\n",
        "#     --version 1 \\\n",
        "#     --model_file last_0.pt \\\n",
        "#     --target_domain Urban \\\n",
        "#     --store drive\n",
        "\n",
        "# !python3 sem_seg_dacs_gcw_ldq.py \\\n",
        "#     --test \\\n",
        "#     --model_name PIDNet_S \\\n",
        "#     --version 1 \\\n",
        "#     --model_file best_0.pt \\\n",
        "#     --target_domain Urban \\\n",
        "#     --store drive\n",
        "\n",
        "# !python3 sem_seg_dacs_gcw_ldq.py \\\n",
        "#     --test \\\n",
        "#     --model_name PIDNet_S \\\n",
        "#     --version 1 \\\n",
        "#     --model_file last_0.pt \\\n",
        "#     --target_domain Rural \\\n",
        "#     --store drive\n",
        "\n",
        "# !python3 sem_seg_dacs_gcw_ldq.py \\\n",
        "#     --test \\\n",
        "#     --model_name PIDNet_S \\\n",
        "#     --version 1 \\\n",
        "#     --model_file best_0.pt \\\n",
        "#     --target_domain Rural \\\n",
        "#     --store drive"
      ]
    },
    {
      "cell_type": "markdown",
      "id": "eccda843",
      "metadata": {
        "id": "eccda843"
      },
      "source": [
        "### Version 2"
      ]
    },
    {
      "cell_type": "code",
      "execution_count": null,
      "id": "89159a73",
      "metadata": {
        "id": "89159a73"
      },
      "outputs": [],
      "source": [
        "# Train\n",
        "# !python3 sem_seg_dacs_gcw_ldq.py \\\n",
        "#     --train \\\n",
        "#     --gcw \\\n",
        "#     --ldq \\\n",
        "#     --model_name PIDNet_S \\\n",
        "#     --version 2 \\\n",
        "#     --batch_size 6 \\\n",
        "#     --random_crop_augmentation \\\n",
        "#     --lr 0.001 \\\n",
        "#     --epochs 20 \\\n",
        "#     --store drive"
      ]
    },
    {
      "cell_type": "code",
      "execution_count": null,
      "id": "2ad6760f",
      "metadata": {
        "id": "2ad6760f"
      },
      "outputs": [],
      "source": [
        "# Test\n",
        "# !python3 sem_seg_dacs_gcw_ldq.py \\\n",
        "#     --test \\\n",
        "#     --model_name PIDNet_S \\\n",
        "#     --version 2 \\\n",
        "#     --model_file last_0.pt \\\n",
        "#     --target_domain Urban \\\n",
        "#     --store drive\n",
        "\n",
        "# !python3 sem_seg_dacs_gcw_ldq.py \\\n",
        "#     --test \\\n",
        "#     --model_name PIDNet_S \\\n",
        "#     --version 2 \\\n",
        "#     --model_file best_0.pt \\\n",
        "#     --target_domain Urban \\\n",
        "#     --store drive\n",
        "\n",
        "# !python3 sem_seg_dacs_gcw_ldq.py \\\n",
        "#     --test \\\n",
        "#     --model_name PIDNet_S \\\n",
        "#     --version 2 \\\n",
        "#     --model_file last_0.pt \\\n",
        "#     --target_domain Rural \\\n",
        "#     --store drive\n",
        "\n",
        "# !python3 sem_seg_dacs_gcw_ldq.py \\\n",
        "#     --test \\\n",
        "#     --model_name PIDNet_S \\\n",
        "#     --version 2 \\\n",
        "#     --model_file best_0.pt \\\n",
        "#     --target_domain Rural \\\n",
        "#     --store drive"
      ]
    },
    {
      "cell_type": "markdown",
      "id": "431c4709",
      "metadata": {
        "id": "431c4709"
      },
      "source": [
        "### Version 3"
      ]
    },
    {
      "cell_type": "code",
      "execution_count": null,
      "id": "0c4e3ee8",
      "metadata": {
        "id": "0c4e3ee8"
      },
      "outputs": [],
      "source": [
        "# Train\n",
        "# !python3 sem_seg_dacs_gcw_ldq.py \\\n",
        "#     --train \\\n",
        "#     --gcw \\\n",
        "#     --model_name PIDNet_S \\\n",
        "#     --version 3 \\\n",
        "#     --batch_size 6 \\\n",
        "#     --augment_mixed \\\n",
        "#     --random_crop_augmentation \\\n",
        "#     --horizontal_flip_augmentation \\\n",
        "#     --shift_scale_rotate_augmentation \\\n",
        "#     --lr 0.001 \\\n",
        "#     --epochs 20 \\\n",
        "#     --store drive"
      ]
    },
    {
      "cell_type": "code",
      "execution_count": null,
      "id": "128446a5",
      "metadata": {
        "id": "128446a5"
      },
      "outputs": [],
      "source": [
        "# Test\n",
        "# !python3 sem_seg_dacs_gcw_ldq.py \\\n",
        "#     --test \\\n",
        "#     --model_name PIDNet_S \\\n",
        "#     --version 3 \\\n",
        "#     --model_file last_0.pt \\\n",
        "#     --target_domain Urban \\\n",
        "#     --store drive\n",
        "\n",
        "# !python3 sem_seg_dacs_gcw_ldq.py \\\n",
        "#     --test \\\n",
        "#     --model_name PIDNet_S \\\n",
        "#     --version 3 \\\n",
        "#     --model_file best_0.pt \\\n",
        "#     --target_domain Urban \\\n",
        "#     --store drive\n",
        "\n",
        "# !python3 sem_seg_dacs_gcw_ldq.py \\\n",
        "#     --test \\\n",
        "#     --model_name PIDNet_S \\\n",
        "#     --version 3 \\\n",
        "#     --model_file last_0.pt \\\n",
        "#     --target_domain Rural \\\n",
        "#     --store drive\n",
        "\n",
        "# !python3 sem_seg_dacs_gcw_ldq.py \\\n",
        "#     --test \\\n",
        "#     --model_name PIDNet_S \\\n",
        "#     --version 3 \\\n",
        "#     --model_file best_0.pt \\\n",
        "#     --target_domain Rural \\\n",
        "#     --store drive"
      ]
    },
    {
      "cell_type": "markdown",
      "id": "a65431e1",
      "metadata": {
        "id": "a65431e1"
      },
      "source": [
        "### Version 4"
      ]
    },
    {
      "cell_type": "code",
      "execution_count": null,
      "id": "42238c1f",
      "metadata": {
        "id": "42238c1f"
      },
      "outputs": [],
      "source": [
        "# Train\n",
        "# !python3 sem_seg_dacs_gcw_ldq.py \\\n",
        "#     --train \\\n",
        "#     --ldq \\\n",
        "#     --model_name PIDNet_S \\\n",
        "#     --version 4 \\\n",
        "#     --batch_size 6 \\\n",
        "#     --augment_mixed \\\n",
        "#     --random_crop_augmentation \\\n",
        "#     --horizontal_flip_augmentation \\\n",
        "#     --shift_scale_rotate_augmentation \\\n",
        "#     --lr 0.001 \\\n",
        "#     --epochs 20 \\\n",
        "#     --store drive"
      ]
    },
    {
      "cell_type": "code",
      "execution_count": null,
      "id": "f4bf7015",
      "metadata": {
        "id": "f4bf7015"
      },
      "outputs": [],
      "source": [
        "# Test\n",
        "# !python3 sem_seg_dacs_gcw_ldq.py \\\n",
        "#     --test \\\n",
        "#     --model_name PIDNet_S \\\n",
        "#     --version 4 \\\n",
        "#     --model_file last_0.pt \\\n",
        "#     --target_domain Urban \\\n",
        "#     --store drive\n",
        "\n",
        "# !python3 sem_seg_dacs_gcw_ldq.py \\\n",
        "#     --test \\\n",
        "#     --model_name PIDNet_S \\\n",
        "#     --version 4 \\\n",
        "#     --model_file best_0.pt \\\n",
        "#     --target_domain Urban \\\n",
        "#     --store drive\n",
        "\n",
        "# !python3 sem_seg_dacs_gcw_ldq.py \\\n",
        "#     --test \\\n",
        "#     --model_name PIDNet_S \\\n",
        "#     --version 4 \\\n",
        "#     --model_file last_0.pt \\\n",
        "#     --target_domain Rural \\\n",
        "#     --store drive\n",
        "\n",
        "# !python3 sem_seg_dacs_gcw_ldq.py \\\n",
        "#     --test \\\n",
        "#     --model_name PIDNet_S \\\n",
        "#     --version 4 \\\n",
        "#     --model_file best_0.pt \\\n",
        "#     --target_domain Rural \\\n",
        "#     --store drive"
      ]
    },
    {
      "cell_type": "markdown",
      "id": "f6fa569b",
      "metadata": {
        "id": "f6fa569b"
      },
      "source": [
        "### Version 5"
      ]
    },
    {
      "cell_type": "code",
      "execution_count": null,
      "id": "73d5355c",
      "metadata": {
        "id": "73d5355c"
      },
      "outputs": [],
      "source": [
        "# Train\n",
        "# !python3 sem_seg_dacs_gcw_ldq.py \\\n",
        "#     --train \\\n",
        "#     --gcw \\\n",
        "#     --ldq \\\n",
        "#     --model_name PIDNet_S \\\n",
        "#     --version 5 \\\n",
        "#     --batch_size 6 \\\n",
        "#     --augment_mixed \\\n",
        "#     --random_crop_augmentation \\\n",
        "#     --horizontal_flip_augmentation \\\n",
        "#     --shift_scale_rotate_augmentation \\\n",
        "#     --lr 0.001 \\\n",
        "#     --epochs 20 \\\n",
        "#     --store drive"
      ]
    },
    {
      "cell_type": "code",
      "execution_count": null,
      "id": "9ae2e988",
      "metadata": {
        "id": "9ae2e988"
      },
      "outputs": [],
      "source": [
        "# Test\n",
        "# !python3 sem_seg_dacs_gcw_ldq.py \\\n",
        "#     --test \\\n",
        "#     --model_name PIDNet_S \\\n",
        "#     --version 5 \\\n",
        "#     --model_file last_0.pt \\\n",
        "#     --target_domain Urban \\\n",
        "#     --store drive\n",
        "\n",
        "# !python3 sem_seg_dacs_gcw_ldq.py \\\n",
        "#     --test \\\n",
        "#     --model_name PIDNet_S \\\n",
        "#     --version 5 \\\n",
        "#     --model_file best_0.pt \\\n",
        "#     --target_domain Urban \\\n",
        "#     --store drive\n",
        "\n",
        "# !python3 sem_seg_dacs_gcw_ldq.py \\\n",
        "#     --test \\\n",
        "#     --model_name PIDNet_S \\\n",
        "#     --version 5 \\\n",
        "#     --model_file last_0.pt \\\n",
        "#     --target_domain Rural \\\n",
        "#     --store drive\n",
        "\n",
        "# !python3 sem_seg_dacs_gcw_ldq.py \\\n",
        "#     --test \\\n",
        "#     --model_name PIDNet_S \\\n",
        "#     --version 5 \\\n",
        "#     --model_file best_0.pt \\\n",
        "#     --target_domain Rural \\\n",
        "#     --store drive"
      ]
    },
    {
      "cell_type": "markdown",
      "source": [
        "### Version 6"
      ],
      "metadata": {
        "id": "0zMI5ahVAfZ3"
      },
      "id": "0zMI5ahVAfZ3"
    },
    {
      "cell_type": "code",
      "source": [
        "# Train\n",
        "# !python3 sem_seg_dacs_gcw_ldq.py \\\n",
        "#     --train \\\n",
        "#     --gcw \\\n",
        "#     --temperature 0.3 \\\n",
        "#     --model_name PIDNet_S \\\n",
        "#     --version 6 \\\n",
        "#     --batch_size 6 \\\n",
        "#     --augment_mixed \\\n",
        "#     --random_crop_augmentation \\\n",
        "#     --horizontal_flip_augmentation \\\n",
        "#     --shift_scale_rotate_augmentation \\\n",
        "#     --lr 0.001 \\\n",
        "#     --epochs 20 \\\n",
        "#     --store drive"
      ],
      "metadata": {
        "id": "wkH7gIhUAnwc"
      },
      "id": "wkH7gIhUAnwc",
      "execution_count": null,
      "outputs": []
    },
    {
      "cell_type": "code",
      "source": [
        "# Test\n",
        "# !python3 sem_seg_dacs_gcw_ldq.py \\\n",
        "#     --test \\\n",
        "#     --model_name PIDNet_S \\\n",
        "#     --version 6 \\\n",
        "#     --model_file last_0.pt \\\n",
        "#     --target_domain Urban \\\n",
        "#     --store drive\n",
        "\n",
        "# !python3 sem_seg_dacs_gcw_ldq.py \\\n",
        "#     --test \\\n",
        "#     --model_name PIDNet_S \\\n",
        "#     --version 6 \\\n",
        "#     --model_file best_0.pt \\\n",
        "#     --target_domain Urban \\\n",
        "#     --store drive\n",
        "\n",
        "# !python3 sem_seg_dacs_gcw_ldq.py \\\n",
        "#     --test \\\n",
        "#     --model_name PIDNet_S \\\n",
        "#     --version 6 \\\n",
        "#     --model_file last_0.pt \\\n",
        "#     --target_domain Rural \\\n",
        "#     --store drive\n",
        "\n",
        "# !python3 sem_seg_dacs_gcw_ldq.py \\\n",
        "#     --test \\\n",
        "#     --model_name PIDNet_S \\\n",
        "#     --version 6 \\\n",
        "#     --model_file best_0.pt \\\n",
        "#     --target_domain Rural \\\n",
        "#     --store drive"
      ],
      "metadata": {
        "id": "BTj3SNJEBDIU"
      },
      "id": "BTj3SNJEBDIU",
      "execution_count": null,
      "outputs": []
    },
    {
      "cell_type": "markdown",
      "source": [
        "### Version 7"
      ],
      "metadata": {
        "id": "K-CCjaYaAiIz"
      },
      "id": "K-CCjaYaAiIz"
    },
    {
      "cell_type": "code",
      "source": [
        "# Train\n",
        "# !python3 sem_seg_dacs_gcw_ldq.py \\\n",
        "#     --train \\\n",
        "#     --gcw \\\n",
        "#     --temperature 0.6 \\\n",
        "#     --model_name PIDNet_S \\\n",
        "#     --version 7 \\\n",
        "#     --batch_size 6 \\\n",
        "#     --augment_mixed \\\n",
        "#     --random_crop_augmentation \\\n",
        "#     --horizontal_flip_augmentation \\\n",
        "#     --shift_scale_rotate_augmentation \\\n",
        "#     --lr 0.001 \\\n",
        "#     --epochs 20 \\\n",
        "#     --store drive"
      ],
      "metadata": {
        "id": "Ms9CYthmAxAJ"
      },
      "id": "Ms9CYthmAxAJ",
      "execution_count": null,
      "outputs": []
    },
    {
      "cell_type": "code",
      "source": [
        "# Test\n",
        "# !python3 sem_seg_dacs_gcw_ldq.py \\\n",
        "#     --test \\\n",
        "#     --model_name PIDNet_S \\\n",
        "#     --version 7 \\\n",
        "#     --model_file last_0.pt \\\n",
        "#     --target_domain Urban \\\n",
        "#     --store drive\n",
        "\n",
        "# !python3 sem_seg_dacs_gcw_ldq.py \\\n",
        "#     --test \\\n",
        "#     --model_name PIDNet_S \\\n",
        "#     --version 7 \\\n",
        "#     --model_file best_0.pt \\\n",
        "#     --target_domain Urban \\\n",
        "#     --store drive\n",
        "\n",
        "# !python3 sem_seg_dacs_gcw_ldq.py \\\n",
        "#     --test \\\n",
        "#     --model_name PIDNet_S \\\n",
        "#     --version 7 \\\n",
        "#     --model_file last_0.pt \\\n",
        "#     --target_domain Rural \\\n",
        "#     --store drive\n",
        "\n",
        "# !python3 sem_seg_dacs_gcw_ldq.py \\\n",
        "#     --test \\\n",
        "#     --model_name PIDNet_S \\\n",
        "#     --version 7 \\\n",
        "#     --model_file best_0.pt \\\n",
        "#     --target_domain Rural \\\n",
        "#     --store drive"
      ],
      "metadata": {
        "id": "N72cqVSKA9o8"
      },
      "id": "N72cqVSKA9o8",
      "execution_count": null,
      "outputs": []
    },
    {
      "cell_type": "markdown",
      "source": [
        "### Version 8"
      ],
      "metadata": {
        "id": "JnPg8H3GAlm_"
      },
      "id": "JnPg8H3GAlm_"
    },
    {
      "cell_type": "code",
      "source": [
        "# Train\n",
        "# !python3 sem_seg_dacs_gcw_ldq.py \\\n",
        "#     --train \\\n",
        "#     --gcw \\\n",
        "#     --temperature 0.9 \\\n",
        "#     --model_name PIDNet_S \\\n",
        "#     --version 8 \\\n",
        "#     --batch_size 6 \\\n",
        "#     --augment_mixed \\\n",
        "#     --random_crop_augmentation \\\n",
        "#     --horizontal_flip_augmentation \\\n",
        "#     --shift_scale_rotate_augmentation \\\n",
        "#     --lr 0.001 \\\n",
        "#     --epochs 20 \\\n",
        "#     --store drive"
      ],
      "metadata": {
        "id": "rvz5KeNbAj4m"
      },
      "id": "rvz5KeNbAj4m",
      "execution_count": null,
      "outputs": []
    },
    {
      "cell_type": "code",
      "source": [
        "# Test\n",
        "# !python3 sem_seg_dacs_gcw_ldq.py \\\n",
        "#     --test \\\n",
        "#     --model_name PIDNet_S \\\n",
        "#     --version 8 \\\n",
        "#     --model_file last_0.pt \\\n",
        "#     --target_domain Urban \\\n",
        "#     --store drive\n",
        "\n",
        "# !python3 sem_seg_dacs_gcw_ldq.py \\\n",
        "#     --test \\\n",
        "#     --model_name PIDNet_S \\\n",
        "#     --version 8 \\\n",
        "#     --model_file best_0.pt \\\n",
        "#     --target_domain Urban \\\n",
        "#     --store drive\n",
        "\n",
        "# !python3 sem_seg_dacs_gcw_ldq.py \\\n",
        "#     --test \\\n",
        "#     --model_name PIDNet_S \\\n",
        "#     --version 8 \\\n",
        "#     --model_file last_0.pt \\\n",
        "#     --target_domain Rural \\\n",
        "#     --store drive\n",
        "\n",
        "# !python3 sem_seg_dacs_gcw_ldq.py \\\n",
        "#     --test \\\n",
        "#     --model_name PIDNet_S \\\n",
        "#     --version 8 \\\n",
        "#     --model_file best_0.pt \\\n",
        "#     --target_domain Rural \\\n",
        "#     --store drive"
      ],
      "metadata": {
        "id": "4iIVurnlA_pc"
      },
      "id": "4iIVurnlA_pc",
      "execution_count": null,
      "outputs": []
    },
    {
      "cell_type": "markdown",
      "source": [
        "### Version 9"
      ],
      "metadata": {
        "id": "vonkU8-cBiGx"
      },
      "id": "vonkU8-cBiGx"
    },
    {
      "cell_type": "code",
      "source": [
        "# Train\n",
        "# !python3 sem_seg_dacs_gcw_ldq.py \\\n",
        "#     --train \\\n",
        "#     --gcw \\\n",
        "#     --temperature 0.3 \\\n",
        "#     --beta 0.99 \\\n",
        "#     --model_name PIDNet_S \\\n",
        "#     --version 9 \\\n",
        "#     --batch_size 6 \\\n",
        "#     --augment_mixed \\\n",
        "#     --random_crop_augmentation \\\n",
        "#     --horizontal_flip_augmentation \\\n",
        "#     --shift_scale_rotate_augmentation \\\n",
        "#     --lr 0.001 \\\n",
        "#     --epochs 20 \\\n",
        "#     --store drive"
      ],
      "metadata": {
        "id": "FAk7HXWjBn0g"
      },
      "id": "FAk7HXWjBn0g",
      "execution_count": null,
      "outputs": []
    },
    {
      "cell_type": "code",
      "source": [
        "# Test\n",
        "# !python3 sem_seg_dacs_gcw_ldq.py \\\n",
        "#     --test \\\n",
        "#     --model_name PIDNet_S \\\n",
        "#     --version 9 \\\n",
        "#     --model_file last_0.pt \\\n",
        "#     --target_domain Urban \\\n",
        "#     --store drive\n",
        "\n",
        "# !python3 sem_seg_dacs_gcw_ldq.py \\\n",
        "#     --test \\\n",
        "#     --model_name PIDNet_S \\\n",
        "#     --version 9 \\\n",
        "#     --model_file best_0.pt \\\n",
        "#     --target_domain Urban \\\n",
        "#     --store drive\n",
        "\n",
        "# !python3 sem_seg_dacs_gcw_ldq.py \\\n",
        "#     --test \\\n",
        "#     --model_name PIDNet_S \\\n",
        "#     --version 9 \\\n",
        "#     --model_file last_0.pt \\\n",
        "#     --target_domain Rural \\\n",
        "#     --store drive\n",
        "\n",
        "# !python3 sem_seg_dacs_gcw_ldq.py \\\n",
        "#     --test \\\n",
        "#     --model_name PIDNet_S \\\n",
        "#     --version 9 \\\n",
        "#     --model_file best_0.pt \\\n",
        "#     --target_domain Rural \\\n",
        "#     --store drive"
      ],
      "metadata": {
        "id": "m7a7uozMB4gJ"
      },
      "id": "m7a7uozMB4gJ",
      "execution_count": null,
      "outputs": []
    },
    {
      "cell_type": "markdown",
      "source": [
        "### Version 10"
      ],
      "metadata": {
        "id": "rWC9oKoqBjzJ"
      },
      "id": "rWC9oKoqBjzJ"
    },
    {
      "cell_type": "code",
      "source": [
        "# Train\n",
        "# !python3 sem_seg_dacs_gcw_ldq.py \\\n",
        "#     --train \\\n",
        "#     --gcw \\\n",
        "#     --temperature 0.6 \\\n",
        "#     --beta 0.99 \\\n",
        "#     --model_name PIDNet_S \\\n",
        "#     --version 10 \\\n",
        "#     --batch_size 6 \\\n",
        "#     --augment_mixed \\\n",
        "#     --random_crop_augmentation \\\n",
        "#     --horizontal_flip_augmentation \\\n",
        "#     --shift_scale_rotate_augmentation \\\n",
        "#     --lr 0.001 \\\n",
        "#     --epochs 20 \\\n",
        "#     --store drive"
      ],
      "metadata": {
        "id": "RUypU0kSBsqu"
      },
      "id": "RUypU0kSBsqu",
      "execution_count": null,
      "outputs": []
    },
    {
      "cell_type": "code",
      "source": [
        "# Test\n",
        "# !python3 sem_seg_dacs_gcw_ldq.py \\\n",
        "#     --test \\\n",
        "#     --model_name PIDNet_S \\\n",
        "#     --version 10 \\\n",
        "#     --model_file last_0.pt \\\n",
        "#     --target_domain Urban \\\n",
        "#     --store drive\n",
        "\n",
        "# !python3 sem_seg_dacs_gcw_ldq.py \\\n",
        "#     --test \\\n",
        "#     --model_name PIDNet_S \\\n",
        "#     --version 10 \\\n",
        "#     --model_file best_0.pt \\\n",
        "#     --target_domain Urban \\\n",
        "#     --store drive\n",
        "\n",
        "# !python3 sem_seg_dacs_gcw_ldq.py \\\n",
        "#     --test \\\n",
        "#     --model_name PIDNet_S \\\n",
        "#     --version 10 \\\n",
        "#     --model_file last_0.pt \\\n",
        "#     --target_domain Rural \\\n",
        "#     --store drive\n",
        "\n",
        "# !python3 sem_seg_dacs_gcw_ldq.py \\\n",
        "#     --test \\\n",
        "#     --model_name PIDNet_S \\\n",
        "#     --version 10 \\\n",
        "#     --model_file best_0.pt \\\n",
        "#     --target_domain Rural \\\n",
        "#     --store drive"
      ],
      "metadata": {
        "id": "lp8nyG1uB9K2"
      },
      "id": "lp8nyG1uB9K2",
      "execution_count": null,
      "outputs": []
    },
    {
      "cell_type": "markdown",
      "source": [
        "### Version 11"
      ],
      "metadata": {
        "id": "rbCJ97WmBmLC"
      },
      "id": "rbCJ97WmBmLC"
    },
    {
      "cell_type": "code",
      "source": [
        "# Train\n",
        "# !python3 sem_seg_dacs_gcw_ldq.py \\\n",
        "#     --train \\\n",
        "#     --gcw \\\n",
        "#     --temperature 0.9 \\\n",
        "#     --beta 0.99 \\\n",
        "#     --model_name PIDNet_S \\\n",
        "#     --version 11 \\\n",
        "#     --batch_size 6 \\\n",
        "#     --augment_mixed \\\n",
        "#     --random_crop_augmentation \\\n",
        "#     --horizontal_flip_augmentation \\\n",
        "#     --shift_scale_rotate_augmentation \\\n",
        "#     --lr 0.001 \\\n",
        "#     --epochs 20 \\\n",
        "#     --store drive"
      ],
      "metadata": {
        "id": "H_YfGXn0Bz6r"
      },
      "id": "H_YfGXn0Bz6r",
      "execution_count": null,
      "outputs": []
    },
    {
      "cell_type": "code",
      "source": [
        "# Test\n",
        "# !python3 sem_seg_dacs_gcw_ldq.py \\\n",
        "#     --test \\\n",
        "#     --model_name PIDNet_S \\\n",
        "#     --version 11 \\\n",
        "#     --model_file last_0.pt \\\n",
        "#     --target_domain Urban \\\n",
        "#     --store drive\n",
        "\n",
        "# !python3 sem_seg_dacs_gcw_ldq.py \\\n",
        "#     --test \\\n",
        "#     --model_name PIDNet_S \\\n",
        "#     --version 11 \\\n",
        "#     --model_file best_0.pt \\\n",
        "#     --target_domain Urban \\\n",
        "#     --store drive\n",
        "\n",
        "# !python3 sem_seg_dacs_gcw_ldq.py \\\n",
        "#     --test \\\n",
        "#     --model_name PIDNet_S \\\n",
        "#     --version 11 \\\n",
        "#     --model_file last_0.pt \\\n",
        "#     --target_domain Rural \\\n",
        "#     --store drive\n",
        "\n",
        "# !python3 sem_seg_dacs_gcw_ldq.py \\\n",
        "#     --test \\\n",
        "#     --model_name PIDNet_S \\\n",
        "#     --version 11 \\\n",
        "#     --model_file best_0.pt \\\n",
        "#     --target_domain Rural \\\n",
        "#     --store drive"
      ],
      "metadata": {
        "id": "02lbBb6oCCa8"
      },
      "id": "02lbBb6oCCa8",
      "execution_count": null,
      "outputs": []
    },
    {
      "cell_type": "markdown",
      "id": "06499520",
      "metadata": {
        "id": "06499520"
      },
      "source": [
        "### Version X"
      ]
    },
    {
      "cell_type": "code",
      "execution_count": null,
      "id": "237ef991",
      "metadata": {
        "id": "237ef991"
      },
      "outputs": [],
      "source": [
        "# Train\n",
        "# !python3 sem_seg_dacs_gcw_ldq.py \\\n",
        "#     --train \\\n",
        "#     --resume \\\n",
        "#     --resume_epoch 151 \\\n",
        "#     --gcw \\\n",
        "#     --ldq \\\n",
        "#     --model_name PIDNet_S \\\n",
        "#     --version X \\\n",
        "#     --batch_size 6 \\\n",
        "#     --augment_mixed \\\n",
        "#     --random_crop_augmentation \\\n",
        "#     --horizontal_flip_augmentation \\\n",
        "#     --shift_scale_rotate_augmentation \\\n",
        "#     --lr 0.0001 \\\n",
        "#     --epochs 200 \\\n",
        "#     --store drive"
      ]
    },
    {
      "cell_type": "code",
      "execution_count": null,
      "id": "9a5ef413",
      "metadata": {
        "id": "9a5ef413"
      },
      "outputs": [],
      "source": [
        "# Test\n",
        "# !python3 sem_seg_dacs_gcw_ldq.py \\\n",
        "#     --test \\\n",
        "#     --model_name PIDNet_S \\\n",
        "#     --version X \\\n",
        "#     --model_file last_0.pt \\\n",
        "#     --target_domain Urban \\\n",
        "#     --store drive\n",
        "\n",
        "# !python3 sem_seg_dacs_gcw_ldq.py \\\n",
        "#     --test \\\n",
        "#     --model_name PIDNet_S \\\n",
        "#     --version X \\\n",
        "#     --model_file best_0.pt \\\n",
        "#     --target_domain Urban \\\n",
        "#     --store drive\n",
        "\n",
        "# !python3 sem_seg_dacs_gcw_ldq.py \\\n",
        "#     --test \\\n",
        "#     --model_name PIDNet_S \\\n",
        "#     --version X \\\n",
        "#     --model_file last_0.pt \\\n",
        "#     --target_domain Rural \\\n",
        "#     --store drive\n",
        "\n",
        "# !python3 sem_seg_dacs_gcw_ldq.py \\\n",
        "#     --test \\\n",
        "#     --model_name PIDNet_S \\\n",
        "#     --version X \\\n",
        "#     --model_file best_0.pt \\\n",
        "#     --target_domain Rural \\\n",
        "#     --store drive"
      ]
    },
    {
      "cell_type": "markdown",
      "id": "BnA38rS_KMMc",
      "metadata": {
        "id": "BnA38rS_KMMc"
      },
      "source": [
        "## PIDNet_M"
      ]
    },
    {
      "cell_type": "markdown",
      "id": "YtKcOmewC6x5",
      "metadata": {
        "id": "YtKcOmewC6x5"
      },
      "source": [
        "### Version 0"
      ]
    },
    {
      "cell_type": "code",
      "execution_count": null,
      "id": "1ftVXlywKVOt",
      "metadata": {
        "id": "1ftVXlywKVOt"
      },
      "outputs": [],
      "source": [
        "# Train\n",
        "# !python3 sem_seg.py \\\n",
        "#     --train \\\n",
        "#     --model_name PIDNet_M \\\n",
        "#     --version 0 \\\n",
        "#     --source_domain Urban \\\n",
        "#     --batch_size 6 \\\n",
        "#     --criterion OhemCrossEntropyLoss \\\n",
        "#     --optimizer SGD \\\n",
        "#     --scheduler PolynomialLR \\\n",
        "#     --lr 0.001 \\\n",
        "#     --epochs 30 \\\n",
        "#     --store drive"
      ]
    },
    {
      "cell_type": "code",
      "execution_count": null,
      "id": "u5xumipQMISC",
      "metadata": {
        "id": "u5xumipQMISC"
      },
      "outputs": [],
      "source": [
        "# Test\n",
        "# !python3 sem_seg.py \\\n",
        "#     --test \\\n",
        "#     --model_name PIDNet_M \\\n",
        "#     --version 0 \\\n",
        "#     --model_file last_0.pt \\\n",
        "#     --target_domain Urban \\\n",
        "#     --store drive\n",
        "\n",
        "# !python3 sem_seg.py \\\n",
        "#     --test \\\n",
        "#     --model_name PIDNet_M \\\n",
        "#     --version 0 \\\n",
        "#     --model_file best_0.pt \\\n",
        "#     --target_domain Urban \\\n",
        "#     --store drive\n",
        "\n",
        "# !python3 sem_seg.py \\\n",
        "#     --test \\\n",
        "#     --model_name PIDNet_M \\\n",
        "#     --version 0 \\\n",
        "#     --model_file last_0.pt \\\n",
        "#     --target_domain Rural \\\n",
        "#     --store drive\n",
        "\n",
        "# !python3 sem_seg.py \\\n",
        "#     --test \\\n",
        "#     --model_name PIDNet_M \\\n",
        "#     --version 0 \\\n",
        "#     --model_file best_0.pt \\\n",
        "#     --target_domain Rural \\\n",
        "#     --store drive"
      ]
    },
    {
      "cell_type": "markdown",
      "id": "FvluhdnLDRO3",
      "metadata": {
        "id": "FvluhdnLDRO3"
      },
      "source": [
        "### Version 1"
      ]
    },
    {
      "cell_type": "code",
      "execution_count": null,
      "id": "hRv0pAN8C5x9",
      "metadata": {
        "id": "hRv0pAN8C5x9"
      },
      "outputs": [],
      "source": [
        "# Train\n",
        "# !python3 sem_seg.py \\\n",
        "#     --train \\\n",
        "#     --model_name PIDNet_M \\\n",
        "#     --version 1 \\\n",
        "#     --source_domain Urban \\\n",
        "#     --horizontal_flip_augmentation \\\n",
        "#     --shift_scale_rotate_augmentation \\\n",
        "#     --random_crop_augmentation \\\n",
        "#     --batch_size 6 \\\n",
        "#     --criterion OhemCrossEntropyLoss \\\n",
        "#     --optimizer SGD \\\n",
        "#     --scheduler PolynomialLR \\\n",
        "#     --lr 0.001 \\\n",
        "#     --epochs 30 \\\n",
        "#     --store drive"
      ]
    },
    {
      "cell_type": "code",
      "execution_count": null,
      "id": "daeCc2WaDT_j",
      "metadata": {
        "id": "daeCc2WaDT_j"
      },
      "outputs": [],
      "source": [
        "# Test\n",
        "# !python3 sem_seg.py \\\n",
        "#     --test \\\n",
        "#     --model_name PIDNet_M \\\n",
        "#     --version 1 \\\n",
        "#     --model_file last_0.pt \\\n",
        "#     --target_domain Urban \\\n",
        "#     --store drive\n",
        "\n",
        "# !python3 sem_seg.py \\\n",
        "#     --test \\\n",
        "#     --model_name PIDNet_M \\\n",
        "#     --version 1 \\\n",
        "#     --model_file best_0.pt \\\n",
        "#     --target_domain Urban \\\n",
        "#     --store drive\n",
        "\n",
        "# !python3 sem_seg.py \\\n",
        "#     --test \\\n",
        "#     --model_name PIDNet_M \\\n",
        "#     --version 1 \\\n",
        "#     --model_file last_0.pt \\\n",
        "#     --target_domain Rural \\\n",
        "#     --store drive\n",
        "\n",
        "# !python3 sem_seg.py \\\n",
        "#     --test \\\n",
        "#     --model_name PIDNet_M \\\n",
        "#     --version 1 \\\n",
        "#     --model_file best_0.pt \\\n",
        "#     --target_domain Rural \\\n",
        "#     --store drive"
      ]
    },
    {
      "cell_type": "markdown",
      "id": "G2XCiN7iDU5T",
      "metadata": {
        "id": "G2XCiN7iDU5T"
      },
      "source": [
        "## PIDNet_M_DACS"
      ]
    },
    {
      "cell_type": "markdown",
      "id": "hJ9iojTQDYvZ",
      "metadata": {
        "id": "hJ9iojTQDYvZ"
      },
      "source": [
        "### Version 0"
      ]
    },
    {
      "cell_type": "code",
      "execution_count": null,
      "id": "p0_duXRCKRT7",
      "metadata": {
        "id": "p0_duXRCKRT7"
      },
      "outputs": [],
      "source": [
        "# Train\n",
        "# !python3 sem_seg_dacs.py \\\n",
        "#     --train \\\n",
        "#     --model_name PIDNet_M \\\n",
        "#     --version 0 \\\n",
        "#     --batch_size 6 \\\n",
        "#     --augment_mixed \\\n",
        "#     --random_crop_augmentation \\\n",
        "#     --horizontal_flip_augmentation \\\n",
        "#     --shift_scale_rotate_augmentation \\\n",
        "#     --lr 0.001 \\\n",
        "#     --epochs 30 \\\n",
        "#     --store drive"
      ]
    },
    {
      "cell_type": "code",
      "execution_count": null,
      "id": "cVWm5h-kMtxl",
      "metadata": {
        "id": "cVWm5h-kMtxl"
      },
      "outputs": [],
      "source": [
        "# Test\n",
        "# !python3 sem_seg_dacs.py \\\n",
        "#     --test \\\n",
        "#     --model_name PIDNet_M \\\n",
        "#     --version 0 \\\n",
        "#     --model_file last_0.pt \\\n",
        "#     --target_domain Urban \\\n",
        "#     --store drive\n",
        "\n",
        "# !python3 sem_seg_dacs.py \\\n",
        "#     --test \\\n",
        "#     --model_name PIDNet_M \\\n",
        "#     --version 0 \\\n",
        "#     --model_file best_0.pt \\\n",
        "#     --target_domain Urban \\\n",
        "#     --store drive\n",
        "\n",
        "# !python3 sem_seg_dacs.py \\\n",
        "#     --test \\\n",
        "#     --model_name PIDNet_M \\\n",
        "#     --version 0 \\\n",
        "#     --model_file last_0.pt \\\n",
        "#     --target_domain Rural \\\n",
        "#     --store drive\n",
        "\n",
        "# !python3 sem_seg_dacs.py \\\n",
        "#     --test \\\n",
        "#     --model_name PIDNet_M \\\n",
        "#     --version 0 \\\n",
        "#     --model_file best_0.pt \\\n",
        "#     --target_domain Rural \\\n",
        "#     --store drive"
      ]
    },
    {
      "cell_type": "markdown",
      "id": "qW11WHf-D0rs",
      "metadata": {
        "id": "qW11WHf-D0rs"
      },
      "source": [
        "## PIDNet_M_DACS_GCW_LDQ"
      ]
    },
    {
      "cell_type": "code",
      "execution_count": null,
      "id": "78HA1MPMMWmr",
      "metadata": {
        "id": "78HA1MPMMWmr"
      },
      "outputs": [],
      "source": [
        "# Train\n",
        "# !python3 sem_seg_dacs_gcw_ldq.py \\\n",
        "#     --train \\\n",
        "#     --resume \\\n",
        "#     --resume_epoch 7 \\\n",
        "#     --gcw \\\n",
        "#     --ldq \\\n",
        "#     --model_name PIDNet_M \\\n",
        "#     --version 0 \\\n",
        "#     --batch_size 6 \\\n",
        "#     --augment_mixed \\\n",
        "#     --random_crop_augmentation \\\n",
        "#     --horizontal_flip_augmentation \\\n",
        "#     --shift_scale_rotate_augmentation \\\n",
        "#     --lr 0.001 \\\n",
        "#     --epochs 30 \\\n",
        "#     --store drive"
      ]
    },
    {
      "cell_type": "code",
      "execution_count": null,
      "id": "y-LUjHBwMjvc",
      "metadata": {
        "id": "y-LUjHBwMjvc"
      },
      "outputs": [],
      "source": [
        "# Test\n",
        "# !python3 sem_seg_dacs_gcw_ldq.py \\\n",
        "#     --test \\\n",
        "#     --model_name PIDNet_M \\\n",
        "#     --version 0 \\\n",
        "#     --model_file last_0.pt \\\n",
        "#     --target_domain Urban \\\n",
        "#     --store drive\n",
        "\n",
        "# !python3 sem_seg_dacs_gcw_ldq.py \\\n",
        "#     --test \\\n",
        "#     --model_name PIDNet_M \\\n",
        "#     --version 0 \\\n",
        "#     --model_file best_0.pt \\\n",
        "#     --target_domain Urban \\\n",
        "#     --store drive\n",
        "\n",
        "# !python3 sem_seg_dacs_gcw_ldq.py \\\n",
        "#     --test \\\n",
        "#     --model_name PIDNet_M \\\n",
        "#     --version 0 \\\n",
        "#     --model_file last_0.pt \\\n",
        "#     --target_domain Rural \\\n",
        "#     --store drive\n",
        "\n",
        "# !python3 sem_seg_dacs_gcw_ldq.py \\\n",
        "#     --test \\\n",
        "#     --model_name PIDNet_M \\\n",
        "#     --version 0 \\\n",
        "#     --model_file best_0.pt \\\n",
        "#     --target_domain Rural \\\n",
        "#     --store drive"
      ]
    }
  ],
  "metadata": {
    "accelerator": "GPU",
    "colab": {
      "gpuType": "T4",
      "provenance": []
    },
    "kernelspec": {
      "display_name": "Python 3",
      "name": "python3"
    },
    "language_info": {
      "codemirror_mode": {
        "name": "ipython",
        "version": 3
      },
      "file_extension": ".py",
      "mimetype": "text/x-python",
      "name": "python",
      "nbconvert_exporter": "python",
      "pygments_lexer": "ipython3",
      "version": "3.12.7"
    }
  },
  "nbformat": 4,
  "nbformat_minor": 5
}