{
  "cells": [
    {
      "cell_type": "markdown",
      "id": "0K9H8Nk-N_Tf",
      "metadata": {
        "id": "0K9H8Nk-N_Tf"
      },
      "source": [
        "# Real-time Domain Adaptation in Semantic Segmentation"
      ]
    },
    {
      "cell_type": "markdown",
      "id": "f722511a",
      "metadata": {
        "id": "f722511a"
      },
      "source": [
        "## Mount drive"
      ]
    },
    {
      "cell_type": "code",
      "execution_count": null,
      "id": "vVcmrIe_TGGA",
      "metadata": {
        "id": "vVcmrIe_TGGA"
      },
      "outputs": [],
      "source": [
        "from google.colab import drive\n",
        "drive.mount('/content/drive')"
      ]
    },
    {
      "cell_type": "markdown",
      "id": "be24ecf1",
      "metadata": {
        "id": "be24ecf1"
      },
      "source": [
        "## Import code"
      ]
    },
    {
      "cell_type": "code",
      "execution_count": null,
      "id": "GrQxrFD9QBIi",
      "metadata": {
        "id": "GrQxrFD9QBIi"
      },
      "outputs": [],
      "source": [
        "!git clone https://github.com/SimoneBorella/semantic-segmentation-domain-adaptation.git\n",
        "\n",
        "!cp -r ./semantic-segmentation-domain-adaptation/datasets .\n",
        "!cp -r ./semantic-segmentation-domain-adaptation/models .\n",
        "!cp -r ./semantic-segmentation-domain-adaptation/criteria .\n",
        "!cp -r ./semantic-segmentation-domain-adaptation/utils .\n",
        "!cp ./semantic-segmentation-domain-adaptation/get_dataset.bash .\n",
        "!cp ./semantic-segmentation-domain-adaptation/get_weights_pretrained.bash .\n",
        "!cp ./semantic-segmentation-domain-adaptation/sem_seg.py .\n",
        "!cp ./semantic-segmentation-domain-adaptation/sem_seg_da_adv.py .\n",
        "!cp ./semantic-segmentation-domain-adaptation/sem_seg_dacs.py .\n",
        "!cp ./semantic-segmentation-domain-adaptation/sem_seg_dacs_gcw_ldq.py .\n",
        "\n",
        "!rm -r ./semantic-segmentation-domain-adaptation\n",
        "!rm -r sample_data"
      ]
    },
    {
      "cell_type": "markdown",
      "id": "d0e497ec",
      "metadata": {
        "id": "d0e497ec"
      },
      "source": [
        "## Packages installation"
      ]
    },
    {
      "cell_type": "code",
      "execution_count": null,
      "id": "5q3A_omGNpCf",
      "metadata": {
        "id": "5q3A_omGNpCf"
      },
      "outputs": [],
      "source": [
        "!pip3 install torch torchvision torchaudio gdown fvcore kornia"
      ]
    },
    {
      "cell_type": "markdown",
      "id": "0302d761",
      "metadata": {
        "id": "0302d761"
      },
      "source": [
        "## Download LoveDA dataset"
      ]
    },
    {
      "cell_type": "code",
      "execution_count": null,
      "id": "5a2f0959",
      "metadata": {
        "colab": {
          "base_uri": "https://localhost:8080/"
        },
        "id": "5a2f0959",
        "outputId": "5d194759-b5c9-43c7-991d-2b8a6de7f79e"
      },
      "outputs": [],
      "source": [
        "!bash get_dataset.bash"
      ]
    },
    {
      "cell_type": "markdown",
      "id": "b39ac3ab",
      "metadata": {
        "id": "b39ac3ab"
      },
      "source": [
        "# Download weights pretrained"
      ]
    },
    {
      "cell_type": "code",
      "execution_count": null,
      "id": "ba683512",
      "metadata": {
        "id": "ba683512"
      },
      "outputs": [],
      "source": [
        "!bash get_weights_pretrained.bash"
      ]
    },
    {
      "cell_type": "markdown",
      "id": "065eb67f",
      "metadata": {
        "id": "065eb67f"
      },
      "source": [
        "## DeepLabV2_ResNet101"
      ]
    },
    {
      "cell_type": "markdown",
      "id": "7nuYgig-CZrD",
      "metadata": {
        "id": "7nuYgig-CZrD"
      },
      "source": [
        "### Version 0"
      ]
    },
    {
      "cell_type": "code",
      "execution_count": null,
      "id": "38b64585",
      "metadata": {
        "id": "38b64585"
      },
      "outputs": [],
      "source": [
        "# Train\n",
        "# !python3 sem_seg.py \\\n",
        "#     --train \\\n",
        "#     --model_name DeepLabV2_ResNet101 \\\n",
        "#     --version 0 \\\n",
        "#     --source_domain Rural \\\n",
        "#     --batch_size 6 \\\n",
        "#     --criterion CrossEntropyLoss \\\n",
        "#     --optimizer SGD \\\n",
        "#     --scheduler PolynomialLR \\\n",
        "#     --lr 0.001 \\\n",
        "#     --epochs 20 \\\n",
        "#     --store drive"
      ]
    },
    {
      "cell_type": "code",
      "execution_count": null,
      "id": "_2B91EQ1peh3",
      "metadata": {
        "id": "_2B91EQ1peh3"
      },
      "outputs": [],
      "source": [
        "# Test\n",
        "# !python3 sem_seg.py \\\n",
        "#     --test \\\n",
        "#     --model_name DeepLabV2_ResNet101 \\\n",
        "#     --version 0 \\\n",
        "#     --model_file last_0.pt \\\n",
        "#     --target_domain Urban \\\n",
        "#     --store drive\n",
        "\n",
        "# !python3 sem_seg.py \\\n",
        "#     --test \\\n",
        "#     --model_name DeepLabV2_ResNet101 \\\n",
        "#     --version 0 \\\n",
        "#     --model_file best_0.pt \\\n",
        "#     --target_domain Urban \\\n",
        "#     --store drive\n",
        "\n",
        "# !python3 sem_seg.py \\\n",
        "#     --test \\\n",
        "#     --model_name DeepLabV2_ResNet101 \\\n",
        "#     --version 0 \\\n",
        "#     --model_file last_0.pt \\\n",
        "#     --target_domain Rural \\\n",
        "#     --store drive\n",
        "\n",
        "# !python3 sem_seg.py \\\n",
        "#     --test \\\n",
        "#     --model_name DeepLabV2_ResNet101 \\\n",
        "#     --version 0 \\\n",
        "#     --model_file best_0.pt \\\n",
        "#     --target_domain Rural \\\n",
        "#     --store drive"
      ]
    },
    {
      "cell_type": "markdown",
      "id": "CmFVsxnQn-GS",
      "metadata": {
        "id": "CmFVsxnQn-GS"
      },
      "source": [
        "### Version 1"
      ]
    },
    {
      "cell_type": "code",
      "execution_count": null,
      "id": "79H1QUMnoACQ",
      "metadata": {
        "id": "79H1QUMnoACQ"
      },
      "outputs": [],
      "source": [
        "# Train\n",
        "# !python3 sem_seg.py \\\n",
        "#     --train \\\n",
        "#     --model_name DeepLabV2_ResNet101 \\\n",
        "#     --version 1 \\\n",
        "#     --source_domain Urban \\\n",
        "#     --batch_size 6 \\\n",
        "#     --criterion CrossEntropyLoss \\\n",
        "#     --optimizer SGD \\\n",
        "#     --scheduler PolynomialLR \\\n",
        "#     --lr 0.001 \\\n",
        "#     --epochs 20 \\\n",
        "#     --store drive"
      ]
    },
    {
      "cell_type": "code",
      "execution_count": null,
      "id": "PE22jigUoG_1",
      "metadata": {
        "id": "PE22jigUoG_1"
      },
      "outputs": [],
      "source": [
        "# Test\n",
        "# !python3 sem_seg.py \\\n",
        "#     --test \\\n",
        "#     --model_name DeepLabV2_ResNet101 \\\n",
        "#     --version 1 \\\n",
        "#     --model_file last_0.pt \\\n",
        "#     --target_domain Urban \\\n",
        "#     --store drive\n",
        "\n",
        "# !python3 sem_seg.py \\\n",
        "#     --test \\\n",
        "#     --model_name DeepLabV2_ResNet101 \\\n",
        "#     --version 1 \\\n",
        "#     --model_file best_0.pt \\\n",
        "#     --target_domain Urban \\\n",
        "#     --store drive\n",
        "\n",
        "# !python3 sem_seg.py \\\n",
        "#     --test \\\n",
        "#     --model_name DeepLabV2_ResNet101 \\\n",
        "#     --version 1 \\\n",
        "#     --model_file last_0.pt \\\n",
        "#     --target_domain Rural \\\n",
        "#     --store drive\n",
        "\n",
        "# !python3 sem_seg.py \\\n",
        "#     --test \\\n",
        "#     --model_name DeepLabV2_ResNet101 \\\n",
        "#     --version 1 \\\n",
        "#     --model_file best_0.pt \\\n",
        "#     --target_domain Rural \\\n",
        "#     --store drive"
      ]
    },
    {
      "cell_type": "markdown",
      "id": "u1oHe3-oPUWw",
      "metadata": {
        "id": "u1oHe3-oPUWw"
      },
      "source": [
        "## PIDNet_S"
      ]
    },
    {
      "cell_type": "markdown",
      "id": "mJ1D-4inCc95",
      "metadata": {
        "id": "mJ1D-4inCc95"
      },
      "source": [
        "### Version 0"
      ]
    },
    {
      "cell_type": "code",
      "execution_count": null,
      "id": "1781uEUIQsIL",
      "metadata": {
        "id": "1781uEUIQsIL"
      },
      "outputs": [],
      "source": [
        "# Train\n",
        "# !python3 sem_seg.py \\\n",
        "#     --train \\\n",
        "#     --model_name PIDNet_S \\\n",
        "#     --version 0 \\\n",
        "#     --source_domain Rural \\\n",
        "#     --batch_size 6 \\\n",
        "#     --criterion OhemCrossEntropyLoss \\\n",
        "#     --optimizer SGD \\\n",
        "#     --scheduler PolynomialLR \\\n",
        "#     --lr 0.01 \\\n",
        "#     --epochs 20 \\\n",
        "#     --store drive"
      ]
    },
    {
      "cell_type": "code",
      "execution_count": null,
      "id": "YoW7heiovwH-",
      "metadata": {
        "id": "YoW7heiovwH-"
      },
      "outputs": [],
      "source": [
        "# Test\n",
        "# !python3 sem_seg.py \\\n",
        "#     --test \\\n",
        "#     --model_name PIDNet_S \\\n",
        "#     --version 0 \\\n",
        "#     --model_file last_0.pt \\\n",
        "#     --target_domain Urban \\\n",
        "#     --store drive\n",
        "\n",
        "# !python3 sem_seg.py \\\n",
        "#     --test \\\n",
        "#     --model_name PIDNet_S \\\n",
        "#     --version 0 \\\n",
        "#     --model_file best_0.pt \\\n",
        "#     --target_domain Urban \\\n",
        "#     --store drive\n",
        "\n",
        "# !python3 sem_seg.py \\\n",
        "#     --test \\\n",
        "#     --model_name PIDNet_S \\\n",
        "#     --version 0 \\\n",
        "#     --model_file last_0.pt \\\n",
        "#     --target_domain Rural \\\n",
        "#     --store drive\n",
        "\n",
        "# !python3 sem_seg.py \\\n",
        "#     --test \\\n",
        "#     --model_name PIDNet_S \\\n",
        "#     --version 0 \\\n",
        "#     --model_file best_0.pt \\\n",
        "#     --target_domain Rural \\\n",
        "#     --store drive"
      ]
    },
    {
      "cell_type": "markdown",
      "id": "YXYwhR3wCerq",
      "metadata": {
        "id": "YXYwhR3wCerq"
      },
      "source": [
        "### Version 1"
      ]
    },
    {
      "cell_type": "code",
      "execution_count": null,
      "id": "cRB86IA033Fj",
      "metadata": {
        "id": "cRB86IA033Fj"
      },
      "outputs": [],
      "source": [
        "# Train\n",
        "# !python3 sem_seg.py \\\n",
        "#     --train \\\n",
        "#     --model_name PIDNet_S \\\n",
        "#     --version 1 \\\n",
        "#     --source_domain Urban \\\n",
        "#     --batch_size 6 \\\n",
        "#     --criterion OhemCrossEntropyLoss \\\n",
        "#     --optimizer SGD \\\n",
        "#     --scheduler PolynomialLR \\\n",
        "#     --lr 0.01 \\\n",
        "#     --epochs 20 \\\n",
        "#     --store drive"
      ]
    },
    {
      "cell_type": "code",
      "execution_count": null,
      "id": "hd8vzW6L4CNX",
      "metadata": {
        "id": "hd8vzW6L4CNX"
      },
      "outputs": [],
      "source": [
        "# Test\n",
        "# !python3 sem_seg.py \\\n",
        "#     --test \\\n",
        "#     --model_name PIDNet_S \\\n",
        "#     --version 1 \\\n",
        "#     --model_file last_0.pt \\\n",
        "#     --target_domain Urban \\\n",
        "#     --store drive\n",
        "\n",
        "# !python3 sem_seg.py \\\n",
        "#     --test \\\n",
        "#     --model_name PIDNet_S \\\n",
        "#     --version 1 \\\n",
        "#     --model_file best_0.pt \\\n",
        "#     --target_domain Urban \\\n",
        "#     --store drive\n",
        "\n",
        "# !python3 sem_seg.py \\\n",
        "#     --test \\\n",
        "#     --model_name PIDNet_S \\\n",
        "#     --version 1 \\\n",
        "#     --model_file last_0.pt \\\n",
        "#     --target_domain Rural \\\n",
        "#     --store drive\n",
        "\n",
        "# !python3 sem_seg.py \\\n",
        "#     --test \\\n",
        "#     --model_name PIDNet_S \\\n",
        "#     --version 1 \\\n",
        "#     --model_file best_0.pt \\\n",
        "#     --target_domain Rural \\\n",
        "#     --store drive"
      ]
    },
    {
      "cell_type": "markdown",
      "id": "L9Jw_5xfP7rl",
      "metadata": {
        "id": "L9Jw_5xfP7rl"
      },
      "source": [
        "### Version 2"
      ]
    },
    {
      "cell_type": "code",
      "execution_count": null,
      "id": "grG7HbW3P9m9",
      "metadata": {
        "id": "grG7HbW3P9m9"
      },
      "outputs": [],
      "source": [
        "# Train\n",
        "# !python3 sem_seg.py \\\n",
        "#     --train \\\n",
        "#     --model_name PIDNet_S \\\n",
        "#     --version 2 \\\n",
        "#     --source_domain Rural \\\n",
        "#     --batch_size 6 \\\n",
        "#     --criterion OhemCrossEntropyLoss \\\n",
        "#     --optimizer SGD \\\n",
        "#     --scheduler PolynomialLR \\\n",
        "#     --lr 0.001 \\\n",
        "#     --epochs 20 \\\n",
        "#     --store drive"
      ]
    },
    {
      "cell_type": "code",
      "execution_count": null,
      "id": "3PmiChAUP-ci",
      "metadata": {
        "id": "3PmiChAUP-ci"
      },
      "outputs": [],
      "source": [
        "# Test\n",
        "# !python3 sem_seg.py \\\n",
        "#     --test \\\n",
        "#     --model_name PIDNet_S \\\n",
        "#     --version 2 \\\n",
        "#     --model_file last_0.pt \\\n",
        "#     --target_domain Urban \\\n",
        "#     --store drive\n",
        "\n",
        "# !python3 sem_seg.py \\\n",
        "#     --test \\\n",
        "#     --model_name PIDNet_S \\\n",
        "#     --version 2 \\\n",
        "#     --model_file best_0.pt \\\n",
        "#     --target_domain Urban \\\n",
        "#     --store drive\n",
        "\n",
        "# !python3 sem_seg.py \\\n",
        "#     --test \\\n",
        "#     --model_name PIDNet_S \\\n",
        "#     --version 2 \\\n",
        "#     --model_file last_0.pt \\\n",
        "#     --target_domain Rural \\\n",
        "#     --store drive\n",
        "\n",
        "# !python3 sem_seg.py \\\n",
        "#     --test \\\n",
        "#     --model_name PIDNet_S \\\n",
        "#     --version 2 \\\n",
        "#     --model_file best_0.pt \\\n",
        "#     --target_domain Rural \\\n",
        "#     --store drive"
      ]
    },
    {
      "cell_type": "markdown",
      "id": "1znNDkpmLms8",
      "metadata": {
        "id": "1znNDkpmLms8"
      },
      "source": [
        "### Version 3"
      ]
    },
    {
      "cell_type": "code",
      "execution_count": null,
      "id": "P2XlPTekLops",
      "metadata": {
        "id": "P2XlPTekLops"
      },
      "outputs": [],
      "source": [
        "# Train\n",
        "# !python3 sem_seg.py \\\n",
        "#     --train \\\n",
        "#     --model_name PIDNet_S \\\n",
        "#     --version 3 \\\n",
        "#     --source_domain Urban \\\n",
        "#     --batch_size 6 \\\n",
        "#     --criterion OhemCrossEntropyLoss \\\n",
        "#     --optimizer SGD \\\n",
        "#     --scheduler PolynomialLR \\\n",
        "#     --lr 0.001 \\\n",
        "#     --epochs 20 \\\n",
        "#     --store drive"
      ]
    },
    {
      "cell_type": "code",
      "execution_count": null,
      "id": "Cj2mRgD5_6E4",
      "metadata": {
        "id": "Cj2mRgD5_6E4"
      },
      "outputs": [],
      "source": [
        "# Test\n",
        "# !python3 sem_seg.py \\\n",
        "#     --test \\\n",
        "#     --model_name PIDNet_S \\\n",
        "#     --version 3 \\\n",
        "#     --model_file last_0.pt \\\n",
        "#     --target_domain Urban \\\n",
        "#     --store drive\n",
        "\n",
        "# !python3 sem_seg.py \\\n",
        "#     --test \\\n",
        "#     --model_name PIDNet_S \\\n",
        "#     --version 3 \\\n",
        "#     --model_file best_0.pt \\\n",
        "#     --target_domain Urban \\\n",
        "#     --store drive\n",
        "\n",
        "# !python3 sem_seg.py \\\n",
        "#     --test \\\n",
        "#     --model_name PIDNet_S \\\n",
        "#     --version 3 \\\n",
        "#     --model_file last_0.pt \\\n",
        "#     --target_domain Rural \\\n",
        "#     --store drive\n",
        "\n",
        "# !python3 sem_seg.py \\\n",
        "#     --test \\\n",
        "#     --model_name PIDNet_S \\\n",
        "#     --version 3 \\\n",
        "#     --model_file best_0.pt \\\n",
        "#     --target_domain Rural \\\n",
        "#     --store drive"
      ]
    },
    {
      "cell_type": "markdown",
      "id": "Mfs8oz9pQ4d8",
      "metadata": {
        "id": "Mfs8oz9pQ4d8"
      },
      "source": [
        "### Version 4"
      ]
    },
    {
      "cell_type": "code",
      "execution_count": null,
      "id": "ZO4nUoQFQ6bO",
      "metadata": {
        "id": "ZO4nUoQFQ6bO"
      },
      "outputs": [],
      "source": [
        "# Train\n",
        "# !python3 sem_seg.py \\\n",
        "#     --train \\\n",
        "#     --model_name PIDNet_S \\\n",
        "#     --version 4 \\\n",
        "#     --source_domain Urban \\\n",
        "#     --horizontal_flip_augmentation \\\n",
        "#     --shift_scale_rotate_augmentation \\\n",
        "#     --batch_size 6 \\\n",
        "#     --criterion OhemCrossEntropyLoss \\\n",
        "#     --optimizer SGD \\\n",
        "#     --scheduler PolynomialLR \\\n",
        "#     --lr 0.001 \\\n",
        "#     --epochs 20 \\\n",
        "#     --store drive"
      ]
    },
    {
      "cell_type": "code",
      "execution_count": null,
      "id": "shkIo1zlQ-5v",
      "metadata": {
        "id": "shkIo1zlQ-5v"
      },
      "outputs": [],
      "source": [
        "# Test\n",
        "# !python3 sem_seg.py \\\n",
        "#     --test \\\n",
        "#     --model_name PIDNet_S \\\n",
        "#     --version 4 \\\n",
        "#     --model_file last_0.pt \\\n",
        "#     --target_domain Urban \\\n",
        "#     --store drive\n",
        "\n",
        "# !python3 sem_seg.py \\\n",
        "#     --test \\\n",
        "#     --model_name PIDNet_S \\\n",
        "#     --version 4 \\\n",
        "#     --model_file best_0.pt \\\n",
        "#     --target_domain Urban \\\n",
        "#     --store drive\n",
        "\n",
        "# !python3 sem_seg.py \\\n",
        "#     --test \\\n",
        "#     --model_name PIDNet_S \\\n",
        "#     --version 4 \\\n",
        "#     --model_file last_0.pt \\\n",
        "#     --target_domain Rural \\\n",
        "#     --store drive\n",
        "\n",
        "# !python3 sem_seg.py \\\n",
        "#     --test \\\n",
        "#     --model_name PIDNet_S \\\n",
        "#     --version 4 \\\n",
        "#     --model_file best_0.pt \\\n",
        "#     --target_domain Rural \\\n",
        "#     --store drive"
      ]
    },
    {
      "cell_type": "markdown",
      "id": "5wSUEGPHRDTR",
      "metadata": {
        "id": "5wSUEGPHRDTR"
      },
      "source": [
        "### Version 5"
      ]
    },
    {
      "cell_type": "code",
      "execution_count": null,
      "id": "jDj7Viy0RC_A",
      "metadata": {
        "id": "jDj7Viy0RC_A"
      },
      "outputs": [],
      "source": [
        "# Train\n",
        "# !python3 sem_seg.py \\\n",
        "#     --train \\\n",
        "#     --model_name PIDNet_S \\\n",
        "#     --version 5 \\\n",
        "#     --source_domain Urban \\\n",
        "#     --horizontal_flip_augmentation \\\n",
        "#     --shift_scale_rotate_augmentation \\\n",
        "#     --grid_distortion_augmentation \\\n",
        "#     --batch_size 6 \\\n",
        "#     --criterion OhemCrossEntropyLoss \\\n",
        "#     --optimizer SGD \\\n",
        "#     --scheduler PolynomialLR \\\n",
        "#     --lr 0.001 \\\n",
        "#     --epochs 20 \\\n",
        "#     --store drive"
      ]
    },
    {
      "cell_type": "code",
      "execution_count": null,
      "id": "aXiEITm_RHFd",
      "metadata": {
        "id": "aXiEITm_RHFd"
      },
      "outputs": [],
      "source": [
        "# Test\n",
        "# !python3 sem_seg.py \\\n",
        "#     --test \\\n",
        "#     --model_name PIDNet_S \\\n",
        "#     --version 5 \\\n",
        "#     --model_file last_0.pt \\\n",
        "#     --target_domain Urban \\\n",
        "#     --store drive\n",
        "\n",
        "# !python3 sem_seg.py \\\n",
        "#     --test \\\n",
        "#     --model_name PIDNet_S \\\n",
        "#     --version 5 \\\n",
        "#     --model_file best_0.pt \\\n",
        "#     --target_domain Urban \\\n",
        "#     --store drive\n",
        "\n",
        "# !python3 sem_seg.py \\\n",
        "#     --test \\\n",
        "#     --model_name PIDNet_S \\\n",
        "#     --version 5 \\\n",
        "#     --model_file last_0.pt \\\n",
        "#     --target_domain Rural \\\n",
        "#     --store drive\n",
        "\n",
        "# !python3 sem_seg.py \\\n",
        "#     --test \\\n",
        "#     --model_name PIDNet_S \\\n",
        "#     --version 5 \\\n",
        "#     --model_file best_0.pt \\\n",
        "#     --target_domain Rural \\\n",
        "#     --store drive"
      ]
    },
    {
      "cell_type": "markdown",
      "id": "VNvoI0647uJx",
      "metadata": {
        "id": "VNvoI0647uJx"
      },
      "source": [
        "### Version 6"
      ]
    },
    {
      "cell_type": "code",
      "execution_count": null,
      "id": "6pokdWxV7wDc",
      "metadata": {
        "id": "6pokdWxV7wDc"
      },
      "outputs": [],
      "source": [
        "# Train\n",
        "# !python3 sem_seg.py \\\n",
        "#     --train \\\n",
        "#     --model_name PIDNet_S \\\n",
        "#     --version 6 \\\n",
        "#     --source_domain Urban \\\n",
        "#     --horizontal_flip_augmentation \\\n",
        "#     --shift_scale_rotate_augmentation \\\n",
        "#     --random_crop_augmentation \\\n",
        "#     --batch_size 6 \\\n",
        "#     --criterion OhemCrossEntropyLoss \\\n",
        "#     --optimizer SGD \\\n",
        "#     --scheduler PolynomialLR \\\n",
        "#     --lr 0.001 \\\n",
        "#     --epochs 20 \\\n",
        "#     --store drive"
      ]
    },
    {
      "cell_type": "code",
      "execution_count": null,
      "id": "iQXuVpB6RnVy",
      "metadata": {
        "id": "iQXuVpB6RnVy"
      },
      "outputs": [],
      "source": [
        "# Test\n",
        "# !python3 sem_seg.py \\\n",
        "#     --test \\\n",
        "#     --model_name PIDNet_S \\\n",
        "#     --version 6 \\\n",
        "#     --model_file last_0.pt \\\n",
        "#     --target_domain Urban \\\n",
        "#     --store drive\n",
        "\n",
        "# !python3 sem_seg.py \\\n",
        "#     --test \\\n",
        "#     --model_name PIDNet_S \\\n",
        "#     --version 6 \\\n",
        "#     --model_file best_0.pt \\\n",
        "#     --target_domain Urban \\\n",
        "#     --store drive\n",
        "\n",
        "# !python3 sem_seg.py \\\n",
        "#     --test \\\n",
        "#     --model_name PIDNet_S \\\n",
        "#     --version 6 \\\n",
        "#     --model_file last_0.pt \\\n",
        "#     --target_domain Rural \\\n",
        "#     --store drive\n",
        "\n",
        "# !python3 sem_seg.py \\\n",
        "#     --test \\\n",
        "#     --model_name PIDNet_S \\\n",
        "#     --version 6 \\\n",
        "#     --model_file best_0.pt \\\n",
        "#     --target_domain Rural \\\n",
        "#     --store drive"
      ]
    },
    {
      "cell_type": "markdown",
      "id": "AKC-Ag3TKmD-",
      "metadata": {
        "id": "AKC-Ag3TKmD-"
      },
      "source": [
        "### Version 7"
      ]
    },
    {
      "cell_type": "code",
      "execution_count": null,
      "id": "OdxivdnvKory",
      "metadata": {
        "id": "OdxivdnvKory"
      },
      "outputs": [],
      "source": [
        "# Train\n",
        "# !python3 sem_seg.py \\\n",
        "#     --train \\\n",
        "#     --model_name PIDNet_S \\\n",
        "#     --version 7 \\\n",
        "#     --source_domain Urban \\\n",
        "#     --horizontal_flip_augmentation \\\n",
        "#     --shift_scale_rotate_augmentation \\\n",
        "#     --coarse_dropout_augmentation \\\n",
        "#     --batch_size 6 \\\n",
        "#     --criterion OhemCrossEntropyLoss \\\n",
        "#     --optimizer SGD \\\n",
        "#     --scheduler PolynomialLR \\\n",
        "#     --lr 0.001 \\\n",
        "#     --epochs 20 \\\n",
        "#     --store drive"
      ]
    },
    {
      "cell_type": "code",
      "execution_count": null,
      "id": "Gee8T9VcKqOr",
      "metadata": {
        "id": "Gee8T9VcKqOr"
      },
      "outputs": [],
      "source": [
        "# Test\n",
        "# !python3 sem_seg.py \\\n",
        "#     --test \\\n",
        "#     --model_name PIDNet_S \\\n",
        "#     --version 7 \\\n",
        "#     --model_file last_0.pt \\\n",
        "#     --target_domain Urban \\\n",
        "#     --store drive\n",
        "\n",
        "# !python3 sem_seg.py \\\n",
        "#     --test \\\n",
        "#     --model_name PIDNet_S \\\n",
        "#     --version 7 \\\n",
        "#     --model_file best_0.pt \\\n",
        "#     --target_domain Urban \\\n",
        "#     --store drive\n",
        "\n",
        "# !python3 sem_seg.py \\\n",
        "#     --test \\\n",
        "#     --model_name PIDNet_S \\\n",
        "#     --version 7 \\\n",
        "#     --model_file last_0.pt \\\n",
        "#     --target_domain Rural \\\n",
        "#     --store drive\n",
        "\n",
        "# !python3 sem_seg.py \\\n",
        "#     --test \\\n",
        "#     --model_name PIDNet_S \\\n",
        "#     --version 7 \\\n",
        "#     --model_file best_0.pt \\\n",
        "#     --target_domain Rural \\\n",
        "#     --store drive"
      ]
    },
    {
      "cell_type": "markdown",
      "id": "5z4Yf_e7LHBm",
      "metadata": {
        "id": "5z4Yf_e7LHBm"
      },
      "source": [
        "### Version 8"
      ]
    },
    {
      "cell_type": "code",
      "execution_count": null,
      "id": "_U266rfpLHVv",
      "metadata": {
        "id": "_U266rfpLHVv"
      },
      "outputs": [],
      "source": [
        "# Train\n",
        "# !python3 sem_seg.py \\\n",
        "#     --train \\\n",
        "#     --model_name PIDNet_S \\\n",
        "#     --version 8 \\\n",
        "#     --source_domain Urban \\\n",
        "#     --horizontal_flip_augmentation \\\n",
        "#     --random_crop_augmentation \\\n",
        "#     --coarse_dropout_augmentation \\\n",
        "#     --batch_size 6 \\\n",
        "#     --criterion OhemCrossEntropyLoss \\\n",
        "#     --optimizer SGD \\\n",
        "#     --scheduler PolynomialLR \\\n",
        "#     --lr 0.001 \\\n",
        "#     --epochs 20 \\\n",
        "#     --store drive"
      ]
    },
    {
      "cell_type": "code",
      "execution_count": null,
      "id": "adeO5RhlLGxJ",
      "metadata": {
        "id": "adeO5RhlLGxJ"
      },
      "outputs": [],
      "source": [
        "# Test\n",
        "# !python3 sem_seg.py \\\n",
        "#     --test \\\n",
        "#     --model_name PIDNet_S \\\n",
        "#     --version 8 \\\n",
        "#     --model_file last_0.pt \\\n",
        "#     --target_domain Urban \\\n",
        "#     --store drive\n",
        "\n",
        "# !python3 sem_seg.py \\\n",
        "#     --test \\\n",
        "#     --model_name PIDNet_S \\\n",
        "#     --version 8 \\\n",
        "#     --model_file best_0.pt \\\n",
        "#     --target_domain Urban \\\n",
        "#     --store drive\n",
        "\n",
        "# !python3 sem_seg.py \\\n",
        "#     --test \\\n",
        "#     --model_name PIDNet_S \\\n",
        "#     --version 8 \\\n",
        "#     --model_file last_0.pt \\\n",
        "#     --target_domain Rural \\\n",
        "#     --store drive\n",
        "\n",
        "# !python3 sem_seg.py \\\n",
        "#     --test \\\n",
        "#     --model_name PIDNet_S \\\n",
        "#     --version 8 \\\n",
        "#     --model_file best_0.pt \\\n",
        "#     --target_domain Rural \\\n",
        "#     --store drive"
      ]
    },
    {
      "cell_type": "markdown",
      "id": "1herMXx32Xsy",
      "metadata": {
        "id": "1herMXx32Xsy"
      },
      "source": [
        "### Version 9"
      ]
    },
    {
      "cell_type": "code",
      "execution_count": null,
      "id": "3Ver_pbF2YGD",
      "metadata": {
        "id": "3Ver_pbF2YGD"
      },
      "outputs": [],
      "source": [
        "# Train\n",
        "# !python3 sem_seg.py \\\n",
        "#     --train \\\n",
        "#     --model_name PIDNet_S \\\n",
        "#     --version 9 \\\n",
        "#     --source_domain Urban \\\n",
        "#     --horizontal_flip_augmentation \\\n",
        "#     --shift_scale_rotate_augmentation \\\n",
        "#     --random_crop_augmentation \\\n",
        "#     --color_jitter_augmentation \\\n",
        "#     --batch_size 6 \\\n",
        "#     --criterion OhemCrossEntropyLoss \\\n",
        "#     --optimizer SGD \\\n",
        "#     --scheduler PolynomialLR \\\n",
        "#     --lr 0.001 \\\n",
        "#     --epochs 20 \\\n",
        "#     --store drive"
      ]
    },
    {
      "cell_type": "code",
      "execution_count": null,
      "id": "eKK8UGDU2YWv",
      "metadata": {
        "id": "eKK8UGDU2YWv"
      },
      "outputs": [],
      "source": [
        "# Test\n",
        "# !python3 sem_seg.py \\\n",
        "#     --test \\\n",
        "#     --model_name PIDNet_S \\\n",
        "#     --version 9 \\\n",
        "#     --model_file last_0.pt \\\n",
        "#     --target_domain Urban \\\n",
        "#     --store drive\n",
        "\n",
        "# !python3 sem_seg.py \\\n",
        "#     --test \\\n",
        "#     --model_name PIDNet_S \\\n",
        "#     --version 9 \\\n",
        "#     --model_file best_0.pt \\\n",
        "#     --target_domain Urban \\\n",
        "#     --store drive\n",
        "\n",
        "# !python3 sem_seg.py \\\n",
        "#     --test \\\n",
        "#     --model_name PIDNet_S \\\n",
        "#     --version 9 \\\n",
        "#     --model_file last_0.pt \\\n",
        "#     --target_domain Rural \\\n",
        "#     --store drive\n",
        "\n",
        "# !python3 sem_seg.py \\\n",
        "#     --test \\\n",
        "#     --model_name PIDNet_S \\\n",
        "#     --version 9 \\\n",
        "#     --model_file best_0.pt \\\n",
        "#     --target_domain Rural \\\n",
        "#     --store drive"
      ]
    },
    {
      "cell_type": "markdown",
      "id": "ovbkQSWE2Yv-",
      "metadata": {
        "id": "ovbkQSWE2Yv-"
      },
      "source": [
        "### Version 10"
      ]
    },
    {
      "cell_type": "code",
      "execution_count": null,
      "id": "qAQDqgIK2ZDe",
      "metadata": {
        "id": "qAQDqgIK2ZDe"
      },
      "outputs": [],
      "source": [
        "# Train\n",
        "# !python3 sem_seg.py \\\n",
        "#     --train \\\n",
        "#     --model_name PIDNet_S \\\n",
        "#     --version 10 \\\n",
        "#     --source_domain Urban \\\n",
        "#     --horizontal_flip_augmentation \\\n",
        "#     --shift_scale_rotate_augmentation \\\n",
        "#     --random_crop_augmentation \\\n",
        "#     --gaussian_blur_augmentation \\\n",
        "#     --batch_size 6 \\\n",
        "#     --criterion OhemCrossEntropyLoss \\\n",
        "#     --optimizer SGD \\\n",
        "#     --scheduler PolynomialLR \\\n",
        "#     --lr 0.001 \\\n",
        "#     --epochs 20 \\\n",
        "#     --store drive"
      ]
    },
    {
      "cell_type": "code",
      "execution_count": null,
      "id": "znpavyL52ZQ1",
      "metadata": {
        "id": "znpavyL52ZQ1"
      },
      "outputs": [],
      "source": [
        "# Test\n",
        "# !python3 sem_seg.py \\\n",
        "#     --test \\\n",
        "#     --model_name PIDNet_S \\\n",
        "#     --version 10 \\\n",
        "#     --model_file last_0.pt \\\n",
        "#     --target_domain Urban \\\n",
        "#     --store drive\n",
        "\n",
        "# !python3 sem_seg.py \\\n",
        "#     --test \\\n",
        "#     --model_name PIDNet_S \\\n",
        "#     --version 10 \\\n",
        "#     --model_file best_0.pt \\\n",
        "#     --target_domain Urban \\\n",
        "#     --store drive\n",
        "\n",
        "# !python3 sem_seg.py \\\n",
        "#     --test \\\n",
        "#     --model_name PIDNet_S \\\n",
        "#     --version 10 \\\n",
        "#     --model_file last_0.pt \\\n",
        "#     --target_domain Rural \\\n",
        "#     --store drive\n",
        "\n",
        "# !python3 sem_seg.py \\\n",
        "#     --test \\\n",
        "#     --model_name PIDNet_S \\\n",
        "#     --version 10 \\\n",
        "#     --model_file best_0.pt \\\n",
        "#     --target_domain Rural \\\n",
        "#     --store drive"
      ]
    },
    {
      "cell_type": "markdown",
      "id": "biNElpGjeVHv",
      "metadata": {
        "id": "biNElpGjeVHv"
      },
      "source": [
        "## PIDNet_S_Adversarial"
      ]
    },
    {
      "cell_type": "markdown",
      "id": "irYLA7-0eZOX",
      "metadata": {
        "id": "irYLA7-0eZOX"
      },
      "source": [
        "### Version 0"
      ]
    },
    {
      "cell_type": "code",
      "execution_count": null,
      "id": "b-LGktp3eYuE",
      "metadata": {
        "id": "b-LGktp3eYuE"
      },
      "outputs": [],
      "source": [
        "# Train\n",
        "# !python3 sem_seg_da_adv.py \\\n",
        "#     --train \\\n",
        "#     --mode single_level \\\n",
        "#     --model_name PIDNet_S \\\n",
        "#     --version 0 \\\n",
        "#     --batch_size 6 \\\n",
        "#     --lr 0.001 \\\n",
        "#     --lr_D 0.0005 \\\n",
        "#     --epochs 20 \\\n",
        "#     --store drive"
      ]
    },
    {
      "cell_type": "code",
      "execution_count": null,
      "id": "54g9BqqmeYjc",
      "metadata": {
        "id": "54g9BqqmeYjc"
      },
      "outputs": [],
      "source": [
        "# Test\n",
        "# !python3 sem_seg_da_adv.py \\\n",
        "#     --test \\\n",
        "#     --model_name PIDNet_S \\\n",
        "#     --version 0 \\\n",
        "#     --model_file last_0.pt \\\n",
        "#     --target_domain Urban \\\n",
        "#     --store drive\n",
        "\n",
        "# !python3 sem_seg_da_adv.py \\\n",
        "#     --test \\\n",
        "#     --model_name PIDNet_S \\\n",
        "#     --version 0 \\\n",
        "#     --model_file best_0.pt \\\n",
        "#     --target_domain Urban \\\n",
        "#     --store drive\n",
        "\n",
        "# !python3 sem_seg_da_adv.py \\\n",
        "#     --test \\\n",
        "#     --model_name PIDNet_S \\\n",
        "#     --version 0 \\\n",
        "#     --model_file last_0.pt \\\n",
        "#     --target_domain Rural \\\n",
        "#     --store drive\n",
        "\n",
        "# !python3 sem_seg_da_adv.py \\\n",
        "#     --test \\\n",
        "#     --model_name PIDNet_S \\\n",
        "#     --version 0 \\\n",
        "#     --model_file best_0.pt \\\n",
        "#     --target_domain Rural \\\n",
        "#     --store drive"
      ]
    },
    {
      "cell_type": "markdown",
      "id": "adFb_pQpkTk4",
      "metadata": {
        "id": "adFb_pQpkTk4"
      },
      "source": [
        "### Version 1"
      ]
    },
    {
      "cell_type": "code",
      "execution_count": null,
      "id": "efh2O5SrkV1p",
      "metadata": {
        "id": "efh2O5SrkV1p"
      },
      "outputs": [],
      "source": [
        "# Train\n",
        "# !python3 sem_seg_da_adv.py \\\n",
        "#     --train \\\n",
        "#     --mode single_level \\\n",
        "#     --model_name PIDNet_S \\\n",
        "#     --version 1 \\\n",
        "#     --horizontal_flip_augmentation \\\n",
        "#     --shift_scale_rotate_augmentation \\\n",
        "#     --random_crop_augmentation \\\n",
        "#     --batch_size 6 \\\n",
        "#     --lr 0.001 \\\n",
        "#     --lr_D 0.0005 \\\n",
        "#     --epochs 20 \\\n",
        "#     --store drive"
      ]
    },
    {
      "cell_type": "code",
      "execution_count": null,
      "id": "fSqZ_-Wplkjb",
      "metadata": {
        "id": "fSqZ_-Wplkjb"
      },
      "outputs": [],
      "source": [
        "# Test\n",
        "# !python3 sem_seg_da_adv.py \\\n",
        "#     --test \\\n",
        "#     --model_name PIDNet_S \\\n",
        "#     --version 1 \\\n",
        "#     --model_file last_0.pt \\\n",
        "#     --target_domain Urban \\\n",
        "#     --store drive\n",
        "\n",
        "# !python3 sem_seg_da_adv.py \\\n",
        "#     --test \\\n",
        "#     --model_name PIDNet_S \\\n",
        "#     --version 1 \\\n",
        "#     --model_file best_0.pt \\\n",
        "#     --target_domain Urban \\\n",
        "#     --store drive\n",
        "\n",
        "# !python3 sem_seg_da_adv.py \\\n",
        "#     --test \\\n",
        "#     --model_name PIDNet_S \\\n",
        "#     --version 1 \\\n",
        "#     --model_file last_0.pt \\\n",
        "#     --target_domain Rural \\\n",
        "#     --store drive\n",
        "\n",
        "# !python3 sem_seg_da_adv.py \\\n",
        "#     --test \\\n",
        "#     --model_name PIDNet_S \\\n",
        "#     --version 1 \\\n",
        "#     --model_file best_0.pt \\\n",
        "#     --target_domain Rural \\\n",
        "#     --store drive"
      ]
    },
    {
      "cell_type": "markdown",
      "id": "YZb8hqpwkG_x",
      "metadata": {
        "id": "YZb8hqpwkG_x"
      },
      "source": [
        "### Version 2"
      ]
    },
    {
      "cell_type": "code",
      "execution_count": null,
      "id": "TcPXbZlokPmx",
      "metadata": {
        "id": "TcPXbZlokPmx"
      },
      "outputs": [],
      "source": [
        "# Train\n",
        "# !python3 sem_seg_da_adv.py \\\n",
        "#     --train \\\n",
        "#     --mode multi_level \\\n",
        "#     --model_name PIDNet_S \\\n",
        "#     --version 2 \\\n",
        "#     --batch_size 6 \\\n",
        "#     --lr 0.001 \\\n",
        "#     --lr_D 0.0005 \\\n",
        "#     --epochs 20 \\\n",
        "#     --store drive"
      ]
    },
    {
      "cell_type": "code",
      "execution_count": null,
      "id": "jPxRgU0Pllon",
      "metadata": {
        "id": "jPxRgU0Pllon"
      },
      "outputs": [],
      "source": [
        "# Test\n",
        "# !python3 sem_seg_da_adv.py \\\n",
        "#     --test \\\n",
        "#     --model_name PIDNet_S \\\n",
        "#     --version 2 \\\n",
        "#     --model_file last_0.pt \\\n",
        "#     --target_domain Urban \\\n",
        "#     --store drive\n",
        "\n",
        "# !python3 sem_seg_da_adv.py \\\n",
        "#     --test \\\n",
        "#     --model_name PIDNet_S \\\n",
        "#     --version 2 \\\n",
        "#     --model_file best_0.pt \\\n",
        "#     --target_domain Urban \\\n",
        "#     --store drive\n",
        "\n",
        "# !python3 sem_seg_da_adv.py \\\n",
        "#     --test \\\n",
        "#     --model_name PIDNet_S \\\n",
        "#     --version 2 \\\n",
        "#     --model_file last_0.pt \\\n",
        "#     --target_domain Rural \\\n",
        "#     --store drive\n",
        "\n",
        "# !python3 sem_seg_da_adv.py \\\n",
        "#     --test \\\n",
        "#     --model_name PIDNet_S \\\n",
        "#     --version 2 \\\n",
        "#     --model_file best_0.pt \\\n",
        "#     --target_domain Rural \\\n",
        "#     --store drive"
      ]
    },
    {
      "cell_type": "markdown",
      "id": "zYzocCgYkYXS",
      "metadata": {
        "id": "zYzocCgYkYXS"
      },
      "source": [
        "### Version 3"
      ]
    },
    {
      "cell_type": "code",
      "execution_count": null,
      "id": "Pc54O_ZzkbKp",
      "metadata": {
        "id": "Pc54O_ZzkbKp"
      },
      "outputs": [],
      "source": [
        "# Train\n",
        "# !python3 sem_seg_da_adv.py \\\n",
        "#     --train \\\n",
        "#     --mode multi_level \\\n",
        "#     --model_name PIDNet_S \\\n",
        "#     --version 3 \\\n",
        "#     --horizontal_flip_augmentation \\\n",
        "#     --shift_scale_rotate_augmentation \\\n",
        "#     --random_crop_augmentation \\\n",
        "#     --batch_size 6 \\\n",
        "#     --lr 0.001 \\\n",
        "#     --lr_D 0.0005 \\\n",
        "#     --epochs 20 \\\n",
        "#     --store drive"
      ]
    },
    {
      "cell_type": "code",
      "execution_count": null,
      "id": "1vbBX9BYlnBE",
      "metadata": {
        "id": "1vbBX9BYlnBE"
      },
      "outputs": [],
      "source": [
        "# Test\n",
        "# !python3 sem_seg_da_adv.py \\\n",
        "#     --test \\\n",
        "#     --model_name PIDNet_S \\\n",
        "#     --version 3 \\\n",
        "#     --model_file last_0.pt \\\n",
        "#     --target_domain Urban \\\n",
        "#     --store drive\n",
        "\n",
        "# !python3 sem_seg_da_adv.py \\\n",
        "#     --test \\\n",
        "#     --model_name PIDNet_S \\\n",
        "#     --version 3 \\\n",
        "#     --model_file best_0.pt \\\n",
        "#     --target_domain Urban \\\n",
        "#     --store drive\n",
        "\n",
        "# !python3 sem_seg_da_adv.py \\\n",
        "#     --test \\\n",
        "#     --model_name PIDNet_S \\\n",
        "#     --version 3 \\\n",
        "#     --model_file last_0.pt \\\n",
        "#     --target_domain Rural \\\n",
        "#     --store drive\n",
        "\n",
        "# !python3 sem_seg_da_adv.py \\\n",
        "#     --test \\\n",
        "#     --model_name PIDNet_S \\\n",
        "#     --version 3 \\\n",
        "#     --model_file best_0.pt \\\n",
        "#     --target_domain Rural \\\n",
        "#     --store drive"
      ]
    },
    {
      "cell_type": "markdown",
      "id": "cZyo34KeoLxQ",
      "metadata": {
        "id": "cZyo34KeoLxQ"
      },
      "source": [
        "## PIDNet_S_DACS"
      ]
    },
    {
      "cell_type": "markdown",
      "id": "VzOOjl14paoW",
      "metadata": {
        "id": "VzOOjl14paoW"
      },
      "source": [
        "### Version 0"
      ]
    },
    {
      "cell_type": "code",
      "execution_count": null,
      "id": "EnednNDQoMKM",
      "metadata": {
        "id": "EnednNDQoMKM"
      },
      "outputs": [],
      "source": [
        "# Train\n",
        "# !python3 sem_seg_dacs.py \\\n",
        "#     --train \\\n",
        "#     --resume \\\n",
        "#     --resume_epoch 4 \\\n",
        "#     --model_name PIDNet_S \\\n",
        "#     --version 0 \\\n",
        "#     --batch_size 6 \\\n",
        "#     --lr 0.001 \\\n",
        "#     --epochs 20 \\\n",
        "#     --store drive"
      ]
    },
    {
      "cell_type": "code",
      "execution_count": null,
      "id": "CeBe55ZNoLMS",
      "metadata": {
        "id": "CeBe55ZNoLMS"
      },
      "outputs": [],
      "source": [
        "# Test\n",
        "# !python3 sem_seg_dacs.py \\\n",
        "#     --test \\\n",
        "#     --model_name PIDNet_S \\\n",
        "#     --version 0 \\\n",
        "#     --model_file last_0.pt \\\n",
        "#     --target_domain Urban \\\n",
        "#     --store drive\n",
        "\n",
        "# !python3 sem_seg_dacs.py \\\n",
        "#     --test \\\n",
        "#     --model_name PIDNet_S \\\n",
        "#     --version 0 \\\n",
        "#     --model_file best_0.pt \\\n",
        "#     --target_domain Urban \\\n",
        "#     --store drive\n",
        "\n",
        "# !python3 sem_seg_dacs.py \\\n",
        "#     --test \\\n",
        "#     --model_name PIDNet_S \\\n",
        "#     --version 0 \\\n",
        "#     --model_file last_0.pt \\\n",
        "#     --target_domain Rural \\\n",
        "#     --store drive\n",
        "\n",
        "# !python3 sem_seg_dacs.py \\\n",
        "#     --test \\\n",
        "#     --model_name PIDNet_S \\\n",
        "#     --version 0 \\\n",
        "#     --model_file best_0.pt \\\n",
        "#     --target_domain Rural \\\n",
        "#     --store drive"
      ]
    },
    {
      "cell_type": "markdown",
      "id": "oOx2LDbKAtwj",
      "metadata": {
        "id": "oOx2LDbKAtwj"
      },
      "source": [
        "### Version 1"
      ]
    },
    {
      "cell_type": "code",
      "execution_count": null,
      "id": "hbooirsXAvsq",
      "metadata": {
        "id": "hbooirsXAvsq"
      },
      "outputs": [],
      "source": [
        "# Train\n",
        "# !python3 sem_seg_dacs.py \\\n",
        "#     --train \\\n",
        "#     --model_name PIDNet_S \\\n",
        "#     --version 1 \\\n",
        "#     --batch_size 6 \\\n",
        "#     --random_crop_augmentation \\\n",
        "#     --lr 0.001 \\\n",
        "#     --epochs 20 \\\n",
        "#     --store drive"
      ]
    },
    {
      "cell_type": "code",
      "execution_count": null,
      "id": "0SWJ1Y-YAvar",
      "metadata": {
        "id": "0SWJ1Y-YAvar"
      },
      "outputs": [],
      "source": [
        "# Test\n",
        "# !python3 sem_seg_dacs.py \\\n",
        "#     --test \\\n",
        "#     --model_name PIDNet_S \\\n",
        "#     --version 1 \\\n",
        "#     --model_file last_0.pt \\\n",
        "#     --target_domain Urban \\\n",
        "#     --store drive\n",
        "\n",
        "# !python3 sem_seg_dacs.py \\\n",
        "#     --test \\\n",
        "#     --model_name PIDNet_S \\\n",
        "#     --version 1 \\\n",
        "#     --model_file best_0.pt \\\n",
        "#     --target_domain Urban \\\n",
        "#     --store drive\n",
        "\n",
        "# !python3 sem_seg_dacs.py \\\n",
        "#     --test \\\n",
        "#     --model_name PIDNet_S \\\n",
        "#     --version 1 \\\n",
        "#     --model_file last_0.pt \\\n",
        "#     --target_domain Rural \\\n",
        "#     --store drive\n",
        "\n",
        "# !python3 sem_seg_dacs.py \\\n",
        "#     --test \\\n",
        "#     --model_name PIDNet_S \\\n",
        "#     --version 1 \\\n",
        "#     --model_file best_0.pt \\\n",
        "#     --target_domain Rural \\\n",
        "#     --store drive"
      ]
    },
    {
      "cell_type": "markdown",
      "id": "yJAoqZbzpcdR",
      "metadata": {
        "id": "yJAoqZbzpcdR"
      },
      "source": [
        "### Version 2"
      ]
    },
    {
      "cell_type": "code",
      "execution_count": null,
      "id": "D7WdvhK_peDX",
      "metadata": {
        "id": "D7WdvhK_peDX"
      },
      "outputs": [],
      "source": [
        "# Train\n",
        "# !python3 sem_seg_dacs.py \\\n",
        "#     --train \\\n",
        "#     --model_name PIDNet_S \\\n",
        "#     --version 2 \\\n",
        "#     --batch_size 6 \\\n",
        "#     --augment_mixed \\\n",
        "#     --random_crop_augmentation \\\n",
        "#     --color_jitter_augmentation \\\n",
        "#     --gaussian_blur_augmentation \\\n",
        "#     --lr 0.001 \\\n",
        "#     --epochs 20 \\\n",
        "#     --store drive"
      ]
    },
    {
      "cell_type": "code",
      "execution_count": null,
      "id": "uWl5DSfUpjpD",
      "metadata": {
        "id": "uWl5DSfUpjpD"
      },
      "outputs": [],
      "source": [
        "# Test\n",
        "# !python3 sem_seg_dacs.py \\\n",
        "#     --test \\\n",
        "#     --model_name PIDNet_S \\\n",
        "#     --version 2 \\\n",
        "#     --model_file last_0.pt \\\n",
        "#     --target_domain Urban \\\n",
        "#     --store drive\n",
        "\n",
        "# !python3 sem_seg_dacs.py \\\n",
        "#     --test \\\n",
        "#     --model_name PIDNet_S \\\n",
        "#     --version 2 \\\n",
        "#     --model_file best_0.pt \\\n",
        "#     --target_domain Urban \\\n",
        "#     --store drive\n",
        "\n",
        "# !python3 sem_seg_dacs.py \\\n",
        "#     --test \\\n",
        "#     --model_name PIDNet_S \\\n",
        "#     --version 2 \\\n",
        "#     --model_file last_0.pt \\\n",
        "#     --target_domain Rural \\\n",
        "#     --store drive\n",
        "\n",
        "# !python3 sem_seg_dacs.py \\\n",
        "#     --test \\\n",
        "#     --model_name PIDNet_S \\\n",
        "#     --version 2 \\\n",
        "#     --model_file best_0.pt \\\n",
        "#     --target_domain Rural \\\n",
        "#     --store drive"
      ]
    },
    {
      "cell_type": "markdown",
      "id": "08psIDuOw7Ns",
      "metadata": {
        "id": "08psIDuOw7Ns"
      },
      "source": [
        "### Version 3"
      ]
    },
    {
      "cell_type": "code",
      "execution_count": null,
      "id": "YVqoA7JldBwI",
      "metadata": {
        "id": "YVqoA7JldBwI"
      },
      "outputs": [],
      "source": [
        "# Train\n",
        "# !python3 sem_seg_dacs.py \\\n",
        "#     --train \\\n",
        "#     --model_name PIDNet_S \\\n",
        "#     --version 3 \\\n",
        "#     --batch_size 6 \\\n",
        "#     --augment_mixed \\\n",
        "#     --random_crop_augmentation \\\n",
        "#     --horizontal_flip_augmentation \\\n",
        "#     --shift_scale_rotate_augmentation \\\n",
        "#     --lr 0.001 \\\n",
        "#     --epochs 20 \\\n",
        "#     --store drive"
      ]
    },
    {
      "cell_type": "code",
      "execution_count": null,
      "id": "wpE6wPDgxROE",
      "metadata": {
        "id": "wpE6wPDgxROE"
      },
      "outputs": [],
      "source": [
        "# Test\n",
        "# !python3 sem_seg_dacs.py \\\n",
        "#     --test \\\n",
        "#     --model_name PIDNet_S \\\n",
        "#     --version 3 \\\n",
        "#     --model_file last_0.pt \\\n",
        "#     --target_domain Urban \\\n",
        "#     --store drive\n",
        "\n",
        "# !python3 sem_seg_dacs.py \\\n",
        "#     --test \\\n",
        "#     --model_name PIDNet_S \\\n",
        "#     --version 3 \\\n",
        "#     --model_file best_0.pt \\\n",
        "#     --target_domain Urban \\\n",
        "#     --store drive\n",
        "\n",
        "# !python3 sem_seg_dacs.py \\\n",
        "#     --test \\\n",
        "#     --model_name PIDNet_S \\\n",
        "#     --version 3 \\\n",
        "#     --model_file last_0.pt \\\n",
        "#     --target_domain Rural \\\n",
        "#     --store drive\n",
        "\n",
        "# !python3 sem_seg_dacs.py \\\n",
        "#     --test \\\n",
        "#     --model_name PIDNet_S \\\n",
        "#     --version 3 \\\n",
        "#     --model_file best_0.pt \\\n",
        "#     --target_domain Rural \\\n",
        "#     --store drive"
      ]
    },
    {
      "cell_type": "markdown",
      "id": "ddc863bc",
      "metadata": {
        "id": "ddc863bc"
      },
      "source": [
        "### Version 4"
      ]
    },
    {
      "cell_type": "code",
      "execution_count": null,
      "id": "2b22447a",
      "metadata": {
        "id": "2b22447a"
      },
      "outputs": [],
      "source": [
        "# Train\n",
        "# !python3 sem_seg_dacs.py \\\n",
        "#     --train \\\n",
        "#     --model_name PIDNet_S \\\n",
        "#     --version 4 \\\n",
        "#     --batch_size 6 \\\n",
        "#     --augment_source \\\n",
        "#     --augment_mixed \\\n",
        "#     --random_crop_augmentation \\\n",
        "#     --color_jitter_augmentation \\\n",
        "#     --gaussian_blur_augmentation \\\n",
        "#     --lr 0.001 \\\n",
        "#     --epochs 20 \\\n",
        "#     --store drive"
      ]
    },
    {
      "cell_type": "code",
      "execution_count": null,
      "id": "70405b38",
      "metadata": {
        "id": "70405b38"
      },
      "outputs": [],
      "source": [
        "# Test\n",
        "# !python3 sem_seg_dacs.py \\\n",
        "#     --test \\\n",
        "#     --model_name PIDNet_S \\\n",
        "#     --version 4 \\\n",
        "#     --model_file last_0.pt \\\n",
        "#     --target_domain Urban \\\n",
        "#     --store drive\n",
        "\n",
        "# !python3 sem_seg_dacs.py \\\n",
        "#     --test \\\n",
        "#     --model_name PIDNet_S \\\n",
        "#     --version 4 \\\n",
        "#     --model_file best_0.pt \\\n",
        "#     --target_domain Urban \\\n",
        "#     --store drive\n",
        "\n",
        "# !python3 sem_seg_dacs.py \\\n",
        "#     --test \\\n",
        "#     --model_name PIDNet_S \\\n",
        "#     --version 4 \\\n",
        "#     --model_file last_0.pt \\\n",
        "#     --target_domain Rural \\\n",
        "#     --store drive\n",
        "\n",
        "# !python3 sem_seg_dacs.py \\\n",
        "#     --test \\\n",
        "#     --model_name PIDNet_S \\\n",
        "#     --version 4 \\\n",
        "#     --model_file best_0.pt \\\n",
        "#     --target_domain Rural \\\n",
        "#     --store drive"
      ]
    },
    {
      "cell_type": "markdown",
      "id": "4f9e1c0c",
      "metadata": {
        "id": "4f9e1c0c"
      },
      "source": [
        "### Version 5"
      ]
    },
    {
      "cell_type": "code",
      "execution_count": null,
      "id": "c7a10017",
      "metadata": {
        "id": "c7a10017"
      },
      "outputs": [],
      "source": [
        "# Train\n",
        "# !python3 sem_seg_dacs.py \\\n",
        "#     --train \\\n",
        "#     --model_name PIDNet_S \\\n",
        "#     --version 5 \\\n",
        "#     --batch_size 6 \\\n",
        "#     --augment_source \\\n",
        "#     --augment_mixed \\\n",
        "#     --random_crop_augmentation \\\n",
        "#     --horizontal_flip_augmentation \\\n",
        "#     --shift_scale_rotate_augmentation \\\n",
        "#     --lr 0.001 \\\n",
        "#     --epochs 20 \\\n",
        "#     --store drive"
      ]
    },
    {
      "cell_type": "code",
      "execution_count": null,
      "id": "6029cd1b",
      "metadata": {
        "id": "6029cd1b"
      },
      "outputs": [],
      "source": [
        "# Test\n",
        "# !python3 sem_seg_dacs.py \\\n",
        "#     --test \\\n",
        "#     --model_name PIDNet_S \\\n",
        "#     --version 5 \\\n",
        "#     --model_file last_0.pt \\\n",
        "#     --target_domain Urban \\\n",
        "#     --store drive\n",
        "\n",
        "# !python3 sem_seg_dacs.py \\\n",
        "#     --test \\\n",
        "#     --model_name PIDNet_S \\\n",
        "#     --version 5 \\\n",
        "#     --model_file best_0.pt \\\n",
        "#     --target_domain Urban \\\n",
        "#     --store drive\n",
        "\n",
        "# !python3 sem_seg_dacs.py \\\n",
        "#     --test \\\n",
        "#     --model_name PIDNet_S \\\n",
        "#     --version 5 \\\n",
        "#     --model_file last_0.pt \\\n",
        "#     --target_domain Rural \\\n",
        "#     --store drive\n",
        "\n",
        "# !python3 sem_seg_dacs.py \\\n",
        "#     --test \\\n",
        "#     --model_name PIDNet_S \\\n",
        "#     --version 5 \\\n",
        "#     --model_file best_0.pt \\\n",
        "#     --target_domain Rural \\\n",
        "#     --store drive"
      ]
    },
    {
      "cell_type": "markdown",
      "id": "d7b49803",
      "metadata": {
        "id": "d7b49803"
      },
      "source": [
        "### Version X"
      ]
    },
    {
      "cell_type": "code",
      "execution_count": null,
      "id": "09715c62",
      "metadata": {
        "id": "09715c62"
      },
      "outputs": [],
      "source": [
        "# Train\n",
        "# !python3 sem_seg_dacs.py \\\n",
        "#     --train \\\n",
        "#     --model_name PIDNet_S \\\n",
        "#     --version X \\\n",
        "#     --batch_size 6 \\\n",
        "#     --augment_mixed \\\n",
        "#     --random_crop_augmentation \\\n",
        "#     --horizontal_flip_augmentation \\\n",
        "#     --shift_scale_rotate_augmentation \\\n",
        "#     --lr 0.0001 \\\n",
        "#     --epochs 200 \\\n",
        "#     --store drive"
      ]
    },
    {
      "cell_type": "code",
      "execution_count": null,
      "id": "7743fdf0",
      "metadata": {
        "id": "7743fdf0"
      },
      "outputs": [],
      "source": [
        "# Test\n",
        "# !python3 sem_seg_dacs.py \\\n",
        "#     --test \\\n",
        "#     --model_name PIDNet_S \\\n",
        "#     --version X \\\n",
        "#     --model_file last_0.pt \\\n",
        "#     --target_domain Urban \\\n",
        "#     --store drive\n",
        "\n",
        "# !python3 sem_seg_dacs.py \\\n",
        "#     --test \\\n",
        "#     --model_name PIDNet_S \\\n",
        "#     --version X \\\n",
        "#     --model_file best_0.pt \\\n",
        "#     --target_domain Urban \\\n",
        "#     --store drive\n",
        "\n",
        "# !python3 sem_seg_dacs.py \\\n",
        "#     --test \\\n",
        "#     --model_name PIDNet_S \\\n",
        "#     --version X \\\n",
        "#     --model_file last_0.pt \\\n",
        "#     --target_domain Rural \\\n",
        "#     --store drive\n",
        "\n",
        "# !python3 sem_seg_dacs.py \\\n",
        "#     --test \\\n",
        "#     --model_name PIDNet_S \\\n",
        "#     --version X \\\n",
        "#     --model_file best_0.pt \\\n",
        "#     --target_domain Rural \\\n",
        "#     --store drive"
      ]
    },
    {
      "cell_type": "markdown",
      "id": "c8aa59b8",
      "metadata": {
        "id": "c8aa59b8"
      },
      "source": [
        "## PIDNet_S_DACS_GCW_LDQ"
      ]
    },
    {
      "cell_type": "markdown",
      "id": "d4f4140a",
      "metadata": {
        "id": "d4f4140a"
      },
      "source": [
        "### Version 0"
      ]
    },
    {
      "cell_type": "code",
      "execution_count": null,
      "id": "77ec5f63",
      "metadata": {
        "id": "77ec5f63"
      },
      "outputs": [],
      "source": [
        "# Train\n",
        "# !python3 sem_seg_dacs_gcw_ldq.py \\\n",
        "#     --train \\\n",
        "#     --gcw \\\n",
        "#     --model_name PIDNet_S \\\n",
        "#     --version 0 \\\n",
        "#     --batch_size 6 \\\n",
        "#     --random_crop_augmentation \\\n",
        "#     --lr 0.001 \\\n",
        "#     --epochs 20 \\\n",
        "#     --store drive"
      ]
    },
    {
      "cell_type": "code",
      "execution_count": null,
      "id": "1f5acd42",
      "metadata": {
        "id": "1f5acd42"
      },
      "outputs": [],
      "source": [
        "# Test\n",
        "# !python3 sem_seg_dacs_gcw_ldq.py \\\n",
        "#     --test \\\n",
        "#     --model_name PIDNet_S \\\n",
        "#     --version 0 \\\n",
        "#     --model_file last_0.pt \\\n",
        "#     --target_domain Urban \\\n",
        "#     --store drive\n",
        "\n",
        "# !python3 sem_seg_dacs_gcw_ldq.py \\\n",
        "#     --test \\\n",
        "#     --model_name PIDNet_S \\\n",
        "#     --version 0 \\\n",
        "#     --model_file best_0.pt \\\n",
        "#     --target_domain Urban \\\n",
        "#     --store drive\n",
        "\n",
        "# !python3 sem_seg_dacs_gcw_ldq.py \\\n",
        "#     --test \\\n",
        "#     --model_name PIDNet_S \\\n",
        "#     --version 0 \\\n",
        "#     --model_file last_0.pt \\\n",
        "#     --target_domain Rural \\\n",
        "#     --store drive\n",
        "\n",
        "# !python3 sem_seg_dacs_gcw_ldq.py \\\n",
        "#     --test \\\n",
        "#     --model_name PIDNet_S \\\n",
        "#     --version 0 \\\n",
        "#     --model_file best_0.pt \\\n",
        "#     --target_domain Rural \\\n",
        "#     --store drive"
      ]
    },
    {
      "cell_type": "markdown",
      "id": "b5d8c756",
      "metadata": {
        "id": "b5d8c756"
      },
      "source": [
        "### Version 1"
      ]
    },
    {
      "cell_type": "code",
      "execution_count": null,
      "id": "ebda5ac4",
      "metadata": {
        "id": "ebda5ac4"
      },
      "outputs": [],
      "source": [
        "# Train\n",
        "# !python3 sem_seg_dacs_gcw_ldq.py \\\n",
        "#     --train \\\n",
        "#     --ldq \\\n",
        "#     --model_name PIDNet_S \\\n",
        "#     --version 1 \\\n",
        "#     --batch_size 6 \\\n",
        "#     --random_crop_augmentation \\\n",
        "#     --lr 0.001 \\\n",
        "#     --epochs 20 \\\n",
        "#     --store drive"
      ]
    },
    {
      "cell_type": "code",
      "execution_count": null,
      "id": "f4761929",
      "metadata": {
        "id": "f4761929"
      },
      "outputs": [],
      "source": [
        "# Test\n",
        "# !python3 sem_seg_dacs_gcw_ldq.py \\\n",
        "#     --test \\\n",
        "#     --model_name PIDNet_S \\\n",
        "#     --version 1 \\\n",
        "#     --model_file last_0.pt \\\n",
        "#     --target_domain Urban \\\n",
        "#     --store drive\n",
        "\n",
        "# !python3 sem_seg_dacs_gcw_ldq.py \\\n",
        "#     --test \\\n",
        "#     --model_name PIDNet_S \\\n",
        "#     --version 1 \\\n",
        "#     --model_file best_0.pt \\\n",
        "#     --target_domain Urban \\\n",
        "#     --store drive\n",
        "\n",
        "# !python3 sem_seg_dacs_gcw_ldq.py \\\n",
        "#     --test \\\n",
        "#     --model_name PIDNet_S \\\n",
        "#     --version 1 \\\n",
        "#     --model_file last_0.pt \\\n",
        "#     --target_domain Rural \\\n",
        "#     --store drive\n",
        "\n",
        "# !python3 sem_seg_dacs_gcw_ldq.py \\\n",
        "#     --test \\\n",
        "#     --model_name PIDNet_S \\\n",
        "#     --version 1 \\\n",
        "#     --model_file best_0.pt \\\n",
        "#     --target_domain Rural \\\n",
        "#     --store drive"
      ]
    },
    {
      "cell_type": "markdown",
      "id": "eccda843",
      "metadata": {
        "id": "eccda843"
      },
      "source": [
        "### Version 2"
      ]
    },
    {
      "cell_type": "code",
      "execution_count": null,
      "id": "89159a73",
      "metadata": {
        "id": "89159a73"
      },
      "outputs": [],
      "source": [
        "# Train\n",
        "# !python3 sem_seg_dacs_gcw_ldq.py \\\n",
        "#     --train \\\n",
        "#     --gcw \\\n",
        "#     --ldq \\\n",
        "#     --model_name PIDNet_S \\\n",
        "#     --version 2 \\\n",
        "#     --batch_size 6 \\\n",
        "#     --random_crop_augmentation \\\n",
        "#     --lr 0.001 \\\n",
        "#     --epochs 20 \\\n",
        "#     --store drive"
      ]
    },
    {
      "cell_type": "code",
      "execution_count": null,
      "id": "2ad6760f",
      "metadata": {
        "id": "2ad6760f"
      },
      "outputs": [],
      "source": [
        "# Test\n",
        "# !python3 sem_seg_dacs_gcw_ldq.py \\\n",
        "#     --test \\\n",
        "#     --model_name PIDNet_S \\\n",
        "#     --version 2 \\\n",
        "#     --model_file last_0.pt \\\n",
        "#     --target_domain Urban \\\n",
        "#     --store drive\n",
        "\n",
        "# !python3 sem_seg_dacs_gcw_ldq.py \\\n",
        "#     --test \\\n",
        "#     --model_name PIDNet_S \\\n",
        "#     --version 2 \\\n",
        "#     --model_file best_0.pt \\\n",
        "#     --target_domain Urban \\\n",
        "#     --store drive\n",
        "\n",
        "# !python3 sem_seg_dacs_gcw_ldq.py \\\n",
        "#     --test \\\n",
        "#     --model_name PIDNet_S \\\n",
        "#     --version 2 \\\n",
        "#     --model_file last_0.pt \\\n",
        "#     --target_domain Rural \\\n",
        "#     --store drive\n",
        "\n",
        "# !python3 sem_seg_dacs_gcw_ldq.py \\\n",
        "#     --test \\\n",
        "#     --model_name PIDNet_S \\\n",
        "#     --version 2 \\\n",
        "#     --model_file best_0.pt \\\n",
        "#     --target_domain Rural \\\n",
        "#     --store drive"
      ]
    },
    {
      "cell_type": "markdown",
      "id": "431c4709",
      "metadata": {
        "id": "431c4709"
      },
      "source": [
        "### Version 3"
      ]
    },
    {
      "cell_type": "code",
      "execution_count": null,
      "id": "0c4e3ee8",
      "metadata": {
        "id": "0c4e3ee8"
      },
      "outputs": [],
      "source": [
        "# Train\n",
        "# !python3 sem_seg_dacs_gcw_ldq.py \\\n",
        "#     --train \\\n",
        "#     --gcw \\\n",
        "#     --model_name PIDNet_S \\\n",
        "#     --version 3 \\\n",
        "#     --batch_size 6 \\\n",
        "#     --augment_mixed \\\n",
        "#     --random_crop_augmentation \\\n",
        "#     --horizontal_flip_augmentation \\\n",
        "#     --shift_scale_rotate_augmentation \\\n",
        "#     --lr 0.001 \\\n",
        "#     --epochs 20 \\\n",
        "#     --store drive"
      ]
    },
    {
      "cell_type": "code",
      "execution_count": null,
      "id": "128446a5",
      "metadata": {
        "id": "128446a5"
      },
      "outputs": [],
      "source": [
        "# Test\n",
        "# !python3 sem_seg_dacs_gcw_ldq.py \\\n",
        "#     --test \\\n",
        "#     --model_name PIDNet_S \\\n",
        "#     --version 3 \\\n",
        "#     --model_file last_0.pt \\\n",
        "#     --target_domain Urban \\\n",
        "#     --store drive\n",
        "\n",
        "# !python3 sem_seg_dacs_gcw_ldq.py \\\n",
        "#     --test \\\n",
        "#     --model_name PIDNet_S \\\n",
        "#     --version 3 \\\n",
        "#     --model_file best_0.pt \\\n",
        "#     --target_domain Urban \\\n",
        "#     --store drive\n",
        "\n",
        "# !python3 sem_seg_dacs_gcw_ldq.py \\\n",
        "#     --test \\\n",
        "#     --model_name PIDNet_S \\\n",
        "#     --version 3 \\\n",
        "#     --model_file last_0.pt \\\n",
        "#     --target_domain Rural \\\n",
        "#     --store drive\n",
        "\n",
        "# !python3 sem_seg_dacs_gcw_ldq.py \\\n",
        "#     --test \\\n",
        "#     --model_name PIDNet_S \\\n",
        "#     --version 3 \\\n",
        "#     --model_file best_0.pt \\\n",
        "#     --target_domain Rural \\\n",
        "#     --store drive"
      ]
    },
    {
      "cell_type": "markdown",
      "id": "a65431e1",
      "metadata": {
        "id": "a65431e1"
      },
      "source": [
        "### Version 4"
      ]
    },
    {
      "cell_type": "code",
      "execution_count": null,
      "id": "42238c1f",
      "metadata": {
        "id": "42238c1f"
      },
      "outputs": [],
      "source": [
        "# Train\n",
        "# !python3 sem_seg_dacs_gcw_ldq.py \\\n",
        "#     --train \\\n",
        "#     --ldq \\\n",
        "#     --model_name PIDNet_S \\\n",
        "#     --version 4 \\\n",
        "#     --batch_size 6 \\\n",
        "#     --augment_mixed \\\n",
        "#     --random_crop_augmentation \\\n",
        "#     --horizontal_flip_augmentation \\\n",
        "#     --shift_scale_rotate_augmentation \\\n",
        "#     --lr 0.001 \\\n",
        "#     --epochs 20 \\\n",
        "#     --store drive"
      ]
    },
    {
      "cell_type": "code",
      "execution_count": null,
      "id": "f4bf7015",
      "metadata": {
        "id": "f4bf7015"
      },
      "outputs": [],
      "source": [
        "# Test\n",
        "# !python3 sem_seg_dacs_gcw_ldq.py \\\n",
        "#     --test \\\n",
        "#     --model_name PIDNet_S \\\n",
        "#     --version 4 \\\n",
        "#     --model_file last_0.pt \\\n",
        "#     --target_domain Urban \\\n",
        "#     --store drive\n",
        "\n",
        "# !python3 sem_seg_dacs_gcw_ldq.py \\\n",
        "#     --test \\\n",
        "#     --model_name PIDNet_S \\\n",
        "#     --version 4 \\\n",
        "#     --model_file best_0.pt \\\n",
        "#     --target_domain Urban \\\n",
        "#     --store drive\n",
        "\n",
        "# !python3 sem_seg_dacs_gcw_ldq.py \\\n",
        "#     --test \\\n",
        "#     --model_name PIDNet_S \\\n",
        "#     --version 4 \\\n",
        "#     --model_file last_0.pt \\\n",
        "#     --target_domain Rural \\\n",
        "#     --store drive\n",
        "\n",
        "# !python3 sem_seg_dacs_gcw_ldq.py \\\n",
        "#     --test \\\n",
        "#     --model_name PIDNet_S \\\n",
        "#     --version 4 \\\n",
        "#     --model_file best_0.pt \\\n",
        "#     --target_domain Rural \\\n",
        "#     --store drive"
      ]
    },
    {
      "cell_type": "markdown",
      "id": "f6fa569b",
      "metadata": {
        "id": "f6fa569b"
      },
      "source": [
        "### Version 5"
      ]
    },
    {
      "cell_type": "code",
      "execution_count": null,
      "id": "73d5355c",
      "metadata": {
        "id": "73d5355c"
      },
      "outputs": [],
      "source": [
        "# Train\n",
        "# !python3 sem_seg_dacs_gcw_ldq.py \\\n",
        "#     --train \\\n",
        "#     --gcw \\\n",
        "#     --ldq \\\n",
        "#     --model_name PIDNet_S \\\n",
        "#     --version 5 \\\n",
        "#     --batch_size 6 \\\n",
        "#     --augment_mixed \\\n",
        "#     --random_crop_augmentation \\\n",
        "#     --horizontal_flip_augmentation \\\n",
        "#     --shift_scale_rotate_augmentation \\\n",
        "#     --lr 0.001 \\\n",
        "#     --epochs 20 \\\n",
        "#     --store drive"
      ]
    },
    {
      "cell_type": "code",
      "execution_count": null,
      "id": "9ae2e988",
      "metadata": {
        "id": "9ae2e988"
      },
      "outputs": [],
      "source": [
        "# Test\n",
        "# !python3 sem_seg_dacs_gcw_ldq.py \\\n",
        "#     --test \\\n",
        "#     --model_name PIDNet_S \\\n",
        "#     --version 5 \\\n",
        "#     --model_file last_0.pt \\\n",
        "#     --target_domain Urban \\\n",
        "#     --store drive\n",
        "\n",
        "# !python3 sem_seg_dacs_gcw_ldq.py \\\n",
        "#     --test \\\n",
        "#     --model_name PIDNet_S \\\n",
        "#     --version 5 \\\n",
        "#     --model_file best_0.pt \\\n",
        "#     --target_domain Urban \\\n",
        "#     --store drive\n",
        "\n",
        "# !python3 sem_seg_dacs_gcw_ldq.py \\\n",
        "#     --test \\\n",
        "#     --model_name PIDNet_S \\\n",
        "#     --version 5 \\\n",
        "#     --model_file last_0.pt \\\n",
        "#     --target_domain Rural \\\n",
        "#     --store drive\n",
        "\n",
        "# !python3 sem_seg_dacs_gcw_ldq.py \\\n",
        "#     --test \\\n",
        "#     --model_name PIDNet_S \\\n",
        "#     --version 5 \\\n",
        "#     --model_file best_0.pt \\\n",
        "#     --target_domain Rural \\\n",
        "#     --store drive"
      ]
    },
    {
      "cell_type": "markdown",
      "id": "0zMI5ahVAfZ3",
      "metadata": {
        "id": "0zMI5ahVAfZ3"
      },
      "source": [
        "### Version 6"
      ]
    },
    {
      "cell_type": "code",
      "execution_count": null,
      "id": "wkH7gIhUAnwc",
      "metadata": {
        "id": "wkH7gIhUAnwc"
      },
      "outputs": [],
      "source": [
        "# Train\n",
        "# !python3 sem_seg_dacs_gcw_ldq.py \\\n",
        "#     --train \\\n",
        "#     --gcw \\\n",
        "#     --temperature 0.3 \\\n",
        "#     --model_name PIDNet_S \\\n",
        "#     --version 6 \\\n",
        "#     --batch_size 6 \\\n",
        "#     --augment_mixed \\\n",
        "#     --random_crop_augmentation \\\n",
        "#     --horizontal_flip_augmentation \\\n",
        "#     --shift_scale_rotate_augmentation \\\n",
        "#     --lr 0.001 \\\n",
        "#     --epochs 20 \\\n",
        "#     --store drive"
      ]
    },
    {
      "cell_type": "code",
      "execution_count": null,
      "id": "BTj3SNJEBDIU",
      "metadata": {
        "id": "BTj3SNJEBDIU"
      },
      "outputs": [],
      "source": [
        "# Test\n",
        "# !python3 sem_seg_dacs_gcw_ldq.py \\\n",
        "#     --test \\\n",
        "#     --model_name PIDNet_S \\\n",
        "#     --version 6 \\\n",
        "#     --model_file last_0.pt \\\n",
        "#     --target_domain Urban \\\n",
        "#     --store drive\n",
        "\n",
        "# !python3 sem_seg_dacs_gcw_ldq.py \\\n",
        "#     --test \\\n",
        "#     --model_name PIDNet_S \\\n",
        "#     --version 6 \\\n",
        "#     --model_file best_0.pt \\\n",
        "#     --target_domain Urban \\\n",
        "#     --store drive\n",
        "\n",
        "# !python3 sem_seg_dacs_gcw_ldq.py \\\n",
        "#     --test \\\n",
        "#     --model_name PIDNet_S \\\n",
        "#     --version 6 \\\n",
        "#     --model_file last_0.pt \\\n",
        "#     --target_domain Rural \\\n",
        "#     --store drive\n",
        "\n",
        "# !python3 sem_seg_dacs_gcw_ldq.py \\\n",
        "#     --test \\\n",
        "#     --model_name PIDNet_S \\\n",
        "#     --version 6 \\\n",
        "#     --model_file best_0.pt \\\n",
        "#     --target_domain Rural \\\n",
        "#     --store drive"
      ]
    },
    {
      "cell_type": "markdown",
      "id": "K-CCjaYaAiIz",
      "metadata": {
        "id": "K-CCjaYaAiIz"
      },
      "source": [
        "### Version 7"
      ]
    },
    {
      "cell_type": "code",
      "execution_count": null,
      "id": "Ms9CYthmAxAJ",
      "metadata": {
        "id": "Ms9CYthmAxAJ"
      },
      "outputs": [],
      "source": [
        "# Train\n",
        "# !python3 sem_seg_dacs_gcw_ldq.py \\\n",
        "#     --train \\\n",
        "#     --gcw \\\n",
        "#     --temperature 0.6 \\\n",
        "#     --model_name PIDNet_S \\\n",
        "#     --version 7 \\\n",
        "#     --batch_size 6 \\\n",
        "#     --augment_mixed \\\n",
        "#     --random_crop_augmentation \\\n",
        "#     --horizontal_flip_augmentation \\\n",
        "#     --shift_scale_rotate_augmentation \\\n",
        "#     --lr 0.001 \\\n",
        "#     --epochs 20 \\\n",
        "#     --store drive"
      ]
    },
    {
      "cell_type": "code",
      "execution_count": null,
      "id": "N72cqVSKA9o8",
      "metadata": {
        "id": "N72cqVSKA9o8"
      },
      "outputs": [],
      "source": [
        "# Test\n",
        "# !python3 sem_seg_dacs_gcw_ldq.py \\\n",
        "#     --test \\\n",
        "#     --model_name PIDNet_S \\\n",
        "#     --version 7 \\\n",
        "#     --model_file last_0.pt \\\n",
        "#     --target_domain Urban \\\n",
        "#     --store drive\n",
        "\n",
        "# !python3 sem_seg_dacs_gcw_ldq.py \\\n",
        "#     --test \\\n",
        "#     --model_name PIDNet_S \\\n",
        "#     --version 7 \\\n",
        "#     --model_file best_0.pt \\\n",
        "#     --target_domain Urban \\\n",
        "#     --store drive\n",
        "\n",
        "# !python3 sem_seg_dacs_gcw_ldq.py \\\n",
        "#     --test \\\n",
        "#     --model_name PIDNet_S \\\n",
        "#     --version 7 \\\n",
        "#     --model_file last_0.pt \\\n",
        "#     --target_domain Rural \\\n",
        "#     --store drive\n",
        "\n",
        "# !python3 sem_seg_dacs_gcw_ldq.py \\\n",
        "#     --test \\\n",
        "#     --model_name PIDNet_S \\\n",
        "#     --version 7 \\\n",
        "#     --model_file best_0.pt \\\n",
        "#     --target_domain Rural \\\n",
        "#     --store drive"
      ]
    },
    {
      "cell_type": "markdown",
      "id": "JnPg8H3GAlm_",
      "metadata": {
        "id": "JnPg8H3GAlm_"
      },
      "source": [
        "### Version 8"
      ]
    },
    {
      "cell_type": "code",
      "execution_count": null,
      "id": "rvz5KeNbAj4m",
      "metadata": {
        "id": "rvz5KeNbAj4m"
      },
      "outputs": [],
      "source": [
        "# Train\n",
        "# !python3 sem_seg_dacs_gcw_ldq.py \\\n",
        "#     --train \\\n",
        "#     --gcw \\\n",
        "#     --temperature 0.9 \\\n",
        "#     --model_name PIDNet_S \\\n",
        "#     --version 8 \\\n",
        "#     --batch_size 6 \\\n",
        "#     --augment_mixed \\\n",
        "#     --random_crop_augmentation \\\n",
        "#     --horizontal_flip_augmentation \\\n",
        "#     --shift_scale_rotate_augmentation \\\n",
        "#     --lr 0.001 \\\n",
        "#     --epochs 20 \\\n",
        "#     --store drive"
      ]
    },
    {
      "cell_type": "code",
      "execution_count": null,
      "id": "4iIVurnlA_pc",
      "metadata": {
        "id": "4iIVurnlA_pc"
      },
      "outputs": [],
      "source": [
        "# Test\n",
        "# !python3 sem_seg_dacs_gcw_ldq.py \\\n",
        "#     --test \\\n",
        "#     --model_name PIDNet_S \\\n",
        "#     --version 8 \\\n",
        "#     --model_file last_0.pt \\\n",
        "#     --target_domain Urban \\\n",
        "#     --store drive\n",
        "\n",
        "# !python3 sem_seg_dacs_gcw_ldq.py \\\n",
        "#     --test \\\n",
        "#     --model_name PIDNet_S \\\n",
        "#     --version 8 \\\n",
        "#     --model_file best_0.pt \\\n",
        "#     --target_domain Urban \\\n",
        "#     --store drive\n",
        "\n",
        "# !python3 sem_seg_dacs_gcw_ldq.py \\\n",
        "#     --test \\\n",
        "#     --model_name PIDNet_S \\\n",
        "#     --version 8 \\\n",
        "#     --model_file last_0.pt \\\n",
        "#     --target_domain Rural \\\n",
        "#     --store drive\n",
        "\n",
        "# !python3 sem_seg_dacs_gcw_ldq.py \\\n",
        "#     --test \\\n",
        "#     --model_name PIDNet_S \\\n",
        "#     --version 8 \\\n",
        "#     --model_file best_0.pt \\\n",
        "#     --target_domain Rural \\\n",
        "#     --store drive"
      ]
    },
    {
      "cell_type": "markdown",
      "id": "vonkU8-cBiGx",
      "metadata": {
        "id": "vonkU8-cBiGx"
      },
      "source": [
        "### Version 9"
      ]
    },
    {
      "cell_type": "code",
      "execution_count": null,
      "id": "FAk7HXWjBn0g",
      "metadata": {
        "id": "FAk7HXWjBn0g"
      },
      "outputs": [],
      "source": [
        "# Train\n",
        "# !python3 sem_seg_dacs_gcw_ldq.py \\\n",
        "#     --train \\\n",
        "#     --gcw \\\n",
        "#     --temperature 0.3 \\\n",
        "#     --beta 0.99 \\\n",
        "#     --model_name PIDNet_S \\\n",
        "#     --version 9 \\\n",
        "#     --batch_size 6 \\\n",
        "#     --augment_mixed \\\n",
        "#     --random_crop_augmentation \\\n",
        "#     --horizontal_flip_augmentation \\\n",
        "#     --shift_scale_rotate_augmentation \\\n",
        "#     --lr 0.001 \\\n",
        "#     --epochs 20 \\\n",
        "#     --store drive"
      ]
    },
    {
      "cell_type": "code",
      "execution_count": null,
      "id": "m7a7uozMB4gJ",
      "metadata": {
        "id": "m7a7uozMB4gJ"
      },
      "outputs": [],
      "source": [
        "# Test\n",
        "# !python3 sem_seg_dacs_gcw_ldq.py \\\n",
        "#     --test \\\n",
        "#     --model_name PIDNet_S \\\n",
        "#     --version 9 \\\n",
        "#     --model_file last_0.pt \\\n",
        "#     --target_domain Urban \\\n",
        "#     --store drive\n",
        "\n",
        "# !python3 sem_seg_dacs_gcw_ldq.py \\\n",
        "#     --test \\\n",
        "#     --model_name PIDNet_S \\\n",
        "#     --version 9 \\\n",
        "#     --model_file best_0.pt \\\n",
        "#     --target_domain Urban \\\n",
        "#     --store drive\n",
        "\n",
        "# !python3 sem_seg_dacs_gcw_ldq.py \\\n",
        "#     --test \\\n",
        "#     --model_name PIDNet_S \\\n",
        "#     --version 9 \\\n",
        "#     --model_file last_0.pt \\\n",
        "#     --target_domain Rural \\\n",
        "#     --store drive\n",
        "\n",
        "# !python3 sem_seg_dacs_gcw_ldq.py \\\n",
        "#     --test \\\n",
        "#     --model_name PIDNet_S \\\n",
        "#     --version 9 \\\n",
        "#     --model_file best_0.pt \\\n",
        "#     --target_domain Rural \\\n",
        "#     --store drive"
      ]
    },
    {
      "cell_type": "markdown",
      "id": "rWC9oKoqBjzJ",
      "metadata": {
        "id": "rWC9oKoqBjzJ"
      },
      "source": [
        "### Version 10"
      ]
    },
    {
      "cell_type": "code",
      "execution_count": null,
      "id": "RUypU0kSBsqu",
      "metadata": {
        "id": "RUypU0kSBsqu"
      },
      "outputs": [],
      "source": [
        "# Train\n",
        "# !python3 sem_seg_dacs_gcw_ldq.py \\\n",
        "#     --train \\\n",
        "#     --gcw \\\n",
        "#     --temperature 0.6 \\\n",
        "#     --beta 0.99 \\\n",
        "#     --model_name PIDNet_S \\\n",
        "#     --version 10 \\\n",
        "#     --batch_size 6 \\\n",
        "#     --augment_mixed \\\n",
        "#     --random_crop_augmentation \\\n",
        "#     --horizontal_flip_augmentation \\\n",
        "#     --shift_scale_rotate_augmentation \\\n",
        "#     --lr 0.001 \\\n",
        "#     --epochs 20 \\\n",
        "#     --store drive"
      ]
    },
    {
      "cell_type": "code",
      "execution_count": null,
      "id": "lp8nyG1uB9K2",
      "metadata": {
        "id": "lp8nyG1uB9K2"
      },
      "outputs": [],
      "source": [
        "# Test\n",
        "# !python3 sem_seg_dacs_gcw_ldq.py \\\n",
        "#     --test \\\n",
        "#     --model_name PIDNet_S \\\n",
        "#     --version 10 \\\n",
        "#     --model_file last_0.pt \\\n",
        "#     --target_domain Urban \\\n",
        "#     --store drive\n",
        "\n",
        "# !python3 sem_seg_dacs_gcw_ldq.py \\\n",
        "#     --test \\\n",
        "#     --model_name PIDNet_S \\\n",
        "#     --version 10 \\\n",
        "#     --model_file best_0.pt \\\n",
        "#     --target_domain Urban \\\n",
        "#     --store drive\n",
        "\n",
        "# !python3 sem_seg_dacs_gcw_ldq.py \\\n",
        "#     --test \\\n",
        "#     --model_name PIDNet_S \\\n",
        "#     --version 10 \\\n",
        "#     --model_file last_0.pt \\\n",
        "#     --target_domain Rural \\\n",
        "#     --store drive\n",
        "\n",
        "# !python3 sem_seg_dacs_gcw_ldq.py \\\n",
        "#     --test \\\n",
        "#     --model_name PIDNet_S \\\n",
        "#     --version 10 \\\n",
        "#     --model_file best_0.pt \\\n",
        "#     --target_domain Rural \\\n",
        "#     --store drive"
      ]
    },
    {
      "cell_type": "markdown",
      "id": "rbCJ97WmBmLC",
      "metadata": {
        "id": "rbCJ97WmBmLC"
      },
      "source": [
        "### Version 11"
      ]
    },
    {
      "cell_type": "code",
      "execution_count": null,
      "id": "H_YfGXn0Bz6r",
      "metadata": {
        "id": "H_YfGXn0Bz6r"
      },
      "outputs": [],
      "source": [
        "# Train\n",
        "# !python3 sem_seg_dacs_gcw_ldq.py \\\n",
        "#     --train \\\n",
        "#     --gcw \\\n",
        "#     --temperature 0.9 \\\n",
        "#     --beta 0.99 \\\n",
        "#     --model_name PIDNet_S \\\n",
        "#     --version 11 \\\n",
        "#     --batch_size 6 \\\n",
        "#     --augment_mixed \\\n",
        "#     --random_crop_augmentation \\\n",
        "#     --horizontal_flip_augmentation \\\n",
        "#     --shift_scale_rotate_augmentation \\\n",
        "#     --lr 0.001 \\\n",
        "#     --epochs 20 \\\n",
        "#     --store drive"
      ]
    },
    {
      "cell_type": "code",
      "execution_count": null,
      "id": "02lbBb6oCCa8",
      "metadata": {
        "id": "02lbBb6oCCa8"
      },
      "outputs": [],
      "source": [
        "# Test\n",
        "# !python3 sem_seg_dacs_gcw_ldq.py \\\n",
        "#     --test \\\n",
        "#     --model_name PIDNet_S \\\n",
        "#     --version 11 \\\n",
        "#     --model_file last_0.pt \\\n",
        "#     --target_domain Urban \\\n",
        "#     --store drive\n",
        "\n",
        "# !python3 sem_seg_dacs_gcw_ldq.py \\\n",
        "#     --test \\\n",
        "#     --model_name PIDNet_S \\\n",
        "#     --version 11 \\\n",
        "#     --model_file best_0.pt \\\n",
        "#     --target_domain Urban \\\n",
        "#     --store drive\n",
        "\n",
        "# !python3 sem_seg_dacs_gcw_ldq.py \\\n",
        "#     --test \\\n",
        "#     --model_name PIDNet_S \\\n",
        "#     --version 11 \\\n",
        "#     --model_file last_0.pt \\\n",
        "#     --target_domain Rural \\\n",
        "#     --store drive\n",
        "\n",
        "# !python3 sem_seg_dacs_gcw_ldq.py \\\n",
        "#     --test \\\n",
        "#     --model_name PIDNet_S \\\n",
        "#     --version 11 \\\n",
        "#     --model_file best_0.pt \\\n",
        "#     --target_domain Rural \\\n",
        "#     --store drive"
      ]
    },
    {
      "cell_type": "markdown",
      "id": "06499520",
      "metadata": {
        "id": "06499520"
      },
      "source": [
        "### Version X"
      ]
    },
    {
      "cell_type": "code",
      "execution_count": null,
      "id": "237ef991",
      "metadata": {
        "id": "237ef991"
      },
      "outputs": [],
      "source": [
        "# Train\n",
        "# !python3 sem_seg_dacs_gcw_ldq.py \\\n",
        "#     --train \\\n",
        "#     --resume \\\n",
        "#     --resume_epoch 151 \\\n",
        "#     --gcw \\\n",
        "#     --ldq \\\n",
        "#     --model_name PIDNet_S \\\n",
        "#     --version X \\\n",
        "#     --batch_size 6 \\\n",
        "#     --augment_mixed \\\n",
        "#     --random_crop_augmentation \\\n",
        "#     --horizontal_flip_augmentation \\\n",
        "#     --shift_scale_rotate_augmentation \\\n",
        "#     --lr 0.0001 \\\n",
        "#     --epochs 200 \\\n",
        "#     --store drive"
      ]
    },
    {
      "cell_type": "code",
      "execution_count": null,
      "id": "9a5ef413",
      "metadata": {
        "id": "9a5ef413"
      },
      "outputs": [],
      "source": [
        "# Test\n",
        "# !python3 sem_seg_dacs_gcw_ldq.py \\\n",
        "#     --test \\\n",
        "#     --model_name PIDNet_S \\\n",
        "#     --version X \\\n",
        "#     --model_file last_0.pt \\\n",
        "#     --target_domain Urban \\\n",
        "#     --store drive\n",
        "\n",
        "# !python3 sem_seg_dacs_gcw_ldq.py \\\n",
        "#     --test \\\n",
        "#     --model_name PIDNet_S \\\n",
        "#     --version X \\\n",
        "#     --model_file best_0.pt \\\n",
        "#     --target_domain Urban \\\n",
        "#     --store drive\n",
        "\n",
        "# !python3 sem_seg_dacs_gcw_ldq.py \\\n",
        "#     --test \\\n",
        "#     --model_name PIDNet_S \\\n",
        "#     --version X \\\n",
        "#     --model_file last_0.pt \\\n",
        "#     --target_domain Rural \\\n",
        "#     --store drive\n",
        "\n",
        "# !python3 sem_seg_dacs_gcw_ldq.py \\\n",
        "#     --test \\\n",
        "#     --model_name PIDNet_S \\\n",
        "#     --version X \\\n",
        "#     --model_file best_0.pt \\\n",
        "#     --target_domain Rural \\\n",
        "#     --store drive"
      ]
    },
    {
      "cell_type": "markdown",
      "id": "BnA38rS_KMMc",
      "metadata": {
        "id": "BnA38rS_KMMc"
      },
      "source": [
        "## PIDNet_M"
      ]
    },
    {
      "cell_type": "markdown",
      "id": "YtKcOmewC6x5",
      "metadata": {
        "id": "YtKcOmewC6x5"
      },
      "source": [
        "### Version 0"
      ]
    },
    {
      "cell_type": "code",
      "execution_count": null,
      "id": "1ftVXlywKVOt",
      "metadata": {
        "id": "1ftVXlywKVOt"
      },
      "outputs": [],
      "source": [
        "# Train\n",
        "# !python3 sem_seg.py \\\n",
        "#     --train \\\n",
        "#     --model_name PIDNet_M \\\n",
        "#     --version 0 \\\n",
        "#     --source_domain Urban \\\n",
        "#     --batch_size 6 \\\n",
        "#     --criterion OhemCrossEntropyLoss \\\n",
        "#     --optimizer SGD \\\n",
        "#     --scheduler PolynomialLR \\\n",
        "#     --lr 0.001 \\\n",
        "#     --epochs 30 \\\n",
        "#     --store drive"
      ]
    },
    {
      "cell_type": "code",
      "execution_count": null,
      "id": "u5xumipQMISC",
      "metadata": {
        "id": "u5xumipQMISC"
      },
      "outputs": [],
      "source": [
        "# Test\n",
        "# !python3 sem_seg.py \\\n",
        "#     --test \\\n",
        "#     --model_name PIDNet_M \\\n",
        "#     --version 0 \\\n",
        "#     --model_file last_0.pt \\\n",
        "#     --target_domain Urban \\\n",
        "#     --store drive\n",
        "\n",
        "# !python3 sem_seg.py \\\n",
        "#     --test \\\n",
        "#     --model_name PIDNet_M \\\n",
        "#     --version 0 \\\n",
        "#     --model_file best_0.pt \\\n",
        "#     --target_domain Urban \\\n",
        "#     --store drive\n",
        "\n",
        "# !python3 sem_seg.py \\\n",
        "#     --test \\\n",
        "#     --model_name PIDNet_M \\\n",
        "#     --version 0 \\\n",
        "#     --model_file last_0.pt \\\n",
        "#     --target_domain Rural \\\n",
        "#     --store drive\n",
        "\n",
        "# !python3 sem_seg.py \\\n",
        "#     --test \\\n",
        "#     --model_name PIDNet_M \\\n",
        "#     --version 0 \\\n",
        "#     --model_file best_0.pt \\\n",
        "#     --target_domain Rural \\\n",
        "#     --store drive"
      ]
    },
    {
      "cell_type": "markdown",
      "id": "FvluhdnLDRO3",
      "metadata": {
        "id": "FvluhdnLDRO3"
      },
      "source": [
        "### Version 1"
      ]
    },
    {
      "cell_type": "code",
      "execution_count": null,
      "id": "hRv0pAN8C5x9",
      "metadata": {
        "id": "hRv0pAN8C5x9"
      },
      "outputs": [],
      "source": [
        "# Train\n",
        "# !python3 sem_seg.py \\\n",
        "#     --train \\\n",
        "#     --model_name PIDNet_M \\\n",
        "#     --version 1 \\\n",
        "#     --source_domain Urban \\\n",
        "#     --horizontal_flip_augmentation \\\n",
        "#     --shift_scale_rotate_augmentation \\\n",
        "#     --random_crop_augmentation \\\n",
        "#     --batch_size 6 \\\n",
        "#     --criterion OhemCrossEntropyLoss \\\n",
        "#     --optimizer SGD \\\n",
        "#     --scheduler PolynomialLR \\\n",
        "#     --lr 0.001 \\\n",
        "#     --epochs 30 \\\n",
        "#     --store drive"
      ]
    },
    {
      "cell_type": "code",
      "execution_count": null,
      "id": "daeCc2WaDT_j",
      "metadata": {
        "id": "daeCc2WaDT_j"
      },
      "outputs": [],
      "source": [
        "# Test\n",
        "# !python3 sem_seg.py \\\n",
        "#     --test \\\n",
        "#     --model_name PIDNet_M \\\n",
        "#     --version 1 \\\n",
        "#     --model_file last_0.pt \\\n",
        "#     --target_domain Urban \\\n",
        "#     --store drive\n",
        "\n",
        "# !python3 sem_seg.py \\\n",
        "#     --test \\\n",
        "#     --model_name PIDNet_M \\\n",
        "#     --version 1 \\\n",
        "#     --model_file best_0.pt \\\n",
        "#     --target_domain Urban \\\n",
        "#     --store drive\n",
        "\n",
        "# !python3 sem_seg.py \\\n",
        "#     --test \\\n",
        "#     --model_name PIDNet_M \\\n",
        "#     --version 1 \\\n",
        "#     --model_file last_0.pt \\\n",
        "#     --target_domain Rural \\\n",
        "#     --store drive\n",
        "\n",
        "# !python3 sem_seg.py \\\n",
        "#     --test \\\n",
        "#     --model_name PIDNet_M \\\n",
        "#     --version 1 \\\n",
        "#     --model_file best_0.pt \\\n",
        "#     --target_domain Rural \\\n",
        "#     --store drive"
      ]
    },
    {
      "cell_type": "markdown",
      "id": "G2XCiN7iDU5T",
      "metadata": {
        "id": "G2XCiN7iDU5T"
      },
      "source": [
        "## PIDNet_M_DACS"
      ]
    },
    {
      "cell_type": "markdown",
      "id": "hJ9iojTQDYvZ",
      "metadata": {
        "id": "hJ9iojTQDYvZ"
      },
      "source": [
        "### Version 0"
      ]
    },
    {
      "cell_type": "code",
      "execution_count": null,
      "id": "p0_duXRCKRT7",
      "metadata": {
        "id": "p0_duXRCKRT7"
      },
      "outputs": [],
      "source": [
        "# Train\n",
        "# !python3 sem_seg_dacs.py \\\n",
        "#     --train \\\n",
        "#     --model_name PIDNet_M \\\n",
        "#     --version 0 \\\n",
        "#     --batch_size 6 \\\n",
        "#     --augment_mixed \\\n",
        "#     --random_crop_augmentation \\\n",
        "#     --horizontal_flip_augmentation \\\n",
        "#     --shift_scale_rotate_augmentation \\\n",
        "#     --lr 0.001 \\\n",
        "#     --epochs 30 \\\n",
        "#     --store drive"
      ]
    },
    {
      "cell_type": "code",
      "execution_count": null,
      "id": "cVWm5h-kMtxl",
      "metadata": {
        "id": "cVWm5h-kMtxl"
      },
      "outputs": [],
      "source": [
        "# Test\n",
        "# !python3 sem_seg_dacs.py \\\n",
        "#     --test \\\n",
        "#     --model_name PIDNet_M \\\n",
        "#     --version 0 \\\n",
        "#     --model_file last_0.pt \\\n",
        "#     --target_domain Urban \\\n",
        "#     --store drive\n",
        "\n",
        "# !python3 sem_seg_dacs.py \\\n",
        "#     --test \\\n",
        "#     --model_name PIDNet_M \\\n",
        "#     --version 0 \\\n",
        "#     --model_file best_0.pt \\\n",
        "#     --target_domain Urban \\\n",
        "#     --store drive\n",
        "\n",
        "# !python3 sem_seg_dacs.py \\\n",
        "#     --test \\\n",
        "#     --model_name PIDNet_M \\\n",
        "#     --version 0 \\\n",
        "#     --model_file last_0.pt \\\n",
        "#     --target_domain Rural \\\n",
        "#     --store drive\n",
        "\n",
        "# !python3 sem_seg_dacs.py \\\n",
        "#     --test \\\n",
        "#     --model_name PIDNet_M \\\n",
        "#     --version 0 \\\n",
        "#     --model_file best_0.pt \\\n",
        "#     --target_domain Rural \\\n",
        "#     --store drive"
      ]
    },
    {
      "cell_type": "markdown",
      "id": "qW11WHf-D0rs",
      "metadata": {
        "id": "qW11WHf-D0rs"
      },
      "source": [
        "## PIDNet_M_DACS_GCW_LDQ"
      ]
    },
    {
      "cell_type": "code",
      "execution_count": null,
      "id": "78HA1MPMMWmr",
      "metadata": {
        "id": "78HA1MPMMWmr"
      },
      "outputs": [],
      "source": [
        "# Train\n",
        "# !python3 sem_seg_dacs_gcw_ldq.py \\\n",
        "#     --train \\\n",
        "#     --resume \\\n",
        "#     --resume_epoch 7 \\\n",
        "#     --gcw \\\n",
        "#     --ldq \\\n",
        "#     --model_name PIDNet_M \\\n",
        "#     --version 0 \\\n",
        "#     --batch_size 6 \\\n",
        "#     --augment_mixed \\\n",
        "#     --random_crop_augmentation \\\n",
        "#     --horizontal_flip_augmentation \\\n",
        "#     --shift_scale_rotate_augmentation \\\n",
        "#     --lr 0.001 \\\n",
        "#     --epochs 30 \\\n",
        "#     --store drive"
      ]
    },
    {
      "cell_type": "code",
      "execution_count": null,
      "id": "y-LUjHBwMjvc",
      "metadata": {
        "id": "y-LUjHBwMjvc"
      },
      "outputs": [],
      "source": [
        "# Test\n",
        "# !python3 sem_seg_dacs_gcw_ldq.py \\\n",
        "#     --test \\\n",
        "#     --model_name PIDNet_M \\\n",
        "#     --version 0 \\\n",
        "#     --model_file last_0.pt \\\n",
        "#     --target_domain Urban \\\n",
        "#     --store drive\n",
        "\n",
        "# !python3 sem_seg_dacs_gcw_ldq.py \\\n",
        "#     --test \\\n",
        "#     --model_name PIDNet_M \\\n",
        "#     --version 0 \\\n",
        "#     --model_file best_0.pt \\\n",
        "#     --target_domain Urban \\\n",
        "#     --store drive\n",
        "\n",
        "# !python3 sem_seg_dacs_gcw_ldq.py \\\n",
        "#     --test \\\n",
        "#     --model_name PIDNet_M \\\n",
        "#     --version 0 \\\n",
        "#     --model_file last_0.pt \\\n",
        "#     --target_domain Rural \\\n",
        "#     --store drive\n",
        "\n",
        "# !python3 sem_seg_dacs_gcw_ldq.py \\\n",
        "#     --test \\\n",
        "#     --model_name PIDNet_M \\\n",
        "#     --version 0 \\\n",
        "#     --model_file best_0.pt \\\n",
        "#     --target_domain Rural \\\n",
        "#     --store drive"
      ]
    }
  ],
  "metadata": {
    "accelerator": "GPU",
    "colab": {
      "gpuType": "T4",
      "provenance": []
    },
    "kernelspec": {
      "display_name": "Python 3",
      "name": "python3"
    },
    "language_info": {
      "codemirror_mode": {
        "name": "ipython",
        "version": 3
      },
      "file_extension": ".py",
      "mimetype": "text/x-python",
      "name": "python",
      "nbconvert_exporter": "python",
      "pygments_lexer": "ipython3",
      "version": "3.12.7"
    }
  },
  "nbformat": 4,
  "nbformat_minor": 5
}
